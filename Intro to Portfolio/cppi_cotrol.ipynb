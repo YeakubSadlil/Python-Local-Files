{
 "cells": [
  {
   "cell_type": "code",
   "execution_count": 117,
   "id": "2fc2dd13-49a1-4340-ae5c-cc806259131a",
   "metadata": {
    "canvas": {
     "comments": [],
     "componentType": "CodeCell",
     "copiedOriginId": null,
     "diskcache": false,
     "headerColor": "transparent",
     "id": "f0105e47-0b2e-4fd0-a9be-26ec00746bf4",
     "isComponent": false,
     "name": "",
     "parents": []
    },
    "tags": []
   },
   "outputs": [],
   "source": [
    "import ipywidgets as widgets\n",
    "import matplotlib.pyplot as plt\n",
    "import edhec_risk_kit_129 as erk\n",
    "import pandas as pd\n",
    "import numpy as np"
   ]
  },
  {
   "cell_type": "code",
   "execution_count": 160,
   "id": "e0263e1e-ce61-4e7c-b46d-5ec31773fe32",
   "metadata": {
    "canvas": {
     "comments": [],
     "componentType": "CodeCell",
     "copiedOriginId": null,
     "diskcache": false,
     "headerColor": "transparent",
     "id": "50ea9e75-06f8-4cae-9ef3-e19c8973bc58",
     "isComponent": false,
     "name": "",
     "parents": []
    }
   },
   "outputs": [],
   "source": [
    "def show_cppi(n_scenerios=50,mu=0.07,sigma=0.15,m=3,floor=0.0,riskfree_rate=0.03,y_max=100):\n",
    "    start = 100\n",
    "    sim_rets = erk.gbm(n_scenarios=n_scenerios,mu=mu, sigma= sigma, prices=False, steps_per_year=12)\n",
    "    risk_r = pd.DataFrame(sim_rets)\n",
    "    btr = erk.run_cppi(risky_r=pd.DataFrame(risk_r),riskfree_rate=riskfree_rate,m=m,start=start,floor=floor)\n",
    "    wealth = btr[\"Wealth\"]\n",
    "    y_max = wealth.values.max()*y_max/100\n",
    "    terminal_wealth = wealth.iloc[-1]\n",
    "    tw_mean = terminal_wealth.mean()\n",
    "    tw_median = terminal_wealth.median()\n",
    "    failure_mask = np.less(terminal_wealth, start*floor)\n",
    "    n_failures = failure_mask.sum()\n",
    "    p_fail = n_failures/n_scenerios\n",
    "    e_shortfall = np.dot(tv-start*floor,failure_mask)/n_failures if n_failures > 0 else 0.0\n",
    "    \n",
    "    fig,(wealth_ax,hist_ax) = plt.subplots(nrows=1,ncols=2,sharey=True,gridspec_kw={'width_ratios':[3,2]},figsize=(24,9))\n",
    "    plt.subplots_adjust(wspace=0)\n",
    "    wealth.plot(ax=wealth_ax,legend=False,alpha=0.3,color=\"red\")\n",
    "    wealth_ax.axhline(y=start,ls=\":\",color=\"black\")\n",
    "    wealth_ax.set_ylim(top=y_max)\n",
    "    wealth_ax.axhline(y=start*floor, ls=\"--\", color=\"red\")\n",
    "    \n",
    "    terminal_wealth.plot.hist(ax=hist_ax,bins=50,ec=\"w\", fc=\"indianred\", orientation='horizontal')\n",
    "    hist_ax.axhline(y=start,ls=\":\",color=\"black\")\n",
    "    hist_ax.axhline(y=tw_mean,ls=\":\",color=\"blue\")\n",
    "    hist_ax.axhline(y=tw_median,ls=\":\",color=\"purple\")\n",
    "    hist_ax.annotate(f\"Mean : ${int(tw_mean)}\",xy=(0.7,0.9),xycoords='axes fraction', fontsize=24)\n",
    "    hist_ax.annotate(f\"Violations : ${int(n_failures)}\",xy=(0.7,0.85),xycoords='axes fraction', fontsize=24)    "
   ]
  },
  {
   "cell_type": "code",
   "execution_count": 162,
   "id": "23b0f36b-faf7-4839-8e77-e73d09acba94",
   "metadata": {
    "canvas": {
     "comments": [],
     "componentType": "CodeCell",
     "copiedOriginId": null,
     "diskcache": false,
     "headerColor": "transparent",
     "id": "27dc15b5-c4ca-4c65-8678-3256ac04acd5",
     "isComponent": false,
     "name": "",
     "parents": []
    }
   },
   "outputs": [],
   "source": [
    "cppi_controls = widgets.interactive(show_cppi,n_scenerios=widgets.IntSlider(min=1,max=1000,step=5,value=50),\n",
    "                                    mu=(0.0,+0.2, 0.01),\n",
    "                                    sigma=(0,0.3,0.05),\n",
    "                                    m=(1,5,0.5),\n",
    "                                    riskfree_rate=(0.0,0.05,0.01),\n",
    "                                    y_max=widgets.IntSlider(min=1,max=100,step=5,value=50))"
   ]
  },
  {
   "cell_type": "code",
   "execution_count": 164,
   "id": "903044f2-5720-45cd-a2ca-b2d8eab7132f",
   "metadata": {
    "canvas": {
     "comments": [],
     "componentType": "CodeCell",
     "copiedOriginId": null,
     "diskcache": false,
     "headerColor": "transparent",
     "id": "b690f2c2-5a0a-4e0e-b008-5a73e0e0eeae",
     "isComponent": false,
     "name": "",
     "parents": []
    }
   },
   "outputs": [
    {
     "data": {
      "application/vnd.jupyter.widget-view+json": {
       "model_id": "32012a3f598540f0a920e6f5783eac75",
       "version_major": 2,
       "version_minor": 0
      },
      "text/plain": [
       "interactive(children=(IntSlider(value=50, description='n_scenerios', max=1000, min=1, step=5), FloatSlider(val…"
      ]
     },
     "metadata": {},
     "output_type": "display_data"
    }
   ],
   "source": [
    "display(cppi_controls)"
   ]
  },
  {
   "cell_type": "code",
   "execution_count": null,
   "id": "2b705deb-8654-4daf-976c-189654a0be5f",
   "metadata": {
    "canvas": {
     "comments": [],
     "componentType": "CodeCell",
     "copiedOriginId": null,
     "diskcache": false,
     "headerColor": "transparent",
     "id": "73eb1e68-e137-4e3f-b509-eba9b19c4c97",
     "isComponent": false,
     "name": "",
     "parents": []
    }
   },
   "outputs": [],
   "source": []
  },
  {
   "cell_type": "code",
   "execution_count": null,
   "id": "290e7c86-6af0-4444-9da4-e673b08924b2",
   "metadata": {
    "canvas": {
     "comments": [],
     "componentType": "CodeCell",
     "copiedOriginId": null,
     "diskcache": false,
     "headerColor": "transparent",
     "id": "e15b2df3-715b-47dc-b7b2-69130be50d36",
     "isComponent": false,
     "name": "",
     "parents": []
    }
   },
   "outputs": [],
   "source": []
  }
 ],
 "metadata": {
  "canvas": {
   "colorPalette": [
    "inherit",
    "inherit",
    "inherit",
    "inherit",
    "inherit",
    "inherit",
    "inherit",
    "inherit",
    "inherit",
    "inherit"
   ],
   "parameters": [],
   "version": "1.0"
  },
  "kernelspec": {
   "display_name": "Python 3 (ipykernel)",
   "language": "python",
   "name": "python3"
  },
  "language_info": {
   "codemirror_mode": {
    "name": "ipython",
    "version": 3
   },
   "file_extension": ".py",
   "mimetype": "text/x-python",
   "name": "python",
   "nbconvert_exporter": "python",
   "pygments_lexer": "ipython3",
   "version": "3.9.7"
  }
 },
 "nbformat": 4,
 "nbformat_minor": 5
}
