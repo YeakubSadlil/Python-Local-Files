{
 "cells": [
  {
   "cell_type": "code",
   "execution_count": 5,
   "id": "cc515a98",
   "metadata": {},
   "outputs": [],
   "source": [
    "import pandas as pd\n",
    "data = pd.read_csv(\"data/Portfolios_Formed_on_ME_monthly_EW.csv\")\n",
    "rets = data[[\"Lo 10\",\"Hi 10\"]]\n",
    "rets.columns = [\"SmallCap\",\"LargeCap\"]\n",
    "rets = rets/100\n",
    "rets.plot.line()"
   ]
  },
  {
   "cell_type": "code",
   "execution_count": 6,
   "id": "a4c11f41",
   "metadata": {},
   "outputs": [],
   "source": [
    "rets"
   ]
  }
 ],
 "metadata": {
  "kernelspec": {
   "display_name": "Python 3 (ipykernel)",
   "language": "python",
   "name": "python3"
  },
  "language_info": {
   "codemirror_mode": {
    "name": "ipython",
    "version": 3
   },
   "file_extension": ".py",
   "mimetype": "text/x-python",
   "name": "python",
   "nbconvert_exporter": "python",
   "pygments_lexer": "ipython3",
   "version": "3.9.18"
  }
 },
 "nbformat": 4,
 "nbformat_minor": 5
}
