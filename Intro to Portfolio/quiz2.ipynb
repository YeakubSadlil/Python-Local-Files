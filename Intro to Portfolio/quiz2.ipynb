{
 "cells": [
  {
   "cell_type": "markdown",
   "metadata": {},
   "source": [
    "1. Use the EDHEC Hedge Fund Indices data set that we used in the lab assignment as well as in the previous week’s assignments. Load them into Python and perform the following analysis based on data since 2000 (including all of 2000): What was the Monthly Parametric Gaussian VaR at the 1% level (as a +ve number) of the Distressed Securities strategy?"
   ]
  },
  {
   "cell_type": "code",
   "execution_count": 80,
   "metadata": {},
   "outputs": [
    {
     "name": "stdout",
     "output_type": "stream",
     "text": [
      "The autoreload extension is already loaded. To reload it, use:\n",
      "  %reload_ext autoreload\n"
     ]
    }
   ],
   "source": [
    "import pandas as pd\n",
    "import numpy as np\n",
    "import quiz_kit as qk\n",
    "%load_ext autoreload\n",
    "%autoreload 2"
   ]
  },
  {
   "cell_type": "code",
   "execution_count": 75,
   "metadata": {},
   "outputs": [
    {
     "name": "stdout",
     "output_type": "stream",
     "text": [
      "The answer is 3.14\n"
     ]
    }
   ],
   "source": [
    "hfi = qk.get_hfi_returns()\n",
    "hfi = hfi[\"2000\":]\n",
    "var_gaussian = qk.var_gaussian(hfi[[\"Distressed Securities\"]],level=1,modified=False)[\"Distressed Securities\"]\n",
    "print(f'The answer is {var_gaussian * 100:.2f}')"
   ]
  },
  {
   "cell_type": "markdown",
   "metadata": {},
   "source": [
    "2. Use the same data set at the previous question. What was the 1% VaR for the same strategy after applying the Cornish-Fisher Adjustment?"
   ]
  },
  {
   "cell_type": "code",
   "execution_count": 76,
   "metadata": {},
   "outputs": [
    {
     "name": "stdout",
     "output_type": "stream",
     "text": [
      "The answer is 4.97\n"
     ]
    }
   ],
   "source": [
    "var_gaussian = qk.var_gaussian(hfi[[\"Distressed Securities\"]],level=1,modified=True)[\"Distressed Securities\"]\n",
    "print(f'The answer is {var_gaussian * 100:.2f}')"
   ]
  },
  {
   "cell_type": "markdown",
   "metadata": {},
   "source": [
    "3. Use the same dataset as the previous question. What was the Monthly Historic VaR at the 1% level (as a +ve number) of the Distressed Securities strategy?"
   ]
  },
  {
   "cell_type": "code",
   "execution_count": 77,
   "metadata": {},
   "outputs": [
    {
     "name": "stdout",
     "output_type": "stream",
     "text": [
      "The answer is 4.26\n"
     ]
    }
   ],
   "source": [
    "var_historic = qk.var_historic(hfi[[\"Distressed Securities\"]],level=1)[\"Distressed Securities\"]\n",
    "print(f'The answer is {var_historic * 100:.2f}')"
   ]
  },
  {
   "cell_type": "markdown",
   "metadata": {},
   "source": [
    "4. Next, load the 30 industry return data using the erk.get_ind_returns() function that we developed during the lab sessions. For purposes of the remaining questions, use data during the 5 year period 2013-2017 (both inclusive) to estimate the expected returns as well as the covariance matrix. To be able to respond to the questions, you will need to build the MSR, EW and GMV portfolios consisting of the “Books”, “Steel”, \"Oil\", and \"Mines\" industries. Assume the risk free rate over the 5 year period is 10%.\n",
    "What is the weight of Steel in the EW Portfolio?"
   ]
  },
  {
   "cell_type": "code",
   "execution_count": 83,
   "metadata": {},
   "outputs": [
    {
     "name": "stdout",
     "output_type": "stream",
     "text": [
      "The answer is 25.0\n"
     ]
    }
   ],
   "source": [
    "l = [\"Books\", \"Steel\", \"Oil\", \"Mines\"]\n",
    "ind = qk.get_ind_returns()[\"2013\":\"2017\"][l]\n",
    "#In equally weighted portfolio, each industry is 25%\n",
    "print(f'The answer is 25.0')"
   ]
  },
  {
   "cell_type": "markdown",
   "metadata": {},
   "source": [
    "5. What is the weight of the largest component of the MSR portfolio?"
   ]
  },
  {
   "cell_type": "code",
   "execution_count": 98,
   "metadata": {},
   "outputs": [
    {
     "name": "stdout",
     "output_type": "stream",
     "text": [
      "The answer is 100.00\n"
     ]
    }
   ],
   "source": [
    "er = qk.annualize_rets(ind,12)\n",
    "cov = ind.cov()\n",
    "msr_weights = qk.msr(0.1, er,cov)\n",
    "max_weight = np.argmax(msr_weights)\n",
    "print(f'The answer is {msr_weights[max_weight] * 100:.2f}')\n"
   ]
  },
  {
   "cell_type": "markdown",
   "metadata": {},
   "source": [
    "6. Which of the 4 components has the largest weight in the MSR portfolio?"
   ]
  },
  {
   "cell_type": "code",
   "execution_count": 86,
   "metadata": {},
   "outputs": [
    {
     "name": "stdout",
     "output_type": "stream",
     "text": [
      "The answer is Steel\n"
     ]
    }
   ],
   "source": [
    "print(f'The answer is {l[max_weight]}')"
   ]
  },
  {
   "cell_type": "markdown",
   "metadata": {},
   "source": [
    "7. How many of the components of the MSR portfolio have non-zero weights?"
   ]
  },
  {
   "cell_type": "code",
   "execution_count": 89,
   "metadata": {},
   "outputs": [
    {
     "name": "stdout",
     "output_type": "stream",
     "text": [
      "The answer is 1\n"
     ]
    }
   ],
   "source": [
    "non_zero_elems = msr_weights[msr_weights > 0.0000000001].size\n",
    "print(f'The answer is {non_zero_elems}')"
   ]
  },
  {
   "cell_type": "code",
   "execution_count": 97,
   "metadata": {},
   "outputs": [],
   "source": [
    "gmv_weights = qk.gmv(cov)"
   ]
  },
  {
   "cell_type": "markdown",
   "metadata": {},
   "source": [
    "8. What is the weight of the largest component of the GMV portfolio?"
   ]
  },
  {
   "cell_type": "code",
   "execution_count": 99,
   "metadata": {},
   "outputs": [
    {
     "name": "stdout",
     "output_type": "stream",
     "text": [
      "The answer is 47.70\n"
     ]
    }
   ],
   "source": [
    "max_weight = np.argmax(gmv_weights)\n",
    "print(f'The answer is {gmv_weights[max_weight] * 100:.2f}')"
   ]
  },
  {
   "cell_type": "markdown",
   "metadata": {},
   "source": [
    "9. Which of the 4 components has the largest weight in the GMV portfolio?"
   ]
  },
  {
   "cell_type": "code",
   "execution_count": 100,
   "metadata": {},
   "outputs": [
    {
     "name": "stdout",
     "output_type": "stream",
     "text": [
      "The answer is Books\n"
     ]
    }
   ],
   "source": [
    "print(f'The answer is {l[max_weight]}')"
   ]
  },
  {
   "cell_type": "markdown",
   "metadata": {},
   "source": [
    "10.How many of the components of the GMV portfolio have non-zero weights?"
   ]
  },
  {
   "cell_type": "code",
   "execution_count": 102,
   "metadata": {},
   "outputs": [
    {
     "name": "stdout",
     "output_type": "stream",
     "text": [
      "The answer is 3\n"
     ]
    }
   ],
   "source": [
    "non_zero_elems = gmv_weights[gmv_weights > 0.0000000001].size\n",
    "print(f'The answer is {non_zero_elems}')"
   ]
  },
  {
   "cell_type": "markdown",
   "metadata": {},
   "source": [
    "11. Assume two different investors invested in the GMV and MSR portfolios at the start of 2018 using the weights we just computed. Compute the annualized volatility of these two portfolios over the next 12 months of 2018? (Hint: Use the portfolio_vol code we developed in the lab and use ind[“2018”][l].cov() to compute the covariance matrix for 2018, assuming that the variable ind holds the industry returns and the variable l holds the list of industry portfolios you are willing to hold. Don’t forget to annualize the volatility)\n",
    "What would be the annualized volatility over 2018 using the weights of the MSR portfolio?"
   ]
  },
  {
   "cell_type": "code",
   "execution_count": 104,
   "metadata": {},
   "outputs": [
    {
     "name": "stdout",
     "output_type": "stream",
     "text": [
      "The answer is 21.98\n"
     ]
    }
   ],
   "source": [
    "ind = qk.get_ind_returns()[\"2018\":][[\"Books\", \"Steel\", \"Oil\", \"Mines\"]]\n",
    "er = qk.annualize_rets(ind,12)\n",
    "cov = ind.cov()\n",
    "vols = qk.portfolio_vol(msr_weights, cov)*(12 ** 0.5)\n",
    "print(f'The answer is {vols*100:.2f}')"
   ]
  },
  {
   "cell_type": "markdown",
   "metadata": {},
   "source": [
    "12. What would be the annualized volatility over 2018 using the weights of the GMV portfolio? (Reminder and Hint: Use the portfolio_vol code we developed in the lab and use ind[“2018”][l].cov() to compute the covariance matrix for 2018, assuming that the variable ind holds the industry returns and the variable l holds the list of industry portfolios you are willing to hold. Don’t forget to annualize the volatility)"
   ]
  },
  {
   "cell_type": "code",
   "execution_count": 105,
   "metadata": {},
   "outputs": [
    {
     "name": "stdout",
     "output_type": "stream",
     "text": [
      "The answer is 18.97\n"
     ]
    }
   ],
   "source": [
    "vols = qk.portfolio_vol(gmv_weights, cov)*(12 ** 0.5)\n",
    "print(f'The answer is {vols*100:.2f}')"
   ]
  },
  {
   "cell_type": "code",
   "execution_count": null,
   "metadata": {},
   "outputs": [],
   "source": []
  }
 ],
 "metadata": {
  "kernelspec": {
   "display_name": "Python 3",
   "language": "python",
   "name": "python3"
  },
  "language_info": {
   "codemirror_mode": {
    "name": "ipython",
    "version": 3
   },
   "file_extension": ".py",
   "mimetype": "text/x-python",
   "name": "python",
   "nbconvert_exporter": "python",
   "pygments_lexer": "ipython3",
   "version": "3.7.3"
  }
 },
 "nbformat": 4,
 "nbformat_minor": 2
}
