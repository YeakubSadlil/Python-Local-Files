{
 "cells": [
  {
   "cell_type": "code",
   "execution_count": 111,
   "id": "0b56cb2c",
   "metadata": {},
   "outputs": [
    {
     "name": "stdout",
     "output_type": "stream",
     "text": [
      "The autoreload extension is already loaded. To reload it, use:\n",
      "  %reload_ext autoreload\n"
     ]
    }
   ],
   "source": [
    "%load_ext autoreload\n",
    "%autoreload 2\n",
    "import pandas as pd\n",
    "import numpy as np"
   ]
  },
  {
   "cell_type": "code",
   "execution_count": 100,
   "id": "0fd88870",
   "metadata": {
    "scrolled": true
   },
   "outputs": [
    {
     "data": {
      "text/html": [
       "<div>\n",
       "<style scoped>\n",
       "    .dataframe tbody tr th:only-of-type {\n",
       "        vertical-align: middle;\n",
       "    }\n",
       "\n",
       "    .dataframe tbody tr th {\n",
       "        vertical-align: top;\n",
       "    }\n",
       "\n",
       "    .dataframe thead th {\n",
       "        text-align: right;\n",
       "    }\n",
       "</style>\n",
       "<table border=\"1\" class=\"dataframe\">\n",
       "  <thead>\n",
       "    <tr style=\"text-align: right;\">\n",
       "      <th></th>\n",
       "      <th>Convertible Arbitrage</th>\n",
       "      <th>CTA Global</th>\n",
       "      <th>Distressed Securities</th>\n",
       "      <th>Emerging Markets</th>\n",
       "      <th>Equity Market Neutral</th>\n",
       "      <th>Event Driven</th>\n",
       "      <th>Fixed Income Arbitrage</th>\n",
       "      <th>Global Macro</th>\n",
       "      <th>Long/Short Equity</th>\n",
       "      <th>Merger Arbitrage</th>\n",
       "      <th>Relative Value</th>\n",
       "      <th>Short Selling</th>\n",
       "      <th>Funds Of Funds</th>\n",
       "    </tr>\n",
       "    <tr>\n",
       "      <th>date</th>\n",
       "      <th></th>\n",
       "      <th></th>\n",
       "      <th></th>\n",
       "      <th></th>\n",
       "      <th></th>\n",
       "      <th></th>\n",
       "      <th></th>\n",
       "      <th></th>\n",
       "      <th></th>\n",
       "      <th></th>\n",
       "      <th></th>\n",
       "      <th></th>\n",
       "      <th></th>\n",
       "    </tr>\n",
       "  </thead>\n",
       "  <tbody>\n",
       "    <tr>\n",
       "      <th>1997-01</th>\n",
       "      <td>0.0119</td>\n",
       "      <td>0.0393</td>\n",
       "      <td>0.0178</td>\n",
       "      <td>0.0791</td>\n",
       "      <td>0.0189</td>\n",
       "      <td>0.0213</td>\n",
       "      <td>0.0191</td>\n",
       "      <td>0.0573</td>\n",
       "      <td>0.0281</td>\n",
       "      <td>0.0150</td>\n",
       "      <td>0.0180</td>\n",
       "      <td>-0.0166</td>\n",
       "      <td>0.0317</td>\n",
       "    </tr>\n",
       "    <tr>\n",
       "      <th>1997-02</th>\n",
       "      <td>0.0123</td>\n",
       "      <td>0.0298</td>\n",
       "      <td>0.0122</td>\n",
       "      <td>0.0525</td>\n",
       "      <td>0.0101</td>\n",
       "      <td>0.0084</td>\n",
       "      <td>0.0122</td>\n",
       "      <td>0.0175</td>\n",
       "      <td>-0.0006</td>\n",
       "      <td>0.0034</td>\n",
       "      <td>0.0118</td>\n",
       "      <td>0.0426</td>\n",
       "      <td>0.0106</td>\n",
       "    </tr>\n",
       "    <tr>\n",
       "      <th>1997-03</th>\n",
       "      <td>0.0078</td>\n",
       "      <td>-0.0021</td>\n",
       "      <td>-0.0012</td>\n",
       "      <td>-0.0120</td>\n",
       "      <td>0.0016</td>\n",
       "      <td>-0.0023</td>\n",
       "      <td>0.0109</td>\n",
       "      <td>-0.0119</td>\n",
       "      <td>-0.0084</td>\n",
       "      <td>0.0060</td>\n",
       "      <td>0.0010</td>\n",
       "      <td>0.0778</td>\n",
       "      <td>-0.0077</td>\n",
       "    </tr>\n",
       "    <tr>\n",
       "      <th>1997-04</th>\n",
       "      <td>0.0086</td>\n",
       "      <td>-0.0170</td>\n",
       "      <td>0.0030</td>\n",
       "      <td>0.0119</td>\n",
       "      <td>0.0119</td>\n",
       "      <td>-0.0005</td>\n",
       "      <td>0.0130</td>\n",
       "      <td>0.0172</td>\n",
       "      <td>0.0084</td>\n",
       "      <td>-0.0001</td>\n",
       "      <td>0.0122</td>\n",
       "      <td>-0.0129</td>\n",
       "      <td>0.0009</td>\n",
       "    </tr>\n",
       "    <tr>\n",
       "      <th>1997-05</th>\n",
       "      <td>0.0156</td>\n",
       "      <td>-0.0015</td>\n",
       "      <td>0.0233</td>\n",
       "      <td>0.0315</td>\n",
       "      <td>0.0189</td>\n",
       "      <td>0.0346</td>\n",
       "      <td>0.0118</td>\n",
       "      <td>0.0108</td>\n",
       "      <td>0.0394</td>\n",
       "      <td>0.0197</td>\n",
       "      <td>0.0173</td>\n",
       "      <td>-0.0737</td>\n",
       "      <td>0.0275</td>\n",
       "    </tr>\n",
       "  </tbody>\n",
       "</table>\n",
       "</div>"
      ],
      "text/plain": [
       "         Convertible Arbitrage  CTA Global  Distressed Securities  \\\n",
       "date                                                                \n",
       "1997-01                 0.0119      0.0393                 0.0178   \n",
       "1997-02                 0.0123      0.0298                 0.0122   \n",
       "1997-03                 0.0078     -0.0021                -0.0012   \n",
       "1997-04                 0.0086     -0.0170                 0.0030   \n",
       "1997-05                 0.0156     -0.0015                 0.0233   \n",
       "\n",
       "         Emerging Markets  Equity Market Neutral  Event Driven  \\\n",
       "date                                                             \n",
       "1997-01            0.0791                 0.0189        0.0213   \n",
       "1997-02            0.0525                 0.0101        0.0084   \n",
       "1997-03           -0.0120                 0.0016       -0.0023   \n",
       "1997-04            0.0119                 0.0119       -0.0005   \n",
       "1997-05            0.0315                 0.0189        0.0346   \n",
       "\n",
       "         Fixed Income Arbitrage  Global Macro  Long/Short Equity  \\\n",
       "date                                                               \n",
       "1997-01                  0.0191        0.0573             0.0281   \n",
       "1997-02                  0.0122        0.0175            -0.0006   \n",
       "1997-03                  0.0109       -0.0119            -0.0084   \n",
       "1997-04                  0.0130        0.0172             0.0084   \n",
       "1997-05                  0.0118        0.0108             0.0394   \n",
       "\n",
       "         Merger Arbitrage  Relative Value  Short Selling  Funds Of Funds  \n",
       "date                                                                      \n",
       "1997-01            0.0150          0.0180        -0.0166          0.0317  \n",
       "1997-02            0.0034          0.0118         0.0426          0.0106  \n",
       "1997-03            0.0060          0.0010         0.0778         -0.0077  \n",
       "1997-04           -0.0001          0.0122        -0.0129          0.0009  \n",
       "1997-05            0.0197          0.0173        -0.0737          0.0275  "
      ]
     },
     "execution_count": 100,
     "metadata": {},
     "output_type": "execute_result"
    }
   ],
   "source": [
    "import hedgefund as erk\n",
    "hfi = erk.get_hfi_returns()\n",
    "hfi.head()"
   ]
  },
  {
   "cell_type": "code",
   "execution_count": 61,
   "id": "65ae11d4",
   "metadata": {},
   "outputs": [
    {
     "data": {
      "text/plain": [
       "Convertible Arbitrage    0.005508\n",
       "CTA Global               0.004074\n",
       "Distressed Securities    0.006946\n",
       "Emerging Markets         0.006253\n",
       "Equity Market Neutral    0.004498\n",
       "dtype: float64"
      ]
     },
     "execution_count": 61,
     "metadata": {},
     "output_type": "execute_result"
    }
   ],
   "source": [
    "hfi.mean().head()"
   ]
  },
  {
   "cell_type": "code",
   "execution_count": 62,
   "id": "71a8dd36",
   "metadata": {},
   "outputs": [
    {
     "data": {
      "text/html": [
       "<div>\n",
       "<style scoped>\n",
       "    .dataframe tbody tr th:only-of-type {\n",
       "        vertical-align: middle;\n",
       "    }\n",
       "\n",
       "    .dataframe tbody tr th {\n",
       "        vertical-align: top;\n",
       "    }\n",
       "\n",
       "    .dataframe thead th {\n",
       "        text-align: right;\n",
       "    }\n",
       "</style>\n",
       "<table border=\"1\" class=\"dataframe\">\n",
       "  <thead>\n",
       "    <tr style=\"text-align: right;\">\n",
       "      <th></th>\n",
       "      <th>0</th>\n",
       "      <th>1</th>\n",
       "      <th>2</th>\n",
       "    </tr>\n",
       "  </thead>\n",
       "  <tbody>\n",
       "    <tr>\n",
       "      <th>Convertible Arbitrage</th>\n",
       "      <td>0.005508</td>\n",
       "      <td>0.0065</td>\n",
       "      <td>False</td>\n",
       "    </tr>\n",
       "    <tr>\n",
       "      <th>CTA Global</th>\n",
       "      <td>0.004074</td>\n",
       "      <td>0.0014</td>\n",
       "      <td>True</td>\n",
       "    </tr>\n",
       "    <tr>\n",
       "      <th>Distressed Securities</th>\n",
       "      <td>0.006946</td>\n",
       "      <td>0.0089</td>\n",
       "      <td>False</td>\n",
       "    </tr>\n",
       "    <tr>\n",
       "      <th>Emerging Markets</th>\n",
       "      <td>0.006253</td>\n",
       "      <td>0.0096</td>\n",
       "      <td>False</td>\n",
       "    </tr>\n",
       "    <tr>\n",
       "      <th>Equity Market Neutral</th>\n",
       "      <td>0.004498</td>\n",
       "      <td>0.0051</td>\n",
       "      <td>False</td>\n",
       "    </tr>\n",
       "    <tr>\n",
       "      <th>Event Driven</th>\n",
       "      <td>0.006344</td>\n",
       "      <td>0.0084</td>\n",
       "      <td>False</td>\n",
       "    </tr>\n",
       "    <tr>\n",
       "      <th>Fixed Income Arbitrage</th>\n",
       "      <td>0.004365</td>\n",
       "      <td>0.0055</td>\n",
       "      <td>False</td>\n",
       "    </tr>\n",
       "    <tr>\n",
       "      <th>Global Macro</th>\n",
       "      <td>0.005403</td>\n",
       "      <td>0.0038</td>\n",
       "      <td>True</td>\n",
       "    </tr>\n",
       "    <tr>\n",
       "      <th>Long/Short Equity</th>\n",
       "      <td>0.006331</td>\n",
       "      <td>0.0079</td>\n",
       "      <td>False</td>\n",
       "    </tr>\n",
       "    <tr>\n",
       "      <th>Merger Arbitrage</th>\n",
       "      <td>0.005356</td>\n",
       "      <td>0.0060</td>\n",
       "      <td>False</td>\n",
       "    </tr>\n",
       "    <tr>\n",
       "      <th>Relative Value</th>\n",
       "      <td>0.005792</td>\n",
       "      <td>0.0067</td>\n",
       "      <td>False</td>\n",
       "    </tr>\n",
       "    <tr>\n",
       "      <th>Short Selling</th>\n",
       "      <td>-0.001701</td>\n",
       "      <td>-0.0053</td>\n",
       "      <td>True</td>\n",
       "    </tr>\n",
       "    <tr>\n",
       "      <th>Funds Of Funds</th>\n",
       "      <td>0.004262</td>\n",
       "      <td>0.0052</td>\n",
       "      <td>False</td>\n",
       "    </tr>\n",
       "  </tbody>\n",
       "</table>\n",
       "</div>"
      ],
      "text/plain": [
       "                               0       1      2\n",
       "Convertible Arbitrage   0.005508  0.0065  False\n",
       "CTA Global              0.004074  0.0014   True\n",
       "Distressed Securities   0.006946  0.0089  False\n",
       "Emerging Markets        0.006253  0.0096  False\n",
       "Equity Market Neutral   0.004498  0.0051  False\n",
       "Event Driven            0.006344  0.0084  False\n",
       "Fixed Income Arbitrage  0.004365  0.0055  False\n",
       "Global Macro            0.005403  0.0038   True\n",
       "Long/Short Equity       0.006331  0.0079  False\n",
       "Merger Arbitrage        0.005356  0.0060  False\n",
       "Relative Value          0.005792  0.0067  False\n",
       "Short Selling          -0.001701 -0.0053   True\n",
       "Funds Of Funds          0.004262  0.0052  False"
      ]
     },
     "execution_count": 62,
     "metadata": {},
     "output_type": "execute_result"
    }
   ],
   "source": [
    "pd.concat([hfi.mean(),hfi.median(),hfi.mean()>hfi.median()],axis=1)"
   ]
  },
  {
   "cell_type": "markdown",
   "id": "675774cc",
   "metadata": {},
   "source": [
    "$$Skewness ....\\  S(R) = \\frac{E[(R-E(R)]^3}{\\sigma_R^3} $$"
   ]
  },
  {
   "cell_type": "code",
   "execution_count": 75,
   "id": "39a5b2ce",
   "metadata": {},
   "outputs": [
    {
     "data": {
      "text/plain": [
       "Convertible Arbitrage    -2.639592\n",
       "CTA Global                0.173699\n",
       "Distressed Securities    -1.300842\n",
       "Emerging Markets         -1.167067\n",
       "Equity Market Neutral    -2.124435\n",
       "Event Driven             -1.409154\n",
       "Fixed Income Arbitrage   -3.940320\n",
       "Global Macro              0.982922\n",
       "Long/Short Equity        -0.390227\n",
       "Merger Arbitrage         -1.320083\n",
       "Relative Value           -1.815470\n",
       "Short Selling             0.767975\n",
       "Funds Of Funds           -0.361783\n",
       "dtype: float64"
      ]
     },
     "execution_count": 75,
     "metadata": {},
     "output_type": "execute_result"
    }
   ],
   "source": [
    "erk.skewness(hfi)"
   ]
  },
  {
   "cell_type": "code",
   "execution_count": 74,
   "id": "ca23af70",
   "metadata": {
    "scrolled": true
   },
   "outputs": [
    {
     "data": {
      "text/plain": [
       "array([-2.63959223,  0.17369864, -1.30084204, -1.16706749, -2.12443538,\n",
       "       -1.40915356, -3.94032029,  0.98292188, -0.39022677, -1.32008333,\n",
       "       -1.81546975,  0.76797484, -0.36178308])"
      ]
     },
     "execution_count": 74,
     "metadata": {},
     "output_type": "execute_result"
    }
   ],
   "source": [
    "import scipy.stats\n",
    "scipy.stats.skew(hfi)"
   ]
  },
  {
   "cell_type": "code",
   "execution_count": 89,
   "id": "01c21311",
   "metadata": {},
   "outputs": [
    {
     "data": {
      "text/plain": [
       "(263, 13)"
      ]
     },
     "execution_count": 89,
     "metadata": {},
     "output_type": "execute_result"
    }
   ],
   "source": [
    "hfi.shape"
   ]
  },
  {
   "cell_type": "code",
   "execution_count": 103,
   "id": "b8c10076",
   "metadata": {},
   "outputs": [],
   "source": [
    "normal_rets = np.random.normal(0,0.15,size=(261,1))"
   ]
  },
  {
   "cell_type": "code",
   "execution_count": 104,
   "id": "3f127186",
   "metadata": {
    "scrolled": true
   },
   "outputs": [
    {
     "data": {
      "text/plain": [
       "0.04609481873847355"
      ]
     },
     "execution_count": 104,
     "metadata": {},
     "output_type": "execute_result"
    }
   ],
   "source": [
    "erk.skewness(normal_rets)"
   ]
  },
  {
   "cell_type": "markdown",
   "id": "01435881",
   "metadata": {},
   "source": [
    "$$Kartosis ....\\  S(R) = \\frac{E[(R-E(R)]^4}{\\sigma_R^4} $$"
   ]
  },
  {
   "cell_type": "code",
   "execution_count": 101,
   "id": "011bccf6",
   "metadata": {},
   "outputs": [
    {
     "data": {
      "text/plain": [
       "Convertible Arbitrage     23.280834\n",
       "CTA Global                 2.952960\n",
       "Distressed Securities      7.889983\n",
       "Emerging Markets           9.250788\n",
       "Equity Market Neutral     17.218555\n",
       "Event Driven               8.035828\n",
       "Fixed Income Arbitrage    29.842199\n",
       "Global Macro               5.741679\n",
       "Long/Short Equity          4.523893\n",
       "Merger Arbitrage           8.738950\n",
       "Relative Value            12.121208\n",
       "Short Selling              6.117772\n",
       "Funds Of Funds             7.070153\n",
       "dtype: float64"
      ]
     },
     "execution_count": 101,
     "metadata": {},
     "output_type": "execute_result"
    }
   ],
   "source": [
    "erk.kartosis(hfi)"
   ]
  },
  {
   "cell_type": "code",
   "execution_count": 105,
   "id": "ba39241b",
   "metadata": {},
   "outputs": [
    {
     "data": {
      "text/plain": [
       "2.738019883724614"
      ]
     },
     "execution_count": 105,
     "metadata": {},
     "output_type": "execute_result"
    }
   ],
   "source": [
    "erk.kartosis(normal_rets)"
   ]
  },
  {
   "cell_type": "code",
   "execution_count": 109,
   "id": "620d217e",
   "metadata": {},
   "outputs": [
    {
     "data": {
      "text/plain": [
       "array([-0.26198012])"
      ]
     },
     "execution_count": 109,
     "metadata": {},
     "output_type": "execute_result"
    }
   ],
   "source": [
    "scipy.stats.kurtosis(normal_rets)  # scipy provides excess kurtosis"
   ]
  },
  {
   "cell_type": "code",
   "execution_count": 110,
   "id": "7430fffa",
   "metadata": {
    "scrolled": true
   },
   "outputs": [
    {
     "data": {
      "text/plain": [
       "SignificanceResult(statistic=0.8388160525770235, pvalue=0.6574358894077279)"
      ]
     },
     "execution_count": 110,
     "metadata": {},
     "output_type": "execute_result"
    }
   ],
   "source": [
    "scipy.stats.jarque_bera(normal_rets)"
   ]
  },
  {
   "cell_type": "code",
   "execution_count": 112,
   "id": "5777173c",
   "metadata": {},
   "outputs": [
    {
     "data": {
      "text/plain": [
       "False"
      ]
     },
     "execution_count": 112,
     "metadata": {},
     "output_type": "execute_result"
    }
   ],
   "source": [
    "erk.is_normal(hfi)  # it is applying to the all columns"
   ]
  },
  {
   "cell_type": "code",
   "execution_count": 116,
   "id": "deeb06b2",
   "metadata": {},
   "outputs": [
    {
     "data": {
      "text/plain": [
       "Convertible Arbitrage     False\n",
       "CTA Global                 True\n",
       "Distressed Securities     False\n",
       "Emerging Markets          False\n",
       "Equity Market Neutral     False\n",
       "Event Driven              False\n",
       "Fixed Income Arbitrage    False\n",
       "Global Macro              False\n",
       "Long/Short Equity         False\n",
       "Merger Arbitrage          False\n",
       "Relative Value            False\n",
       "Short Selling             False\n",
       "Funds Of Funds            False\n",
       "dtype: bool"
      ]
     },
     "execution_count": 116,
     "metadata": {},
     "output_type": "execute_result"
    }
   ],
   "source": [
    "hfi.aggregate(erk.is_normal)  # it is applying to the every column"
   ]
  },
  {
   "cell_type": "code",
   "execution_count": null,
   "id": "14d2a524",
   "metadata": {},
   "outputs": [],
   "source": []
  }
 ],
 "metadata": {
  "kernelspec": {
   "display_name": "Python 3 (ipykernel)",
   "language": "python",
   "name": "python3"
  },
  "language_info": {
   "codemirror_mode": {
    "name": "ipython",
    "version": 3
   },
   "file_extension": ".py",
   "mimetype": "text/x-python",
   "name": "python",
   "nbconvert_exporter": "python",
   "pygments_lexer": "ipython3",
   "version": "3.9.18"
  }
 },
 "nbformat": 4,
 "nbformat_minor": 5
}
