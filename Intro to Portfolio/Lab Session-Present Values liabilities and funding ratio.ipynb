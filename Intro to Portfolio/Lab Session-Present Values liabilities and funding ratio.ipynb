{
 "cells": [
  {
   "cell_type": "code",
   "execution_count": 1,
   "id": "2fdbef01-6181-487f-8bcb-db3e53a69c7e",
   "metadata": {
    "canvas": {
     "comments": [],
     "componentType": "CodeCell",
     "copiedOriginId": null,
     "diskcache": false,
     "headerColor": "transparent",
     "id": "92642a72-6c7e-489d-9196-97a0f822f2ec",
     "isComponent": false,
     "name": "",
     "parents": []
    },
    "tags": []
   },
   "outputs": [],
   "source": [
    "import pandas as pd\n",
    "import numpy as np\n",
    "import edhec_risk_kit_129 as erk\n",
    "%load_ext autoreload\n",
    "%autoreload 2"
   ]
  },
  {
   "cell_type": "code",
   "execution_count": 2,
   "id": "071b97a4-ddd4-429f-ab8b-e5c6b4c29702",
   "metadata": {
    "canvas": {
     "comments": [],
     "componentType": "CodeCell",
     "copiedOriginId": null,
     "diskcache": false,
     "headerColor": "transparent",
     "id": "0e61d193-ceff-4deb-94f8-3cac11d5dcf6",
     "isComponent": false,
     "name": "",
     "parents": []
    }
   },
   "outputs": [],
   "source": [
    "def discount(t,r):\n",
    "    return (1+r)**(-t)"
   ]
  },
  {
   "cell_type": "code",
   "execution_count": 3,
   "id": "cf07c33f-5f14-4107-9ecb-73c5fab4184f",
   "metadata": {
    "canvas": {
     "comments": [],
     "componentType": "CodeCell",
     "copiedOriginId": null,
     "diskcache": false,
     "headerColor": "transparent",
     "id": "b8d77d92-bead-41dc-a07e-46ed8e60e827",
     "isComponent": false,
     "name": "",
     "parents": []
    }
   },
   "outputs": [
    {
     "data": {
      "text/plain": [
       "0.7440939148967249"
      ]
     },
     "execution_count": 3,
     "metadata": {},
     "output_type": "execute_result"
    }
   ],
   "source": [
    "discount(10, 0.03)"
   ]
  },
  {
   "cell_type": "code",
   "execution_count": 4,
   "id": "cc9c306c-c42a-44a7-aba4-ffc54044d058",
   "metadata": {
    "canvas": {
     "comments": [],
     "componentType": "CodeCell",
     "copiedOriginId": null,
     "diskcache": false,
     "headerColor": "transparent",
     "id": "63c8a27f-86f4-44de-8740-8cab5d3f24a5",
     "isComponent": false,
     "name": "",
     "parents": []
    }
   },
   "outputs": [],
   "source": [
    "def pv(l,r):\n",
    "    dates = l.index\n",
    "    discounts = discount(dates,r)\n",
    "    return (discounts*l).sum()"
   ]
  },
  {
   "cell_type": "code",
   "execution_count": 5,
   "id": "699e164a-220f-463b-a1bc-36e4cc96e220",
   "metadata": {
    "canvas": {
     "comments": [],
     "componentType": "CodeCell",
     "copiedOriginId": null,
     "diskcache": false,
     "headerColor": "transparent",
     "id": "cc10e029-47a1-4e9e-bf6e-58cc0d9a2798",
     "isComponent": false,
     "name": "",
     "parents": []
    }
   },
   "outputs": [
    {
     "data": {
      "text/plain": [
       "3.0    1.0\n",
       "3.5    1.5\n",
       "4.0    2.0\n",
       "4.5    2.5\n",
       "dtype: float64"
      ]
     },
     "execution_count": 5,
     "metadata": {},
     "output_type": "execute_result"
    }
   ],
   "source": [
    "liabilities = pd.Series([1,1.5,2,2.5],index=[3,3.5,4,4.5])\n",
    "liabilities"
   ]
  },
  {
   "cell_type": "code",
   "execution_count": 6,
   "id": "3cbcdfe6-149f-47e2-975b-3396a4df6f2f",
   "metadata": {
    "canvas": {
     "comments": [],
     "componentType": "CodeCell",
     "copiedOriginId": null,
     "diskcache": false,
     "headerColor": "transparent",
     "id": "50078cab-dac2-4b7d-b75a-fd190fe8fde8",
     "isComponent": false,
     "name": "",
     "parents": []
    }
   },
   "outputs": [
    {
     "data": {
      "text/plain": [
       "6.233320315080045"
      ]
     },
     "execution_count": 6,
     "metadata": {},
     "output_type": "execute_result"
    }
   ],
   "source": [
    "pv(liabilities,0.03)"
   ]
  },
  {
   "cell_type": "code",
   "execution_count": 14,
   "id": "11d56e98-d699-45df-9701-f1d492959537",
   "metadata": {
    "canvas": {
     "comments": [],
     "componentType": "CodeCell",
     "copiedOriginId": null,
     "diskcache": false,
     "headerColor": "transparent",
     "id": "b7abb5e4-4a28-430b-aa31-3ad009337bf0",
     "isComponent": false,
     "name": "",
     "parents": []
    }
   },
   "outputs": [
    {
     "data": {
      "text/plain": [
       "7.0"
      ]
     },
     "execution_count": 14,
     "metadata": {},
     "output_type": "execute_result"
    }
   ],
   "source": [
    "liabilities.sum()"
   ]
  },
  {
   "cell_type": "code",
   "execution_count": 16,
   "id": "6555619a-f349-4d4f-9f6e-378b9d0fb983",
   "metadata": {
    "canvas": {
     "comments": [],
     "componentType": "CodeCell",
     "copiedOriginId": null,
     "diskcache": false,
     "headerColor": "transparent",
     "id": "f5a173e9-cdf0-40ae-b169-621f209ab933",
     "isComponent": false,
     "name": "",
     "parents": []
    }
   },
   "outputs": [],
   "source": [
    "def funding_ratio(assets, liabilities, r):\n",
    "    return assets/pv(liabilities,r)"
   ]
  },
  {
   "cell_type": "code",
   "execution_count": 20,
   "id": "c858d9bd-05c2-475d-bb5c-eda712dfdbdc",
   "metadata": {
    "canvas": {
     "comments": [],
     "componentType": "CodeCell",
     "copiedOriginId": null,
     "diskcache": false,
     "headerColor": "transparent",
     "id": "f2009080-b3c7-4d6d-8804-b88a33790bc2",
     "isComponent": false,
     "name": "",
     "parents": []
    }
   },
   "outputs": [
    {
     "data": {
      "text/plain": [
       "1.0373579595689422"
      ]
     },
     "execution_count": 20,
     "metadata": {},
     "output_type": "execute_result"
    }
   ],
   "source": [
    "funding_ratio(5,liabilities, 0.1)"
   ]
  },
  {
   "cell_type": "code",
   "execution_count": 30,
   "id": "9747c4d2-108c-4269-9550-a2d8f938c5c7",
   "metadata": {
    "canvas": {
     "comments": [],
     "componentType": "CodeCell",
     "copiedOriginId": null,
     "diskcache": false,
     "headerColor": "transparent",
     "id": "097533bb-ae30-4377-bc39-d6777784e3bd",
     "isComponent": false,
     "name": "",
     "parents": []
    }
   },
   "outputs": [
    {
     "data": {
      "application/vnd.jupyter.widget-view+json": {
       "model_id": "fca92ba2ccfa45c284f3a5f01e990168",
       "version_major": 2,
       "version_minor": 0
      },
      "text/plain": [
       "interactive(children=(IntSlider(value=5, description='assets', max=10, min=1), FloatSlider(value=0.1, descript…"
      ]
     },
     "metadata": {},
     "output_type": "display_data"
    }
   ],
   "source": [
    "import ipywidgets as widgets\n",
    "from IPython.display import display\n",
    "%matplotlib inline\n",
    "\n",
    "def show_funding_ratio(assets,r):\n",
    "    fr = funding_ratio(assets,liabilities,r)\n",
    "    print(f'{fr*100:.2f}')\n",
    "\n",
    "controls = widgets.interactive(show_funding_ratio, assets = widgets.IntSlider(min=1,max=10,step=1,value=5),\n",
    "                              r = (0,.20,.01)\n",
    "                              )\n",
    "display(controls)"
   ]
  },
  {
   "cell_type": "code",
   "execution_count": null,
   "id": "3c838ef7-e06f-42eb-b05c-570d9a73e09e",
   "metadata": {
    "canvas": {
     "comments": [],
     "componentType": "CodeCell",
     "copiedOriginId": null,
     "diskcache": false,
     "headerColor": "transparent",
     "id": "fc529a1e-4bef-4ac5-9bd5-930de8be7f72",
     "isComponent": false,
     "name": "",
     "parents": []
    }
   },
   "outputs": [],
   "source": []
  }
 ],
 "metadata": {
  "canvas": {
   "colorPalette": [
    "inherit",
    "inherit",
    "inherit",
    "inherit",
    "inherit",
    "inherit",
    "inherit",
    "inherit",
    "inherit",
    "inherit"
   ],
   "parameters": [],
   "version": "1.0"
  },
  "kernelspec": {
   "display_name": "Python 3 (ipykernel)",
   "language": "python",
   "name": "python3"
  },
  "language_info": {
   "codemirror_mode": {
    "name": "ipython",
    "version": 3
   },
   "file_extension": ".py",
   "mimetype": "text/x-python",
   "name": "python",
   "nbconvert_exporter": "python",
   "pygments_lexer": "ipython3",
   "version": "3.10.12"
  }
 },
 "nbformat": 4,
 "nbformat_minor": 5
}
