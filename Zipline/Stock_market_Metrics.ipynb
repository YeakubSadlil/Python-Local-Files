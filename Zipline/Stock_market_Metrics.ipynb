{
 "cells": [
  {
   "cell_type": "markdown",
   "metadata": {},
   "source": [
    "# 1️⃣ Omega Ratio"
   ]
  },
  {
   "cell_type": "markdown",
   "metadata": {},
   "source": [
    "The omega ratio is a risk-return performance measure of an investment asset, portfolio or strategy.<br>\n",
    "defined as the probability weighted\n",
    "ratio of gains versus losses for some threshold return target.\n",
    "\n",
    "### 📝 Formula"
   ]
  },
  {
   "cell_type": "markdown",
   "metadata": {},
   "source": [
    "$$ \\Omega = \\frac{P(R > T)}{P(R < T)} $$\n",
    "    \n",
    "    where:\n",
    "$$ \\text Omega Ratio = Probability (Return > Threshold) / Probability (Return < Threshold)"
   ]
  },
  {
   "cell_type": "markdown",
   "metadata": {},
   "source": [
    "Interpretation of Values\n",
    "An Omega Ratio greater than 1 indicates that the investment has a higher probability of achieving the target return than experiencing a loss.\n",
    "\n",
    "Conversely, an Omega Ratio of less than 1 suggests that the investment is more likely to underperform the target return.\n",
    "\n",
    "### 🧮 Example"
   ]
  },
  {
   "cell_type": "markdown",
   "metadata": {},
   "source": [
    "<!-- resize the image size from local path-->\n",
    "<!-- postion at the middle of the screen-->\n",
    "<p align=\"center\">\n",
    "    <img src= \"Images/omega.png\" width=\"500\" height=\"300\" />\n",
    "</p>"
   ]
  },
  {
   "cell_type": "markdown",
   "metadata": {},
   "source": [
    "The Omega Ratio less than 1 means that the asset or portfolio has performed poorly relative to the target\n",
    "and has more downside risk than upside potential.\n",
    "A table of excess returns can tell you how much an investment has earned or lost compared to a target over individual periods. However, the Omega Ratio looks at the bigger picture.\n",
    "\n",
    "* It shows you not only the potential gains or losses against a target return but also the likelihood of those outcomes.\n",
    "* For instance, two investments may have the same average excess return, but one may have a higher Omega Ratio.This happens when there's a lower chance of losses and a higher chance of gains.In such cases, that investment would be more attractive, all other things being equal.\n",
    "\n",
    "* A negative reading implies our investment is drifting away from our desired return, with losses outweighing\n",
    "gains.\n",
    "* On the contrary, a positive Omega Ratio shows our investment is on the right path, delivering more gains\n",
    "than losses relative to our expected goal.\n",
    "\n",
    "* The greater the Omega Ratio, the more frequently our investment yields gains over losses at a certain benchmark.\n",
    "\n",
    "* It was designed to address the limitations of Sharpe Ratio and the Sortino Ratio, particularly their reliance on assumptions of normality in return distributions\n",
    "\n",
    "\n",
    "It was designed to address the limitations of Sharpe Ratio and the Sortino Ratio, particularly their reliance on assumptions of normality in return distributions. 🧠\n",
    "### Drawbacks 😞\n",
    "However, the omega ratio also has some limitations, such as being sensitive to the choice of target return\n",
    "and being difficult to optimize."
   ]
  },
  {
   "cell_type": "markdown",
   "metadata": {},
   "source": [
    "# 2️⃣ CAGR\n",
    "\n",
    "Compound annual growth rate is the average yearly growth rate of an investment over a time period greater than one year. It is one of the most accurate methods for calculating and determining returns for individual assets, investment portfolios, and anything else whose value might rise or decline over time.\n",
    "\n",
    "The CAGR formula also helps determine the required return on an investment or the initial investment needed to reach a financial goal.\n",
    "\n",
    "### 📝 Formula\n",
    "$$ CAGR=((\\frac{BV}{EV})^{1/n}−1)×100 $$\n",
    "$$ \\text where: EV=Ending value\n",
    "$$ \\text BV=Beginning value \n",
    "$$ \\text n=Number of years"
   ]
  },
  {
   "cell_type": "markdown",
   "metadata": {},
   "source": [
    "### Why geometric mean?\n",
    "The geometric mean is the average of a set of products, the calculation of which is commonly used to determine the performance results of an investment or portfolio. It is technically defined as \"the nth root product of n numbers.\n",
    "\"\n",
    "* **Compounding:** It accurately accounts for the compounding effect of returns over time, essential for reflecting true growth.\n",
    "* **Volatility Sensitivity:** It's less sensitive to extreme values (outliers), making it more reliable for investments with high volatility.\n",
    "\n",
    "**Example:**\n",
    "\n",
    "**Investment Returns:** 20% gain in Year 1, followed by a 5% loss in Year 2.\n",
    "Arithmetic Mean: (20% - 5%) / 2 = 7.5% (overestimates average growth due to the initial high bounce and skewed for the 1st gain 20%).<br>\n",
    "**Geometric Mean:** 6.77% (more accurately reflects the volatile nature, considering both ups and downs).\n",
    "\n",
    "N.B : The geometric mean is always less than or equal to the arithmetic mean."
   ]
  },
  {
   "cell_type": "markdown",
   "metadata": {},
   "source": [
    "### 🧮 Example\n",
    "Imagine you invested $10,000 in a portfolio with the returns outlined below:\n",
    "\n",
    "| Year | Ending Value | Return |\n",
    "|---|---|---|\n",
    "| 2018-2019 | $13,000 | 30% |\n",
    "| 2019-2020 | $12,000 | -7.69% |\n",
    "| 2020-2021 | $16,000 | 33.33% |\n",
    "| **Overall (2018-2021)** | **$16,000** | **10.06%** |\n",
    "\n",
    "$$ CAGR=((\\frac{16000}{10000})^{1/3}−1)×100=10.06\\% $$\n",
    "\n",
    "The compound annual growth rate smooths the investment’s performance and ignores the fact that 2019 to 2020 was vastly different The CAGR over that period was 10.06%, which is a more accurate representation of the investment’s performance.\n",
    "\n",
    "\n",
    "### Drawbacks 😞\n",
    "\n",
    "* CAGR is not an annual rate of return on investment. It is a hypothetical number, which smoothes out the returns on an investment, over a specific period.\n",
    "* CAGR does not account for market volatility. We can't visualize the drawdowns and volatility."
   ]
  },
  {
   "cell_type": "markdown",
   "metadata": {},
   "source": [
    "# 3️⃣ Sharpe Ratio\n",
    "\n",
    "The Sharpe Ratio measures the average excess return of an investment relative to a risk-free rate, divided by its volatility.This basically indicates how much more profit you get for every unit of risk you take.\n",
    "\n",
    "Imagine a Roller Coaster:\n",
    "\n",
    "* **Greater Returns:** the higher the peaks of the ride the bigger your investment returns.<br>\n",
    "* **Bumpier Ride:** However, it's a riskier ride if those peaks are met by many deep dumps (high volatility).<br>\n",
    "* **Sharpe Ratio Measures:** How much extra return you receive for each extra bump you encounter. It is like as \"reward per unit of risk\" score.\n",
    "\n",
    "### 📝 Formula\n",
    "$$ Sharpe Ratio = \\frac{Average Return - Risk Free Rate} {Volatility} $$"
   ]
  },
  {
   "cell_type": "markdown",
   "metadata": {},
   "source": [
    "\n",
    "### 🧮 Example:\n",
    "| Investment|\tAverage Return|\tRisk-Free Rate|\tVolatility|\tSharpe Ratio|\n",
    "|---|---|---|---|---|\n",
    "|Portfolio A|\t 12%|\t3%|\t5%|\t1.8|\n",
    "|Portfolio B|\t 8%|\t3%|\t2%| 2.5|\n",
    "\n",
    "Fund A: Average return of 12%, volatility of 5%.<br>\n",
    "Fund B: Average return of 10%, volatility of 3%.<br>\n",
    "Even though Portfolio A has a higher return, but it is a riskier investment due to its higher volatility compared to Portfolio B,\n",
    "\n",
    "### 😞 Drawbacks:\n",
    "Normal Distribution: It assumes returns follow a bell curve, which isn't always true.\n",
    "Risk-Free Rate: It's sensitive to changes in the risk-free rate, which can affect comparisons.\n",
    "Downside Risk: It doesn't distinguish between good and bad volatility (upside vs. downside).\n",
    "### 📌 Key Points:\n",
    "Higher Sharpe Ratio generally means better risk-adjusted return."
   ]
  },
  {
   "cell_type": "markdown",
   "metadata": {},
   "source": [
    "# 4️⃣ Sortino Ratio\n"
   ]
  }
 ],
 "metadata": {
  "language_info": {
   "name": "python"
  }
 },
 "nbformat": 4,
 "nbformat_minor": 2
}
