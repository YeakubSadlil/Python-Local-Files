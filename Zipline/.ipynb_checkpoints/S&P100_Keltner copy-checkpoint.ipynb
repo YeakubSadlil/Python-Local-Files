{
 "cells": [
  {
   "cell_type": "code",
   "execution_count": 2,
   "metadata": {
    "tags": []
   },
   "outputs": [],
   "source": [
    "import yfinance as yf\n",
    "import pandas as pd\n",
    "import numpy as np\n",
    "import matplotlib.pyplot as plt\n",
    "import requests\n",
    "from bs4 import BeautifulSoup"
   ]
  },
  {
   "cell_type": "code",
   "execution_count": 3,
   "metadata": {
    "tags": []
   },
   "outputs": [
    {
     "data": {
      "text/plain": [
       "['AAPL',\n",
       " 'ABBV',\n",
       " 'ABT',\n",
       " 'ACN',\n",
       " 'ADBE',\n",
       " 'AIG',\n",
       " 'AMD',\n",
       " 'AMGN',\n",
       " 'AMT',\n",
       " 'AMZN',\n",
       " 'AVGO',\n",
       " 'AXP',\n",
       " 'BA',\n",
       " 'BAC',\n",
       " 'BK',\n",
       " 'BKNG',\n",
       " 'BLK',\n",
       " 'BMY',\n",
       " 'BRK.B',\n",
       " 'C',\n",
       " 'CAT',\n",
       " 'CHTR',\n",
       " 'CL',\n",
       " 'CMCSA',\n",
       " 'COF',\n",
       " 'COP',\n",
       " 'COST',\n",
       " 'CRM',\n",
       " 'CSCO',\n",
       " 'CVS',\n",
       " 'CVX',\n",
       " 'DE',\n",
       " 'DHR',\n",
       " 'DIS',\n",
       " 'DOW',\n",
       " 'DUK',\n",
       " 'EMR',\n",
       " 'EXC',\n",
       " 'F',\n",
       " 'FDX',\n",
       " 'GD',\n",
       " 'GE',\n",
       " 'GILD',\n",
       " 'GM',\n",
       " 'GOOG',\n",
       " 'GOOGL',\n",
       " 'GS',\n",
       " 'HD',\n",
       " 'HON',\n",
       " 'IBM',\n",
       " 'INTC',\n",
       " 'JNJ',\n",
       " 'JPM',\n",
       " 'KHC',\n",
       " 'KO',\n",
       " 'LIN',\n",
       " 'LLY',\n",
       " 'LMT',\n",
       " 'LOW',\n",
       " 'MA',\n",
       " 'MCD',\n",
       " 'MDLZ',\n",
       " 'MDT',\n",
       " 'MET',\n",
       " 'META',\n",
       " 'MMM',\n",
       " 'MO',\n",
       " 'MRK',\n",
       " 'MS',\n",
       " 'MSFT',\n",
       " 'NEE',\n",
       " 'NFLX',\n",
       " 'NKE',\n",
       " 'NVDA',\n",
       " 'ORCL',\n",
       " 'PEP',\n",
       " 'PFE',\n",
       " 'PG',\n",
       " 'PM',\n",
       " 'PYPL',\n",
       " 'QCOM',\n",
       " 'RTX',\n",
       " 'SBUX',\n",
       " 'SCHW',\n",
       " 'SO',\n",
       " 'SPG',\n",
       " 'T',\n",
       " 'TGT',\n",
       " 'TMO',\n",
       " 'TMUS',\n",
       " 'TSLA',\n",
       " 'TXN',\n",
       " 'UNH',\n",
       " 'UNP',\n",
       " 'UPS',\n",
       " 'USB',\n",
       " 'V',\n",
       " 'VZ',\n",
       " 'WFC',\n",
       " 'WMT',\n",
       " 'XOM']"
      ]
     },
     "execution_count": 3,
     "metadata": {},
     "output_type": "execute_result"
    }
   ],
   "source": [
    "# Get all the tickers of S&P 100 from Wikipedia\n",
    "\n",
    "url = 'https://en.wikipedia.org/wiki/S%26P_100'\n",
    "response = requests.get(url)\n",
    "\n",
    "if response.status_code == 200:\n",
    "    parsed_data = BeautifulSoup(response.content, 'html.parser')\n",
    "    \n",
    "    table = parsed_data.find('table', {'id': 'constituents'})\n",
    "    \n",
    "    if table:\n",
    "        snp100 = [row.find_all('td')[0].get_text(strip=True) for row in table.find_all('tr') if row.find_all('td')]\n",
    "    else:\n",
    "        print(\"Table not found.\")\n",
    "else:\n",
    "    print(f\"Failed to fetch. Status code: {response.status_code}\")\n",
    "\n",
    "snp100"
   ]
  },
  {
   "cell_type": "code",
   "execution_count": 4,
   "metadata": {
    "tags": []
   },
   "outputs": [
    {
     "data": {
      "text/plain": [
       "['AAPL',\n",
       " 'ABBV',\n",
       " 'ABT',\n",
       " 'ACN',\n",
       " 'ADBE',\n",
       " 'AIG',\n",
       " 'AMD',\n",
       " 'AMGN',\n",
       " 'AMT',\n",
       " 'AMZN',\n",
       " 'AVGO',\n",
       " 'AXP',\n",
       " 'BA',\n",
       " 'BAC',\n",
       " 'BK',\n",
       " 'BKNG',\n",
       " 'BLK',\n",
       " 'BMY',\n",
       " 'BRK-B',\n",
       " 'C',\n",
       " 'CAT',\n",
       " 'CHTR',\n",
       " 'CL',\n",
       " 'CMCSA',\n",
       " 'COF',\n",
       " 'COP',\n",
       " 'COST',\n",
       " 'CRM',\n",
       " 'CSCO',\n",
       " 'CVS',\n",
       " 'CVX',\n",
       " 'DE',\n",
       " 'DHR',\n",
       " 'DIS',\n",
       " 'DOW',\n",
       " 'DUK',\n",
       " 'EMR',\n",
       " 'EXC',\n",
       " 'F',\n",
       " 'FDX',\n",
       " 'GD',\n",
       " 'GE',\n",
       " 'GILD',\n",
       " 'GM',\n",
       " 'GOOG',\n",
       " 'GOOGL',\n",
       " 'GS',\n",
       " 'HD',\n",
       " 'HON',\n",
       " 'IBM',\n",
       " 'INTC',\n",
       " 'JNJ',\n",
       " 'JPM',\n",
       " 'KHC',\n",
       " 'KO',\n",
       " 'LIN',\n",
       " 'LLY',\n",
       " 'LMT',\n",
       " 'LOW',\n",
       " 'MA',\n",
       " 'MCD',\n",
       " 'MDLZ',\n",
       " 'MDT',\n",
       " 'MET',\n",
       " 'META',\n",
       " 'MMM',\n",
       " 'MO',\n",
       " 'MRK',\n",
       " 'MS',\n",
       " 'MSFT',\n",
       " 'NEE',\n",
       " 'NFLX',\n",
       " 'NKE',\n",
       " 'NVDA',\n",
       " 'ORCL',\n",
       " 'PEP',\n",
       " 'PFE',\n",
       " 'PG',\n",
       " 'PM',\n",
       " 'PYPL',\n",
       " 'QCOM',\n",
       " 'RTX',\n",
       " 'SBUX',\n",
       " 'SCHW',\n",
       " 'SO',\n",
       " 'SPG',\n",
       " 'T',\n",
       " 'TGT',\n",
       " 'TMO',\n",
       " 'TMUS',\n",
       " 'TSLA',\n",
       " 'TXN',\n",
       " 'UNH',\n",
       " 'UNP',\n",
       " 'UPS',\n",
       " 'USB',\n",
       " 'V',\n",
       " 'VZ',\n",
       " 'WFC',\n",
       " 'WMT',\n",
       " 'XOM']"
      ]
     },
     "execution_count": 4,
     "metadata": {},
     "output_type": "execute_result"
    }
   ],
   "source": [
    "# Correcting ticker name for Berkshire Hathaway\n",
    "\n",
    "i = snp100.index('BRK.B')\n",
    "snp100[i] = 'BRK-B'\n",
    "snp100"
   ]
  },
  {
   "cell_type": "code",
   "execution_count": 5,
   "metadata": {
    "tags": []
   },
   "outputs": [],
   "source": [
    "# Function for preprocessing data of a single ticker to desired format of Zipline\n",
    "\n",
    "def preprocess(data):\n",
    "    data.reset_index(inplace=True)\n",
    "    data.drop(columns=['Adj Close'], inplace=True)\n",
    "    data.rename(columns={'Date': 'timestamp', 'Open': 'open', 'High': 'high', 'Low': 'low', 'Close': 'close', 'Volume': 'volume', }, inplace=True)\n",
    "    data['timestamp'] = pd.to_datetime(data['timestamp'])\n",
    "    data['volume'] = data['volume'].astype('float64')\n",
    "    data.sort_values(by='timestamp', inplace=True)\n",
    "    data.reset_index(drop=True, inplace=True)\n",
    "\n",
    "    return data"
   ]
  },
  {
   "cell_type": "code",
   "execution_count": 6,
   "metadata": {
    "tags": []
   },
   "outputs": [
    {
     "name": "stdout",
     "output_type": "stream",
     "text": [
      "[*********************100%%**********************]  1 of 1 completed"
     ]
    },
    {
     "name": "stderr",
     "output_type": "stream",
     "text": [
      "\n",
      "1 Failed download:\n",
      "['AAPL']: Exception('%ticker%: No price data found, symbol may be delisted (1d 2010-01-01 -> 2021-07-31)')\n"
     ]
    },
    {
     "name": "stdout",
     "output_type": "stream",
     "text": [
      "\n",
      "[*********************100%%**********************]  1 of 1 completed"
     ]
    },
    {
     "name": "stderr",
     "output_type": "stream",
     "text": [
      "\n",
      "1 Failed download:\n",
      "['ABBV']: Exception('%ticker%: No price data found, symbol may be delisted (1d 2010-01-01 -> 2021-07-31)')\n"
     ]
    },
    {
     "name": "stdout",
     "output_type": "stream",
     "text": [
      "\n",
      "[*********************100%%**********************]  1 of 1 completed"
     ]
    },
    {
     "name": "stderr",
     "output_type": "stream",
     "text": [
      "\n",
      "1 Failed download:\n",
      "['ABT']: Exception('%ticker%: No price data found, symbol may be delisted (1d 2010-01-01 -> 2021-07-31)')\n"
     ]
    },
    {
     "name": "stdout",
     "output_type": "stream",
     "text": [
      "\n"
     ]
    },
    {
     "name": "stderr",
     "output_type": "stream",
     "text": [
      "Failed to get ticker 'ACN' reason: unsupported operand type(s) for -: 'datetime.datetime' and 'str'\n"
     ]
    },
    {
     "name": "stdout",
     "output_type": "stream",
     "text": [
      "[*********************100%%**********************]  1 of 1 completed"
     ]
    },
    {
     "name": "stderr",
     "output_type": "stream",
     "text": [
      "\n",
      "1 Failed download:\n",
      "['ACN']: Exception('%ticker%: No timezone found, symbol may be delisted')\n"
     ]
    },
    {
     "name": "stdout",
     "output_type": "stream",
     "text": [
      "\n",
      "[*********************100%%**********************]  1 of 1 completed"
     ]
    },
    {
     "name": "stderr",
     "output_type": "stream",
     "text": [
      "\n",
      "1 Failed download:\n",
      "['ADBE']: Exception('%ticker%: No price data found, symbol may be delisted (1d 2010-01-01 -> 2021-07-31)')\n",
      "Failed to get ticker 'AIG' reason: unsupported operand type(s) for -: 'datetime.datetime' and 'str'\n"
     ]
    },
    {
     "name": "stdout",
     "output_type": "stream",
     "text": [
      "\n",
      "[*********************100%%**********************]  1 of 1 completed"
     ]
    },
    {
     "name": "stderr",
     "output_type": "stream",
     "text": [
      "\n",
      "1 Failed download:\n",
      "['AIG']: Exception('%ticker%: No timezone found, symbol may be delisted')\n"
     ]
    },
    {
     "name": "stdout",
     "output_type": "stream",
     "text": [
      "\n",
      "[*********************100%%**********************]  1 of 1 completed"
     ]
    },
    {
     "name": "stderr",
     "output_type": "stream",
     "text": [
      "\n",
      "1 Failed download:\n",
      "['AMD']: Exception('%ticker%: No price data found, symbol may be delisted (1d 2010-01-01 -> 2021-07-31)')\n"
     ]
    },
    {
     "name": "stdout",
     "output_type": "stream",
     "text": [
      "\n"
     ]
    },
    {
     "name": "stderr",
     "output_type": "stream",
     "text": [
      "Failed to get ticker 'AMGN' reason: unsupported operand type(s) for -: 'datetime.datetime' and 'str'\n"
     ]
    },
    {
     "name": "stdout",
     "output_type": "stream",
     "text": [
      "[*********************100%%**********************]  1 of 1 completed"
     ]
    },
    {
     "name": "stderr",
     "output_type": "stream",
     "text": [
      "\n",
      "1 Failed download:\n",
      "['AMGN']: Exception('%ticker%: No timezone found, symbol may be delisted')\n",
      "Failed to get ticker 'AMT' reason: unsupported operand type(s) for -: 'datetime.datetime' and 'str'\n"
     ]
    },
    {
     "name": "stdout",
     "output_type": "stream",
     "text": [
      "\n",
      "[*********************100%%**********************]  1 of 1 completed"
     ]
    },
    {
     "name": "stderr",
     "output_type": "stream",
     "text": [
      "\n",
      "1 Failed download:\n"
     ]
    },
    {
     "name": "stdout",
     "output_type": "stream",
     "text": [
      "\n"
     ]
    },
    {
     "name": "stderr",
     "output_type": "stream",
     "text": [
      "['AMT']: Exception('%ticker%: No timezone found, symbol may be delisted')\n"
     ]
    },
    {
     "name": "stdout",
     "output_type": "stream",
     "text": [
      "[*********************100%%**********************]  1 of 1 completed"
     ]
    },
    {
     "name": "stderr",
     "output_type": "stream",
     "text": [
      "\n",
      "1 Failed download:\n",
      "['AMZN']: Exception('%ticker%: No price data found, symbol may be delisted (1d 2010-01-01 -> 2021-07-31)')\n"
     ]
    },
    {
     "name": "stdout",
     "output_type": "stream",
     "text": [
      "\n"
     ]
    },
    {
     "name": "stderr",
     "output_type": "stream",
     "text": [
      "Failed to get ticker 'AVGO' reason: unsupported operand type(s) for -: 'datetime.datetime' and 'str'\n"
     ]
    },
    {
     "name": "stdout",
     "output_type": "stream",
     "text": [
      "[*********************100%%**********************]  1 of 1 completed"
     ]
    },
    {
     "name": "stderr",
     "output_type": "stream",
     "text": [
      "\n",
      "1 Failed download:\n",
      "['AVGO']: Exception('%ticker%: No timezone found, symbol may be delisted')\n"
     ]
    },
    {
     "name": "stdout",
     "output_type": "stream",
     "text": [
      "\n"
     ]
    },
    {
     "name": "stderr",
     "output_type": "stream",
     "text": [
      "Failed to get ticker 'AXP' reason: unsupported operand type(s) for -: 'datetime.datetime' and 'str'\n"
     ]
    },
    {
     "name": "stdout",
     "output_type": "stream",
     "text": [
      "[*********************100%%**********************]  1 of 1 completed"
     ]
    },
    {
     "name": "stderr",
     "output_type": "stream",
     "text": [
      "\n",
      "1 Failed download:\n",
      "['AXP']: Exception('%ticker%: No timezone found, symbol may be delisted')\n"
     ]
    },
    {
     "name": "stdout",
     "output_type": "stream",
     "text": [
      "\n"
     ]
    },
    {
     "name": "stderr",
     "output_type": "stream",
     "text": [
      "Failed to get ticker 'BA' reason: unsupported operand type(s) for -: 'datetime.datetime' and 'str'\n"
     ]
    },
    {
     "name": "stdout",
     "output_type": "stream",
     "text": [
      "[*********************100%%**********************]  1 of 1 completed"
     ]
    },
    {
     "name": "stderr",
     "output_type": "stream",
     "text": [
      "\n",
      "1 Failed download:\n",
      "['BA']: Exception('%ticker%: No timezone found, symbol may be delisted')\n"
     ]
    },
    {
     "name": "stdout",
     "output_type": "stream",
     "text": [
      "\n",
      "[*********************100%%**********************]  1 of 1 completed"
     ]
    },
    {
     "name": "stderr",
     "output_type": "stream",
     "text": [
      "\n",
      "1 Failed download:\n"
     ]
    },
    {
     "name": "stdout",
     "output_type": "stream",
     "text": [
      "\n"
     ]
    },
    {
     "name": "stderr",
     "output_type": "stream",
     "text": [
      "['BAC']: Exception('%ticker%: No price data found, symbol may be delisted (1d 2010-01-01 -> 2021-07-31)')\n",
      "Failed to get ticker 'BK' reason: unsupported operand type(s) for -: 'datetime.datetime' and 'str'\n"
     ]
    },
    {
     "name": "stdout",
     "output_type": "stream",
     "text": [
      "[*********************100%%**********************]  1 of 1 completed"
     ]
    },
    {
     "name": "stderr",
     "output_type": "stream",
     "text": [
      "\n",
      "1 Failed download:\n",
      "['BK']: Exception('%ticker%: No timezone found, symbol may be delisted')\n"
     ]
    },
    {
     "name": "stdout",
     "output_type": "stream",
     "text": [
      "\n"
     ]
    },
    {
     "name": "stderr",
     "output_type": "stream",
     "text": [
      "Failed to get ticker 'BKNG' reason: unsupported operand type(s) for -: 'datetime.datetime' and 'str'\n"
     ]
    },
    {
     "name": "stdout",
     "output_type": "stream",
     "text": [
      "[*********************100%%**********************]  1 of 1 completed"
     ]
    },
    {
     "name": "stderr",
     "output_type": "stream",
     "text": [
      "\n",
      "1 Failed download:\n",
      "['BKNG']: Exception('%ticker%: No timezone found, symbol may be delisted')\n"
     ]
    },
    {
     "name": "stdout",
     "output_type": "stream",
     "text": [
      "\n",
      "[*********************100%%**********************]  1 of 1 completed"
     ]
    },
    {
     "name": "stderr",
     "output_type": "stream",
     "text": [
      "\n",
      "1 Failed download:\n",
      "['BLK']: No price data found, symbol may be delisted (1d 2010-01-01 -> 2021-07-31)\n"
     ]
    },
    {
     "name": "stdout",
     "output_type": "stream",
     "text": [
      "\n",
      "[*********************100%%**********************]  1 of 1 completed"
     ]
    },
    {
     "name": "stderr",
     "output_type": "stream",
     "text": [
      "\n",
      "1 Failed download:\n",
      "['BMY']: Exception('%ticker%: No price data found, symbol may be delisted (1d 2010-01-01 -> 2021-07-31)')\n"
     ]
    },
    {
     "name": "stdout",
     "output_type": "stream",
     "text": [
      "\n"
     ]
    },
    {
     "name": "stderr",
     "output_type": "stream",
     "text": [
      "Failed to get ticker 'BRK-B' reason: unsupported operand type(s) for -: 'datetime.datetime' and 'str'\n"
     ]
    },
    {
     "name": "stdout",
     "output_type": "stream",
     "text": [
      "[*********************100%%**********************]  1 of 1 completed\n"
     ]
    },
    {
     "name": "stderr",
     "output_type": "stream",
     "text": [
      "\n",
      "1 Failed download:\n",
      "['BRK-B']: Exception('%ticker%: No timezone found, symbol may be delisted')\n"
     ]
    },
    {
     "name": "stdout",
     "output_type": "stream",
     "text": [
      "[*********************100%%**********************]  1 of 1 completed"
     ]
    },
    {
     "name": "stderr",
     "output_type": "stream",
     "text": [
      "\n",
      "1 Failed download:\n",
      "['C']: Exception('%ticker%: No price data found, symbol may be delisted (1d 2010-01-01 -> 2021-07-31)')\n",
      "Failed to get ticker 'CAT' reason: unsupported operand type(s) for -: 'datetime.datetime' and 'str'\n"
     ]
    },
    {
     "name": "stdout",
     "output_type": "stream",
     "text": [
      "\n",
      "[*********************100%%**********************]  1 of 1 completed"
     ]
    },
    {
     "name": "stderr",
     "output_type": "stream",
     "text": [
      "\n",
      "1 Failed download:\n",
      "['CAT']: Exception('%ticker%: No timezone found, symbol may be delisted')\n",
      "Failed to get ticker 'CHTR' reason: unsupported operand type(s) for -: 'datetime.datetime' and 'str'\n"
     ]
    },
    {
     "name": "stdout",
     "output_type": "stream",
     "text": [
      "\n",
      "[*********************100%%**********************]  1 of 1 completed"
     ]
    },
    {
     "name": "stderr",
     "output_type": "stream",
     "text": [
      "\n",
      "1 Failed download:\n"
     ]
    },
    {
     "name": "stdout",
     "output_type": "stream",
     "text": [
      "\n"
     ]
    },
    {
     "name": "stderr",
     "output_type": "stream",
     "text": [
      "['CHTR']: Exception('%ticker%: No timezone found, symbol may be delisted')\n",
      "Failed to get ticker 'CL' reason: unsupported operand type(s) for -: 'datetime.datetime' and 'str'\n"
     ]
    },
    {
     "name": "stdout",
     "output_type": "stream",
     "text": [
      "[*********************100%%**********************]  1 of 1 completed"
     ]
    },
    {
     "name": "stderr",
     "output_type": "stream",
     "text": [
      "\n",
      "1 Failed download:\n",
      "['CL']: Exception('%ticker%: No timezone found, symbol may be delisted')\n",
      "Failed to get ticker 'CMCSA' reason: unsupported operand type(s) for -: 'datetime.datetime' and 'str'\n"
     ]
    },
    {
     "name": "stdout",
     "output_type": "stream",
     "text": [
      "\n",
      "[*********************100%%**********************]  1 of 1 completed"
     ]
    },
    {
     "name": "stderr",
     "output_type": "stream",
     "text": [
      "\n",
      "1 Failed download:\n",
      "['CMCSA']: Exception('%ticker%: No timezone found, symbol may be delisted')\n"
     ]
    },
    {
     "name": "stdout",
     "output_type": "stream",
     "text": [
      "\n"
     ]
    },
    {
     "name": "stderr",
     "output_type": "stream",
     "text": [
      "Failed to get ticker 'COF' reason: unsupported operand type(s) for -: 'datetime.datetime' and 'str'\n"
     ]
    },
    {
     "name": "stdout",
     "output_type": "stream",
     "text": [
      "[*********************100%%**********************]  1 of 1 completed"
     ]
    },
    {
     "name": "stderr",
     "output_type": "stream",
     "text": [
      "\n",
      "1 Failed download:\n",
      "['COF']: No timezone found, symbol may be delisted\n",
      "Failed to get ticker 'COP' reason: unsupported operand type(s) for -: 'datetime.datetime' and 'str'\n"
     ]
    },
    {
     "name": "stdout",
     "output_type": "stream",
     "text": [
      "\n",
      "[*********************100%%**********************]  1 of 1 completed"
     ]
    },
    {
     "name": "stderr",
     "output_type": "stream",
     "text": [
      "\n",
      "1 Failed download:\n",
      "['COP']: No timezone found, symbol may be delisted\n"
     ]
    },
    {
     "name": "stdout",
     "output_type": "stream",
     "text": [
      "\n"
     ]
    },
    {
     "name": "stderr",
     "output_type": "stream",
     "text": [
      "Failed to get ticker 'COST' reason: unsupported operand type(s) for -: 'datetime.datetime' and 'str'\n"
     ]
    },
    {
     "name": "stdout",
     "output_type": "stream",
     "text": [
      "[*********************100%%**********************]  1 of 1 completed"
     ]
    },
    {
     "name": "stderr",
     "output_type": "stream",
     "text": [
      "\n",
      "1 Failed download:\n",
      "['COST']: Exception('%ticker%: No timezone found, symbol may be delisted')\n",
      "Failed to get ticker 'CRM' reason: unsupported operand type(s) for -: 'datetime.datetime' and 'str'\n"
     ]
    },
    {
     "name": "stdout",
     "output_type": "stream",
     "text": [
      "\n",
      "[*********************100%%**********************]  1 of 1 completed"
     ]
    },
    {
     "name": "stderr",
     "output_type": "stream",
     "text": [
      "\n",
      "1 Failed download:\n",
      "['CRM']: Exception('%ticker%: No timezone found, symbol may be delisted')\n"
     ]
    },
    {
     "name": "stdout",
     "output_type": "stream",
     "text": [
      "\n",
      "[*********************100%%**********************]  1 of 1 completed"
     ]
    },
    {
     "name": "stderr",
     "output_type": "stream",
     "text": [
      "\n",
      "1 Failed download:\n",
      "['CSCO']: Exception('%ticker%: No price data found, symbol may be delisted (1d 2010-01-01 -> 2021-07-31)')\n"
     ]
    },
    {
     "name": "stdout",
     "output_type": "stream",
     "text": [
      "\n"
     ]
    },
    {
     "name": "stderr",
     "output_type": "stream",
     "text": [
      "Failed to get ticker 'CVS' reason: unsupported operand type(s) for -: 'datetime.datetime' and 'str'\n"
     ]
    },
    {
     "name": "stdout",
     "output_type": "stream",
     "text": [
      "[*********************100%%**********************]  1 of 1 completed"
     ]
    },
    {
     "name": "stderr",
     "output_type": "stream",
     "text": [
      "\n",
      "1 Failed download:\n",
      "['CVS']: Exception('%ticker%: No timezone found, symbol may be delisted')\n",
      "Failed to get ticker 'CVX' reason: unsupported operand type(s) for -: 'datetime.datetime' and 'str'\n"
     ]
    },
    {
     "name": "stdout",
     "output_type": "stream",
     "text": [
      "\n",
      "[*********************100%%**********************]  1 of 1 completed"
     ]
    },
    {
     "name": "stderr",
     "output_type": "stream",
     "text": [
      "\n",
      "1 Failed download:\n",
      "['CVX']: Exception('%ticker%: No timezone found, symbol may be delisted')\n"
     ]
    },
    {
     "name": "stdout",
     "output_type": "stream",
     "text": [
      "\n"
     ]
    },
    {
     "name": "stderr",
     "output_type": "stream",
     "text": [
      "Failed to get ticker 'DE' reason: unsupported operand type(s) for -: 'datetime.datetime' and 'str'\n"
     ]
    },
    {
     "name": "stdout",
     "output_type": "stream",
     "text": [
      "[*********************100%%**********************]  1 of 1 completed"
     ]
    },
    {
     "name": "stderr",
     "output_type": "stream",
     "text": [
      "\n",
      "1 Failed download:\n",
      "['DE']: Exception('%ticker%: No timezone found, symbol may be delisted')\n"
     ]
    },
    {
     "name": "stdout",
     "output_type": "stream",
     "text": [
      "\n",
      "[*********************100%%**********************]  1 of 1 completed"
     ]
    },
    {
     "name": "stderr",
     "output_type": "stream",
     "text": [
      "\n",
      "1 Failed download:\n",
      "['DHR']: Exception('%ticker%: No price data found, symbol may be delisted (1d 2010-01-01 -> 2021-07-31)')\n"
     ]
    },
    {
     "name": "stdout",
     "output_type": "stream",
     "text": [
      "\n",
      "[*********************100%%**********************]  1 of 1 completed"
     ]
    },
    {
     "name": "stderr",
     "output_type": "stream",
     "text": [
      "\n",
      "1 Failed download:\n",
      "['DIS']: No price data found, symbol may be delisted (1d 2010-01-01 -> 2021-07-31)\n"
     ]
    },
    {
     "name": "stdout",
     "output_type": "stream",
     "text": [
      "\n"
     ]
    },
    {
     "name": "stderr",
     "output_type": "stream",
     "text": [
      "Failed to get ticker 'DOW' reason: unsupported operand type(s) for -: 'datetime.datetime' and 'str'\n"
     ]
    },
    {
     "name": "stdout",
     "output_type": "stream",
     "text": [
      "[*********************100%%**********************]  1 of 1 completed"
     ]
    },
    {
     "name": "stderr",
     "output_type": "stream",
     "text": [
      "\n",
      "1 Failed download:\n",
      "['DOW']: Exception('%ticker%: No timezone found, symbol may be delisted')\n"
     ]
    },
    {
     "name": "stdout",
     "output_type": "stream",
     "text": [
      "\n"
     ]
    },
    {
     "name": "stderr",
     "output_type": "stream",
     "text": [
      "Failed to get ticker 'DUK' reason: unsupported operand type(s) for -: 'datetime.datetime' and 'str'\n"
     ]
    },
    {
     "name": "stdout",
     "output_type": "stream",
     "text": [
      "[*********************100%%**********************]  1 of 1 completed"
     ]
    },
    {
     "name": "stderr",
     "output_type": "stream",
     "text": [
      "\n",
      "1 Failed download:\n",
      "['DUK']: Exception('%ticker%: No timezone found, symbol may be delisted')\n"
     ]
    },
    {
     "name": "stdout",
     "output_type": "stream",
     "text": [
      "\n"
     ]
    },
    {
     "name": "stderr",
     "output_type": "stream",
     "text": [
      "Failed to get ticker 'EMR' reason: unsupported operand type(s) for -: 'datetime.datetime' and 'str'\n"
     ]
    },
    {
     "name": "stdout",
     "output_type": "stream",
     "text": [
      "[*********************100%%**********************]  1 of 1 completed\n"
     ]
    },
    {
     "name": "stderr",
     "output_type": "stream",
     "text": [
      "\n",
      "1 Failed download:\n",
      "['EMR']: Exception('%ticker%: No timezone found, symbol may be delisted')\n",
      "Failed to get ticker 'EXC' reason: unsupported operand type(s) for -: 'datetime.datetime' and 'str'\n"
     ]
    },
    {
     "name": "stdout",
     "output_type": "stream",
     "text": [
      "[*********************100%%**********************]  1 of 1 completed"
     ]
    },
    {
     "name": "stderr",
     "output_type": "stream",
     "text": [
      "\n",
      "1 Failed download:\n",
      "['EXC']: Exception('%ticker%: No timezone found, symbol may be delisted')\n"
     ]
    },
    {
     "name": "stdout",
     "output_type": "stream",
     "text": [
      "\n"
     ]
    },
    {
     "name": "stderr",
     "output_type": "stream",
     "text": [
      "Failed to get ticker 'F' reason: unsupported operand type(s) for -: 'datetime.datetime' and 'str'\n"
     ]
    },
    {
     "name": "stdout",
     "output_type": "stream",
     "text": [
      "[*********************100%%**********************]  1 of 1 completed"
     ]
    },
    {
     "name": "stderr",
     "output_type": "stream",
     "text": [
      "\n",
      "1 Failed download:\n",
      "['F']: Exception('%ticker%: No timezone found, symbol may be delisted')\n",
      "Failed to get ticker 'FDX' reason: unsupported operand type(s) for -: 'datetime.datetime' and 'str'\n"
     ]
    },
    {
     "name": "stdout",
     "output_type": "stream",
     "text": [
      "\n",
      "[*********************100%%**********************]  1 of 1 completed"
     ]
    },
    {
     "name": "stderr",
     "output_type": "stream",
     "text": [
      "\n",
      "1 Failed download:\n",
      "['FDX']: No timezone found, symbol may be delisted\n"
     ]
    },
    {
     "name": "stdout",
     "output_type": "stream",
     "text": [
      "\n"
     ]
    },
    {
     "name": "stderr",
     "output_type": "stream",
     "text": [
      "Failed to get ticker 'GD' reason: unsupported operand type(s) for -: 'datetime.datetime' and 'str'\n"
     ]
    },
    {
     "name": "stdout",
     "output_type": "stream",
     "text": [
      "[*********************100%%**********************]  1 of 1 completed"
     ]
    },
    {
     "name": "stderr",
     "output_type": "stream",
     "text": [
      "\n",
      "1 Failed download:\n"
     ]
    },
    {
     "name": "stdout",
     "output_type": "stream",
     "text": [
      "\n"
     ]
    },
    {
     "name": "stderr",
     "output_type": "stream",
     "text": [
      "['GD']: Exception('%ticker%: No timezone found, symbol may be delisted')\n",
      "Failed to get ticker 'GE' reason: unsupported operand type(s) for -: 'datetime.datetime' and 'str'\n"
     ]
    },
    {
     "name": "stdout",
     "output_type": "stream",
     "text": [
      "[*********************100%%**********************]  1 of 1 completed"
     ]
    },
    {
     "name": "stderr",
     "output_type": "stream",
     "text": [
      "\n",
      "1 Failed download:\n",
      "['GE']: Exception('%ticker%: No timezone found, symbol may be delisted')\n"
     ]
    },
    {
     "name": "stdout",
     "output_type": "stream",
     "text": [
      "\n"
     ]
    },
    {
     "name": "stderr",
     "output_type": "stream",
     "text": [
      "Failed to get ticker 'GILD' reason: unsupported operand type(s) for -: 'datetime.datetime' and 'str'\n"
     ]
    },
    {
     "name": "stdout",
     "output_type": "stream",
     "text": [
      "[*********************100%%**********************]  1 of 1 completed"
     ]
    },
    {
     "name": "stderr",
     "output_type": "stream",
     "text": [
      "\n",
      "1 Failed download:\n",
      "['GILD']: Exception('%ticker%: No timezone found, symbol may be delisted')\n"
     ]
    },
    {
     "name": "stdout",
     "output_type": "stream",
     "text": [
      "\n"
     ]
    },
    {
     "name": "stderr",
     "output_type": "stream",
     "text": [
      "Failed to get ticker 'GM' reason: unsupported operand type(s) for -: 'datetime.datetime' and 'str'\n"
     ]
    },
    {
     "name": "stdout",
     "output_type": "stream",
     "text": [
      "[*********************100%%**********************]  1 of 1 completed"
     ]
    },
    {
     "name": "stderr",
     "output_type": "stream",
     "text": [
      "\n",
      "1 Failed download:\n",
      "['GM']: Exception('%ticker%: No timezone found, symbol may be delisted')\n"
     ]
    },
    {
     "name": "stdout",
     "output_type": "stream",
     "text": [
      "\n"
     ]
    },
    {
     "name": "stderr",
     "output_type": "stream",
     "text": [
      "Failed to get ticker 'GOOG' reason: unsupported operand type(s) for -: 'datetime.datetime' and 'str'\n"
     ]
    },
    {
     "name": "stdout",
     "output_type": "stream",
     "text": [
      "[*********************100%%**********************]  1 of 1 completed"
     ]
    },
    {
     "name": "stderr",
     "output_type": "stream",
     "text": [
      "\n",
      "1 Failed download:\n",
      "['GOOG']: Exception('%ticker%: No timezone found, symbol may be delisted')\n"
     ]
    },
    {
     "name": "stdout",
     "output_type": "stream",
     "text": [
      "\n",
      "[*********************100%%**********************]  1 of 1 completed"
     ]
    },
    {
     "name": "stderr",
     "output_type": "stream",
     "text": [
      "\n",
      "1 Failed download:\n",
      "['GOOGL']: No price data found, symbol may be delisted (1d 2010-01-01 -> 2021-07-31)\n"
     ]
    },
    {
     "name": "stdout",
     "output_type": "stream",
     "text": [
      "\n",
      "[*********************100%%**********************]  1 of 1 completed"
     ]
    },
    {
     "name": "stderr",
     "output_type": "stream",
     "text": [
      "\n",
      "1 Failed download:\n",
      "['GS']: Exception('%ticker%: No price data found, symbol may be delisted (1d 2010-01-01 -> 2021-07-31)')\n"
     ]
    },
    {
     "name": "stdout",
     "output_type": "stream",
     "text": [
      "\n",
      "[*********************100%%**********************]  1 of 1 completed"
     ]
    },
    {
     "name": "stderr",
     "output_type": "stream",
     "text": [
      "\n",
      "1 Failed download:\n",
      "['HD']: Exception('%ticker%: No price data found, symbol may be delisted (1d 2010-01-01 -> 2021-07-31)')\n"
     ]
    },
    {
     "name": "stdout",
     "output_type": "stream",
     "text": [
      "\n"
     ]
    },
    {
     "name": "stderr",
     "output_type": "stream",
     "text": [
      "Failed to get ticker 'HON' reason: unsupported operand type(s) for -: 'datetime.datetime' and 'str'\n"
     ]
    },
    {
     "name": "stdout",
     "output_type": "stream",
     "text": [
      "[*********************100%%**********************]  1 of 1 completed"
     ]
    },
    {
     "name": "stderr",
     "output_type": "stream",
     "text": [
      "\n",
      "1 Failed download:\n",
      "['HON']: Exception('%ticker%: No timezone found, symbol may be delisted')\n"
     ]
    },
    {
     "name": "stdout",
     "output_type": "stream",
     "text": [
      "\n",
      "[*********************100%%**********************]  1 of 1 completed"
     ]
    },
    {
     "name": "stderr",
     "output_type": "stream",
     "text": [
      "\n",
      "1 Failed download:\n",
      "['IBM']: Exception('%ticker%: No price data found, symbol may be delisted (1d 2010-01-01 -> 2021-07-31)')\n"
     ]
    },
    {
     "name": "stdout",
     "output_type": "stream",
     "text": [
      "\n",
      "[*********************100%%**********************]  1 of 1 completed"
     ]
    },
    {
     "name": "stderr",
     "output_type": "stream",
     "text": [
      "\n",
      "1 Failed download:\n"
     ]
    },
    {
     "name": "stdout",
     "output_type": "stream",
     "text": [
      "\n"
     ]
    },
    {
     "name": "stderr",
     "output_type": "stream",
     "text": [
      "['INTC']: Exception('%ticker%: No price data found, symbol may be delisted (1d 2010-01-01 -> 2021-07-31)')\n"
     ]
    },
    {
     "name": "stdout",
     "output_type": "stream",
     "text": [
      "[*********************100%%**********************]  1 of 1 completed"
     ]
    },
    {
     "name": "stderr",
     "output_type": "stream",
     "text": [
      "\n",
      "1 Failed download:\n"
     ]
    },
    {
     "name": "stdout",
     "output_type": "stream",
     "text": [
      "\n"
     ]
    },
    {
     "name": "stderr",
     "output_type": "stream",
     "text": [
      "['JNJ']: Exception('%ticker%: No price data found, symbol may be delisted (1d 2010-01-01 -> 2021-07-31)')\n"
     ]
    },
    {
     "name": "stdout",
     "output_type": "stream",
     "text": [
      "[*********************100%%**********************]  1 of 1 completed"
     ]
    },
    {
     "name": "stderr",
     "output_type": "stream",
     "text": [
      "\n",
      "1 Failed download:\n",
      "['JPM']: No price data found, symbol may be delisted (1d 2010-01-01 -> 2021-07-31)\n",
      "Failed to get ticker 'KHC' reason: unsupported operand type(s) for -: 'datetime.datetime' and 'str'\n"
     ]
    },
    {
     "name": "stdout",
     "output_type": "stream",
     "text": [
      "\n",
      "[*********************100%%**********************]  1 of 1 completed"
     ]
    },
    {
     "name": "stderr",
     "output_type": "stream",
     "text": [
      "\n",
      "1 Failed download:\n",
      "['KHC']: Exception('%ticker%: No timezone found, symbol may be delisted')\n"
     ]
    },
    {
     "name": "stdout",
     "output_type": "stream",
     "text": [
      "\n",
      "[*********************100%%**********************]  1 of 1 completed"
     ]
    },
    {
     "name": "stderr",
     "output_type": "stream",
     "text": [
      "\n",
      "1 Failed download:\n",
      "['KO']: Exception('%ticker%: No price data found, symbol may be delisted (1d 2010-01-01 -> 2021-07-31)')\n"
     ]
    },
    {
     "name": "stdout",
     "output_type": "stream",
     "text": [
      "\n"
     ]
    },
    {
     "name": "stderr",
     "output_type": "stream",
     "text": [
      "Failed to get ticker 'LIN' reason: unsupported operand type(s) for -: 'datetime.datetime' and 'str'\n"
     ]
    },
    {
     "name": "stdout",
     "output_type": "stream",
     "text": [
      "[*********************100%%**********************]  1 of 1 completed"
     ]
    },
    {
     "name": "stderr",
     "output_type": "stream",
     "text": [
      "\n",
      "1 Failed download:\n",
      "['LIN']: Exception('%ticker%: No timezone found, symbol may be delisted')\n"
     ]
    },
    {
     "name": "stdout",
     "output_type": "stream",
     "text": [
      "\n"
     ]
    },
    {
     "name": "stderr",
     "output_type": "stream",
     "text": [
      "Failed to get ticker 'LLY' reason: unsupported operand type(s) for -: 'datetime.datetime' and 'str'\n"
     ]
    },
    {
     "name": "stdout",
     "output_type": "stream",
     "text": [
      "[*********************100%%**********************]  1 of 1 completed"
     ]
    },
    {
     "name": "stderr",
     "output_type": "stream",
     "text": [
      "\n",
      "1 Failed download:\n",
      "['LLY']: Exception('%ticker%: No timezone found, symbol may be delisted')\n",
      "Failed to get ticker 'LMT' reason: unsupported operand type(s) for -: 'datetime.datetime' and 'str'\n"
     ]
    },
    {
     "name": "stdout",
     "output_type": "stream",
     "text": [
      "\n",
      "[*********************100%%**********************]  1 of 1 completed"
     ]
    },
    {
     "name": "stderr",
     "output_type": "stream",
     "text": [
      "\n",
      "1 Failed download:\n",
      "['LMT']: Exception('%ticker%: No timezone found, symbol may be delisted')\n"
     ]
    },
    {
     "name": "stdout",
     "output_type": "stream",
     "text": [
      "\n",
      "[*********************100%%**********************]  1 of 1 completed"
     ]
    },
    {
     "name": "stderr",
     "output_type": "stream",
     "text": [
      "\n",
      "1 Failed download:\n",
      "['LOW']: No price data found, symbol may be delisted (1d 2010-01-01 -> 2021-07-31)\n"
     ]
    },
    {
     "name": "stdout",
     "output_type": "stream",
     "text": [
      "\n"
     ]
    },
    {
     "name": "stderr",
     "output_type": "stream",
     "text": [
      "Failed to get ticker 'MA' reason: unsupported operand type(s) for -: 'datetime.datetime' and 'str'\n"
     ]
    },
    {
     "name": "stdout",
     "output_type": "stream",
     "text": [
      "[*********************100%%**********************]  1 of 1 completed"
     ]
    },
    {
     "name": "stderr",
     "output_type": "stream",
     "text": [
      "\n",
      "1 Failed download:\n",
      "['MA']: Exception('%ticker%: No timezone found, symbol may be delisted')\n"
     ]
    },
    {
     "name": "stdout",
     "output_type": "stream",
     "text": [
      "\n",
      "[*********************100%%**********************]  1 of 1 completed"
     ]
    },
    {
     "name": "stderr",
     "output_type": "stream",
     "text": [
      "\n",
      "1 Failed download:\n",
      "['MCD']: Exception('%ticker%: No price data found, symbol may be delisted (1d 2010-01-01 -> 2021-07-31)')\n"
     ]
    },
    {
     "name": "stdout",
     "output_type": "stream",
     "text": [
      "\n"
     ]
    },
    {
     "name": "stderr",
     "output_type": "stream",
     "text": [
      "Failed to get ticker 'MDLZ' reason: unsupported operand type(s) for -: 'datetime.datetime' and 'str'\n"
     ]
    },
    {
     "name": "stdout",
     "output_type": "stream",
     "text": [
      "[*********************100%%**********************]  1 of 1 completed"
     ]
    },
    {
     "name": "stderr",
     "output_type": "stream",
     "text": [
      "\n",
      "1 Failed download:\n",
      "['MDLZ']: Exception('%ticker%: No timezone found, symbol may be delisted')\n"
     ]
    },
    {
     "name": "stdout",
     "output_type": "stream",
     "text": [
      "\n"
     ]
    },
    {
     "name": "stderr",
     "output_type": "stream",
     "text": [
      "Failed to get ticker 'MDT' reason: unsupported operand type(s) for -: 'datetime.datetime' and 'str'\n"
     ]
    },
    {
     "name": "stdout",
     "output_type": "stream",
     "text": [
      "[*********************100%%**********************]  1 of 1 completed"
     ]
    },
    {
     "name": "stderr",
     "output_type": "stream",
     "text": [
      "\n",
      "1 Failed download:\n",
      "['MDT']: Exception('%ticker%: No timezone found, symbol may be delisted')\n",
      "Failed to get ticker 'MET' reason: unsupported operand type(s) for -: 'datetime.datetime' and 'str'\n"
     ]
    },
    {
     "name": "stdout",
     "output_type": "stream",
     "text": [
      "\n",
      "[*********************100%%**********************]  1 of 1 completed"
     ]
    },
    {
     "name": "stderr",
     "output_type": "stream",
     "text": [
      "\n",
      "1 Failed download:\n",
      "['MET']: Exception('%ticker%: No timezone found, symbol may be delisted')\n",
      "Failed to get ticker 'META' reason: unsupported operand type(s) for -: 'datetime.datetime' and 'str'\n"
     ]
    },
    {
     "name": "stdout",
     "output_type": "stream",
     "text": [
      "\n",
      "[*********************100%%**********************]  1 of 1 completed"
     ]
    },
    {
     "name": "stderr",
     "output_type": "stream",
     "text": [
      "\n",
      "1 Failed download:\n",
      "['META']: Exception('%ticker%: No timezone found, symbol may be delisted')\n"
     ]
    },
    {
     "name": "stdout",
     "output_type": "stream",
     "text": [
      "\n"
     ]
    },
    {
     "name": "stderr",
     "output_type": "stream",
     "text": [
      "Failed to get ticker 'MMM' reason: unsupported operand type(s) for -: 'datetime.datetime' and 'str'\n"
     ]
    },
    {
     "name": "stdout",
     "output_type": "stream",
     "text": [
      "[*********************100%%**********************]  1 of 1 completed"
     ]
    },
    {
     "name": "stderr",
     "output_type": "stream",
     "text": [
      "\n",
      "1 Failed download:\n",
      "['MMM']: Exception('%ticker%: No timezone found, symbol may be delisted')\n"
     ]
    },
    {
     "name": "stdout",
     "output_type": "stream",
     "text": [
      "\n"
     ]
    },
    {
     "name": "stderr",
     "output_type": "stream",
     "text": [
      "Failed to get ticker 'MO' reason: unsupported operand type(s) for -: 'datetime.datetime' and 'str'\n"
     ]
    },
    {
     "name": "stdout",
     "output_type": "stream",
     "text": [
      "[*********************100%%**********************]  1 of 1 completed"
     ]
    },
    {
     "name": "stderr",
     "output_type": "stream",
     "text": [
      "\n",
      "1 Failed download:\n",
      "['MO']: Exception('%ticker%: No timezone found, symbol may be delisted')\n"
     ]
    },
    {
     "name": "stdout",
     "output_type": "stream",
     "text": [
      "\n",
      "[*********************100%%**********************]  1 of 1 completed"
     ]
    },
    {
     "name": "stderr",
     "output_type": "stream",
     "text": [
      "\n",
      "1 Failed download:\n",
      "['MRK']: No price data found, symbol may be delisted (1d 2010-01-01 -> 2021-07-31)\n"
     ]
    },
    {
     "name": "stdout",
     "output_type": "stream",
     "text": [
      "\n",
      "[*********************100%%**********************]  1 of 1 completed"
     ]
    },
    {
     "name": "stderr",
     "output_type": "stream",
     "text": [
      "\n",
      "1 Failed download:\n",
      "['MS']: Exception('%ticker%: No price data found, symbol may be delisted (1d 2010-01-01 -> 2021-07-31)')\n"
     ]
    },
    {
     "name": "stdout",
     "output_type": "stream",
     "text": [
      "\n",
      "[*********************100%%**********************]  1 of 1 completed"
     ]
    },
    {
     "name": "stderr",
     "output_type": "stream",
     "text": [
      "\n",
      "1 Failed download:\n",
      "['MSFT']: Exception('%ticker%: No price data found, symbol may be delisted (1d 2010-01-01 -> 2021-07-31)')\n",
      "Failed to get ticker 'NEE' reason: unsupported operand type(s) for -: 'datetime.datetime' and 'str'\n"
     ]
    },
    {
     "name": "stdout",
     "output_type": "stream",
     "text": [
      "\n",
      "[*********************100%%**********************]  1 of 1 completed"
     ]
    },
    {
     "name": "stderr",
     "output_type": "stream",
     "text": [
      "\n",
      "1 Failed download:\n",
      "['NEE']: Exception('%ticker%: No timezone found, symbol may be delisted')\n"
     ]
    },
    {
     "name": "stdout",
     "output_type": "stream",
     "text": [
      "\n"
     ]
    },
    {
     "name": "stderr",
     "output_type": "stream",
     "text": [
      "Failed to get ticker 'NFLX' reason: unsupported operand type(s) for -: 'datetime.datetime' and 'str'\n"
     ]
    },
    {
     "name": "stdout",
     "output_type": "stream",
     "text": [
      "[*********************100%%**********************]  1 of 1 completed"
     ]
    },
    {
     "name": "stderr",
     "output_type": "stream",
     "text": [
      "\n",
      "1 Failed download:\n",
      "['NFLX']: Exception('%ticker%: No timezone found, symbol may be delisted')\n"
     ]
    },
    {
     "name": "stdout",
     "output_type": "stream",
     "text": [
      "\n",
      "[*********************100%%**********************]  1 of 1 completed"
     ]
    },
    {
     "name": "stderr",
     "output_type": "stream",
     "text": [
      "\n",
      "1 Failed download:\n",
      "['NKE']: No price data found, symbol may be delisted (1d 2010-01-01 -> 2021-07-31)\n"
     ]
    },
    {
     "name": "stdout",
     "output_type": "stream",
     "text": [
      "\n",
      "[*********************100%%**********************]  1 of 1 completed"
     ]
    },
    {
     "name": "stderr",
     "output_type": "stream",
     "text": [
      "\n",
      "1 Failed download:\n",
      "['NVDA']: Exception('%ticker%: No price data found, symbol may be delisted (1d 2010-01-01 -> 2021-07-31)')\n"
     ]
    },
    {
     "name": "stdout",
     "output_type": "stream",
     "text": [
      "\n"
     ]
    },
    {
     "name": "stderr",
     "output_type": "stream",
     "text": [
      "Failed to get ticker 'ORCL' reason: unsupported operand type(s) for -: 'datetime.datetime' and 'str'\n"
     ]
    },
    {
     "name": "stdout",
     "output_type": "stream",
     "text": [
      "[*********************100%%**********************]  1 of 1 completed"
     ]
    },
    {
     "name": "stderr",
     "output_type": "stream",
     "text": [
      "\n",
      "1 Failed download:\n",
      "['ORCL']: Exception('%ticker%: No timezone found, symbol may be delisted')\n"
     ]
    },
    {
     "name": "stdout",
     "output_type": "stream",
     "text": [
      "\n",
      "[*********************100%%**********************]  1 of 1 completed"
     ]
    },
    {
     "name": "stderr",
     "output_type": "stream",
     "text": [
      "\n",
      "1 Failed download:\n",
      "['PEP']: No price data found, symbol may be delisted (1d 2010-01-01 -> 2021-07-31)\n"
     ]
    },
    {
     "name": "stdout",
     "output_type": "stream",
     "text": [
      "\n",
      "[*********************100%%**********************]  1 of 1 completed"
     ]
    },
    {
     "name": "stderr",
     "output_type": "stream",
     "text": [
      "\n",
      "1 Failed download:\n",
      "['PFE']: Exception('%ticker%: No price data found, symbol may be delisted (1d 2010-01-01 -> 2021-07-31)')\n"
     ]
    },
    {
     "name": "stdout",
     "output_type": "stream",
     "text": [
      "\n",
      "[*********************100%%**********************]  1 of 1 completed"
     ]
    },
    {
     "name": "stderr",
     "output_type": "stream",
     "text": [
      "\n",
      "1 Failed download:\n",
      "['PG']: Exception('%ticker%: No price data found, symbol may be delisted (1d 2010-01-01 -> 2021-07-31)')\n",
      "Failed to get ticker 'PM' reason: unsupported operand type(s) for -: 'datetime.datetime' and 'str'\n"
     ]
    },
    {
     "name": "stdout",
     "output_type": "stream",
     "text": [
      "\n",
      "[*********************100%%**********************]  1 of 1 completed"
     ]
    },
    {
     "name": "stderr",
     "output_type": "stream",
     "text": [
      "\n",
      "1 Failed download:\n",
      "['PM']: Exception('%ticker%: No timezone found, symbol may be delisted')\n"
     ]
    },
    {
     "name": "stdout",
     "output_type": "stream",
     "text": [
      "\n",
      "[*********************100%%**********************]  1 of 1 completed"
     ]
    },
    {
     "name": "stderr",
     "output_type": "stream",
     "text": [
      "\n",
      "1 Failed download:\n",
      "['PYPL']: Exception('%ticker%: No price data found, symbol may be delisted (1d 2010-01-01 -> 2021-07-31)')\n",
      "Failed to get ticker 'QCOM' reason: unsupported operand type(s) for -: 'datetime.datetime' and 'str'\n"
     ]
    },
    {
     "name": "stdout",
     "output_type": "stream",
     "text": [
      "\n",
      "[*********************100%%**********************]  1 of 1 completed\n"
     ]
    },
    {
     "name": "stderr",
     "output_type": "stream",
     "text": [
      "\n",
      "1 Failed download:\n",
      "['QCOM']: Exception('%ticker%: No timezone found, symbol may be delisted')\n",
      "Failed to get ticker 'RTX' reason: unsupported operand type(s) for -: 'datetime.datetime' and 'str'\n"
     ]
    },
    {
     "name": "stdout",
     "output_type": "stream",
     "text": [
      "[*********************100%%**********************]  1 of 1 completed"
     ]
    },
    {
     "name": "stderr",
     "output_type": "stream",
     "text": [
      "\n",
      "1 Failed download:\n",
      "['RTX']: Exception('%ticker%: No timezone found, symbol may be delisted')\n"
     ]
    },
    {
     "name": "stdout",
     "output_type": "stream",
     "text": [
      "\n",
      "[*********************100%%**********************]  1 of 1 completed"
     ]
    },
    {
     "name": "stderr",
     "output_type": "stream",
     "text": [
      "\n",
      "1 Failed download:\n",
      "['SBUX']: No price data found, symbol may be delisted (1d 2010-01-01 -> 2021-07-31)\n"
     ]
    },
    {
     "name": "stdout",
     "output_type": "stream",
     "text": [
      "\n"
     ]
    },
    {
     "name": "stderr",
     "output_type": "stream",
     "text": [
      "Failed to get ticker 'SCHW' reason: unsupported operand type(s) for -: 'datetime.datetime' and 'str'\n"
     ]
    },
    {
     "name": "stdout",
     "output_type": "stream",
     "text": [
      "[*********************100%%**********************]  1 of 1 completed"
     ]
    },
    {
     "name": "stderr",
     "output_type": "stream",
     "text": [
      "\n",
      "1 Failed download:\n",
      "['SCHW']: Exception('%ticker%: No timezone found, symbol may be delisted')\n"
     ]
    },
    {
     "name": "stdout",
     "output_type": "stream",
     "text": [
      "\n"
     ]
    },
    {
     "name": "stderr",
     "output_type": "stream",
     "text": [
      "Failed to get ticker 'SO' reason: unsupported operand type(s) for -: 'datetime.datetime' and 'str'\n"
     ]
    },
    {
     "name": "stdout",
     "output_type": "stream",
     "text": [
      "[*********************100%%**********************]  1 of 1 completed"
     ]
    },
    {
     "name": "stderr",
     "output_type": "stream",
     "text": [
      "\n",
      "1 Failed download:\n",
      "['SO']: Exception('%ticker%: No timezone found, symbol may be delisted')\n"
     ]
    },
    {
     "name": "stdout",
     "output_type": "stream",
     "text": [
      "\n"
     ]
    },
    {
     "name": "stderr",
     "output_type": "stream",
     "text": [
      "Failed to get ticker 'SPG' reason: unsupported operand type(s) for -: 'datetime.datetime' and 'str'\n"
     ]
    },
    {
     "name": "stdout",
     "output_type": "stream",
     "text": [
      "[*********************100%%**********************]  1 of 1 completed"
     ]
    },
    {
     "name": "stderr",
     "output_type": "stream",
     "text": [
      "\n",
      "1 Failed download:\n",
      "['SPG']: Exception('%ticker%: No timezone found, symbol may be delisted')\n"
     ]
    },
    {
     "name": "stdout",
     "output_type": "stream",
     "text": [
      "\n"
     ]
    },
    {
     "name": "stderr",
     "output_type": "stream",
     "text": [
      "Failed to get ticker 'T' reason: unsupported operand type(s) for -: 'datetime.datetime' and 'str'\n"
     ]
    },
    {
     "name": "stdout",
     "output_type": "stream",
     "text": [
      "[*********************100%%**********************]  1 of 1 completed"
     ]
    },
    {
     "name": "stderr",
     "output_type": "stream",
     "text": [
      "\n",
      "1 Failed download:\n",
      "['T']: Exception('%ticker%: No timezone found, symbol may be delisted')\n"
     ]
    },
    {
     "name": "stdout",
     "output_type": "stream",
     "text": [
      "\n"
     ]
    },
    {
     "name": "stderr",
     "output_type": "stream",
     "text": [
      "Failed to get ticker 'TGT' reason: unsupported operand type(s) for -: 'datetime.datetime' and 'str'\n"
     ]
    },
    {
     "name": "stdout",
     "output_type": "stream",
     "text": [
      "[*********************100%%**********************]  1 of 1 completed"
     ]
    },
    {
     "name": "stderr",
     "output_type": "stream",
     "text": [
      "\n",
      "1 Failed download:\n",
      "['TGT']: Exception('%ticker%: No timezone found, symbol may be delisted')\n"
     ]
    },
    {
     "name": "stdout",
     "output_type": "stream",
     "text": [
      "\n",
      "[*********************100%%**********************]  1 of 1 completed"
     ]
    },
    {
     "name": "stderr",
     "output_type": "stream",
     "text": [
      "\n",
      "1 Failed download:\n",
      "['TMO']: Exception('%ticker%: No price data found, symbol may be delisted (1d 2010-01-01 -> 2021-07-31)')\n"
     ]
    },
    {
     "name": "stdout",
     "output_type": "stream",
     "text": [
      "\n"
     ]
    },
    {
     "name": "stderr",
     "output_type": "stream",
     "text": [
      "Failed to get ticker 'TMUS' reason: unsupported operand type(s) for -: 'datetime.datetime' and 'str'\n"
     ]
    },
    {
     "name": "stdout",
     "output_type": "stream",
     "text": [
      "[*********************100%%**********************]  1 of 1 completed"
     ]
    },
    {
     "name": "stderr",
     "output_type": "stream",
     "text": [
      "\n",
      "1 Failed download:\n",
      "['TMUS']: Exception('%ticker%: No timezone found, symbol may be delisted')\n"
     ]
    },
    {
     "name": "stdout",
     "output_type": "stream",
     "text": [
      "\n",
      "[*********************100%%**********************]  1 of 1 completed"
     ]
    },
    {
     "name": "stderr",
     "output_type": "stream",
     "text": [
      "\n",
      "1 Failed download:\n",
      "['TSLA']: Exception('%ticker%: No price data found, symbol may be delisted (1d 2010-01-01 -> 2021-07-31)')\n"
     ]
    },
    {
     "name": "stdout",
     "output_type": "stream",
     "text": [
      "\n"
     ]
    },
    {
     "name": "stderr",
     "output_type": "stream",
     "text": [
      "Failed to get ticker 'TXN' reason: unsupported operand type(s) for -: 'datetime.datetime' and 'str'\n"
     ]
    },
    {
     "name": "stdout",
     "output_type": "stream",
     "text": [
      "[*********************100%%**********************]  1 of 1 completed"
     ]
    },
    {
     "name": "stderr",
     "output_type": "stream",
     "text": [
      "\n",
      "1 Failed download:\n",
      "['TXN']: Exception('%ticker%: No timezone found, symbol may be delisted')\n"
     ]
    },
    {
     "name": "stdout",
     "output_type": "stream",
     "text": [
      "\n",
      "[*********************100%%**********************]  1 of 1 completed"
     ]
    },
    {
     "name": "stderr",
     "output_type": "stream",
     "text": [
      "\n",
      "1 Failed download:\n",
      "['UNH']: Exception('%ticker%: No price data found, symbol may be delisted (1d 2010-01-01 -> 2021-07-31)')\n",
      "Failed to get ticker 'UNP' reason: unsupported operand type(s) for -: 'datetime.datetime' and 'str'\n"
     ]
    },
    {
     "name": "stdout",
     "output_type": "stream",
     "text": [
      "\n",
      "[*********************100%%**********************]  1 of 1 completed"
     ]
    },
    {
     "name": "stderr",
     "output_type": "stream",
     "text": [
      "\n",
      "1 Failed download:\n",
      "['UNP']: Exception('%ticker%: No timezone found, symbol may be delisted')\n"
     ]
    },
    {
     "name": "stdout",
     "output_type": "stream",
     "text": [
      "\n"
     ]
    },
    {
     "name": "stderr",
     "output_type": "stream",
     "text": [
      "Failed to get ticker 'UPS' reason: unsupported operand type(s) for -: 'datetime.datetime' and 'str'\n"
     ]
    },
    {
     "name": "stdout",
     "output_type": "stream",
     "text": [
      "[*********************100%%**********************]  1 of 1 completed"
     ]
    },
    {
     "name": "stderr",
     "output_type": "stream",
     "text": [
      "\n",
      "1 Failed download:\n",
      "['UPS']: Exception('%ticker%: No timezone found, symbol may be delisted')\n"
     ]
    },
    {
     "name": "stdout",
     "output_type": "stream",
     "text": [
      "\n"
     ]
    },
    {
     "name": "stderr",
     "output_type": "stream",
     "text": [
      "Failed to get ticker 'USB' reason: unsupported operand type(s) for -: 'datetime.datetime' and 'str'\n"
     ]
    },
    {
     "name": "stdout",
     "output_type": "stream",
     "text": [
      "[*********************100%%**********************]  1 of 1 completed"
     ]
    },
    {
     "name": "stderr",
     "output_type": "stream",
     "text": [
      "\n",
      "1 Failed download:\n",
      "['USB']: Exception('%ticker%: No timezone found, symbol may be delisted')\n"
     ]
    },
    {
     "name": "stdout",
     "output_type": "stream",
     "text": [
      "\n",
      "[*********************100%%**********************]  1 of 1 completed"
     ]
    },
    {
     "name": "stderr",
     "output_type": "stream",
     "text": [
      "\n",
      "1 Failed download:\n",
      "['V']: No price data found, symbol may be delisted (1d 2010-01-01 -> 2021-07-31)\n"
     ]
    },
    {
     "name": "stdout",
     "output_type": "stream",
     "text": [
      "\n"
     ]
    },
    {
     "name": "stderr",
     "output_type": "stream",
     "text": [
      "Failed to get ticker 'VZ' reason: unsupported operand type(s) for -: 'datetime.datetime' and 'str'\n"
     ]
    },
    {
     "name": "stdout",
     "output_type": "stream",
     "text": [
      "[*********************100%%**********************]  1 of 1 completed"
     ]
    },
    {
     "name": "stderr",
     "output_type": "stream",
     "text": [
      "\n",
      "1 Failed download:\n",
      "['VZ']: Exception('%ticker%: No timezone found, symbol may be delisted')\n"
     ]
    },
    {
     "name": "stdout",
     "output_type": "stream",
     "text": [
      "\n",
      "[*********************100%%**********************]  1 of 1 completed"
     ]
    },
    {
     "name": "stderr",
     "output_type": "stream",
     "text": [
      "\n",
      "1 Failed download:\n",
      "['WFC']: Exception('%ticker%: No price data found, symbol may be delisted (1d 2010-01-01 -> 2021-07-31)')\n"
     ]
    },
    {
     "name": "stdout",
     "output_type": "stream",
     "text": [
      "\n",
      "[*********************100%%**********************]  1 of 1 completed"
     ]
    },
    {
     "name": "stderr",
     "output_type": "stream",
     "text": [
      "\n",
      "1 Failed download:\n",
      "['WMT']: Exception('%ticker%: No price data found, symbol may be delisted (1d 2010-01-01 -> 2021-07-31)')\n",
      "Failed to get ticker 'XOM' reason: unsupported operand type(s) for -: 'datetime.datetime' and 'str'\n"
     ]
    },
    {
     "name": "stdout",
     "output_type": "stream",
     "text": [
      "\n",
      "[*********************100%%**********************]  1 of 1 completed"
     ]
    },
    {
     "name": "stderr",
     "output_type": "stream",
     "text": [
      "\n",
      "1 Failed download:\n",
      "['XOM']: Exception('%ticker%: No timezone found, symbol may be delisted')\n"
     ]
    },
    {
     "name": "stdout",
     "output_type": "stream",
     "text": [
      "\n"
     ]
    }
   ],
   "source": [
    "# Fetching historical data for each ticker in S&P100\n",
    "\n",
    "start_date = '2010-01-01'\n",
    "end_date = '2021-07-31'\n",
    "\n",
    "snp100_data_dict = {}\n",
    "\n",
    "for ticker in snp100:\n",
    "    data = yf.download(ticker, start=start_date, end=end_date, interval='1d')\n",
    "    preprocess(data).to_csv(f'/home/yakub/Documents/Python/SnP100/Daily/{ticker}.csv', index=False)\n",
    "    snp100_data_dict[ticker] = data"
   ]
  },
  {
   "cell_type": "code",
   "execution_count": 2,
   "metadata": {},
   "outputs": [
    {
     "name": "stdout",
     "output_type": "stream",
     "text": [
      "[*********************100%%**********************]  1 of 1 completed"
     ]
    },
    {
     "name": "stderr",
     "output_type": "stream",
     "text": [
      "\n",
      "1 Failed download:\n",
      "['TSLA']: Exception('%ticker%: No price data found, symbol may be delisted (1d 2020-01-01 -> 2020-12-31)')\n"
     ]
    },
    {
     "name": "stdout",
     "output_type": "stream",
     "text": [
      "\n",
      "Empty DataFrame\n",
      "Columns: [Open, High, Low, Close, Adj Close, Volume]\n",
      "Index: []\n"
     ]
    }
   ],
   "source": [
    "import yfinance as yf\n",
    "\n",
    "start = \"2020-01-01\" \n",
    "end = \"2020-12-31\"\n",
    "\n",
    "data = yf.download(\"TSLA\", start=start, end=end)\n",
    "\n",
    "print(data.head())"
   ]
  },
  {
   "cell_type": "code",
   "execution_count": 5,
   "metadata": {},
   "outputs": [
    {
     "name": "stdout",
     "output_type": "stream",
     "text": [
      "[*********************100%%**********************]  1 of 1 completed"
     ]
    },
    {
     "name": "stderr",
     "output_type": "stream",
     "text": [
      "\n",
      "1 Failed download:\n",
      "['AAPL']: Exception('%ticker%: No price data found, symbol may be delisted (1d 2020-01-01 -> 2020-12-31)')\n"
     ]
    },
    {
     "name": "stdout",
     "output_type": "stream",
     "text": [
      "\n"
     ]
    }
   ],
   "source": [
    "data = yf.download(\"AAPL\", period='1d', start=\"2020-01-01\", end=\"2020-12-31\")"
   ]
  },
  {
   "cell_type": "markdown",
   "metadata": {},
   "source": [
    "## Register and Ingest S&P100 Bundle"
   ]
  },
  {
   "cell_type": "code",
   "execution_count": 12,
   "metadata": {
    "tags": []
   },
   "outputs": [
    {
     "name": "stderr",
     "output_type": "stream",
     "text": [
      "/tmp/ipykernel_9353/1858744274.py:5: UserWarning: Overwriting bundle with name 'snp100'\n",
      "  bundles.register(\n"
     ]
    },
    {
     "data": {
      "text/plain": [
       "mappingproxy({'quandl': RegisteredBundle(calendar_name='NYSE', start_session=None, end_session=None, minutes_per_day=390, ingest=<function quandl_bundle at 0x7f19c5d7ea60>, create_writers=True),\n",
       "              'quantopian-quandl': RegisteredBundle(calendar_name='NYSE', start_session=None, end_session=None, minutes_per_day=390, ingest=<function quantopian_quandl_bundle at 0x7f19c5d7ec10>, create_writers=False),\n",
       "              'csvdir': RegisteredBundle(calendar_name='NYSE', start_session=None, end_session=None, minutes_per_day=390, ingest=<function csvdir_bundle at 0x7f19c5d7ee50>, create_writers=True),\n",
       "              'snp100': RegisteredBundle(calendar_name='NYSE', start_session=None, end_session=None, minutes_per_day=390, ingest=<bound method CSVDIRBundle.ingest of <zipline.data.bundles.csvdir.CSVDIRBundle object at 0x7f19aa7ce850>>, create_writers=True)})"
      ]
     },
     "execution_count": 12,
     "metadata": {},
     "output_type": "execute_result"
    }
   ],
   "source": [
    "from zipline.data import bundles\n",
    "\n",
    "bundle_name = 'snp100'\n",
    "\n",
    "bundles.register(\n",
    "    bundle_name,\n",
    "    bundles.csvdir.csvdir_equities(\n",
    "        ['daily'],\n",
    "        '/home/yakub/Documents/Python/SnP100'\n",
    "    ),\n",
    "    calendar_name='NYSE',\n",
    "\n",
    ")\n",
    "\n",
    "bundles.bundles"
   ]
  },
  {
   "cell_type": "code",
   "execution_count": 13,
   "metadata": {
    "tags": []
   },
   "outputs": [
    {
     "ename": "FileNotFoundError",
     "evalue": "[Errno 2] No such file or directory: '/home/yakub/Documents/Python/SnP100/daily'",
     "output_type": "error",
     "traceback": [
      "\u001b[0;31m---------------------------------------------------------------------------\u001b[0m",
      "\u001b[0;31mFileNotFoundError\u001b[0m                         Traceback (most recent call last)",
      "Cell \u001b[0;32mIn[13], line 1\u001b[0m\n\u001b[0;32m----> 1\u001b[0m \u001b[43mbundles\u001b[49m\u001b[38;5;241;43m.\u001b[39;49m\u001b[43mingest\u001b[49m\u001b[43m(\u001b[49m\u001b[43mbundle_name\u001b[49m\u001b[43m)\u001b[49m\n",
      "File \u001b[0;32m~/anaconda3/lib/python3.9/site-packages/zipline/data/bundles/core.py:445\u001b[0m, in \u001b[0;36m_make_bundle_core.<locals>.ingest\u001b[0;34m(name, environ, timestamp, assets_versions, show_progress)\u001b[0m\n\u001b[1;32m    439\u001b[0m         \u001b[38;5;28;01mraise\u001b[39;00m \u001b[38;5;167;01mValueError\u001b[39;00m(\n\u001b[1;32m    440\u001b[0m             \u001b[38;5;124m\"\u001b[39m\u001b[38;5;124mNeed to ingest a bundle that creates \u001b[39m\u001b[38;5;124m\"\u001b[39m\n\u001b[1;32m    441\u001b[0m             \u001b[38;5;124m\"\u001b[39m\u001b[38;5;124mwriters in order to downgrade the assets\u001b[39m\u001b[38;5;124m\"\u001b[39m\n\u001b[1;32m    442\u001b[0m             \u001b[38;5;124m\"\u001b[39m\u001b[38;5;124m db.\u001b[39m\u001b[38;5;124m\"\u001b[39m\n\u001b[1;32m    443\u001b[0m         )\n\u001b[1;32m    444\u001b[0m log\u001b[38;5;241m.\u001b[39minfo(\u001b[38;5;124m\"\u001b[39m\u001b[38;5;124mIngesting \u001b[39m\u001b[38;5;132;01m%s\u001b[39;00m\u001b[38;5;124m\"\u001b[39m, name)\n\u001b[0;32m--> 445\u001b[0m \u001b[43mbundle\u001b[49m\u001b[38;5;241;43m.\u001b[39;49m\u001b[43mingest\u001b[49m\u001b[43m(\u001b[49m\n\u001b[1;32m    446\u001b[0m \u001b[43m    \u001b[49m\u001b[43menviron\u001b[49m\u001b[43m,\u001b[49m\n\u001b[1;32m    447\u001b[0m \u001b[43m    \u001b[49m\u001b[43masset_db_writer\u001b[49m\u001b[43m,\u001b[49m\n\u001b[1;32m    448\u001b[0m \u001b[43m    \u001b[49m\u001b[43mminute_bar_writer\u001b[49m\u001b[43m,\u001b[49m\n\u001b[1;32m    449\u001b[0m \u001b[43m    \u001b[49m\u001b[43mdaily_bar_writer\u001b[49m\u001b[43m,\u001b[49m\n\u001b[1;32m    450\u001b[0m \u001b[43m    \u001b[49m\u001b[43madjustment_db_writer\u001b[49m\u001b[43m,\u001b[49m\n\u001b[1;32m    451\u001b[0m \u001b[43m    \u001b[49m\u001b[43mcalendar\u001b[49m\u001b[43m,\u001b[49m\n\u001b[1;32m    452\u001b[0m \u001b[43m    \u001b[49m\u001b[43mstart_session\u001b[49m\u001b[43m,\u001b[49m\n\u001b[1;32m    453\u001b[0m \u001b[43m    \u001b[49m\u001b[43mend_session\u001b[49m\u001b[43m,\u001b[49m\n\u001b[1;32m    454\u001b[0m \u001b[43m    \u001b[49m\u001b[43mcache\u001b[49m\u001b[43m,\u001b[49m\n\u001b[1;32m    455\u001b[0m \u001b[43m    \u001b[49m\u001b[43mshow_progress\u001b[49m\u001b[43m,\u001b[49m\n\u001b[1;32m    456\u001b[0m \u001b[43m    \u001b[49m\u001b[43mpth\u001b[49m\u001b[38;5;241;43m.\u001b[39;49m\u001b[43mdata_path\u001b[49m\u001b[43m(\u001b[49m\u001b[43m[\u001b[49m\u001b[43mname\u001b[49m\u001b[43m,\u001b[49m\u001b[43m \u001b[49m\u001b[43mtimestr\u001b[49m\u001b[43m]\u001b[49m\u001b[43m,\u001b[49m\u001b[43m \u001b[49m\u001b[43menviron\u001b[49m\u001b[38;5;241;43m=\u001b[39;49m\u001b[43menviron\u001b[49m\u001b[43m)\u001b[49m\u001b[43m,\u001b[49m\n\u001b[1;32m    457\u001b[0m \u001b[43m\u001b[49m\u001b[43m)\u001b[49m\n\u001b[1;32m    459\u001b[0m \u001b[38;5;28;01mfor\u001b[39;00m version \u001b[38;5;129;01min\u001b[39;00m \u001b[38;5;28msorted\u001b[39m(\u001b[38;5;28mset\u001b[39m(assets_versions), reverse\u001b[38;5;241m=\u001b[39m\u001b[38;5;28;01mTrue\u001b[39;00m):\n\u001b[1;32m    460\u001b[0m     version_path \u001b[38;5;241m=\u001b[39m wd\u001b[38;5;241m.\u001b[39mgetpath(\n\u001b[1;32m    461\u001b[0m         \u001b[38;5;241m*\u001b[39masset_db_relative(\n\u001b[1;32m    462\u001b[0m             name,\n\u001b[0;32m   (...)\u001b[0m\n\u001b[1;32m    465\u001b[0m         )\n\u001b[1;32m    466\u001b[0m     )\n",
      "File \u001b[0;32m~/anaconda3/lib/python3.9/site-packages/zipline/data/bundles/csvdir.py:83\u001b[0m, in \u001b[0;36mCSVDIRBundle.ingest\u001b[0;34m(self, environ, asset_db_writer, minute_bar_writer, daily_bar_writer, adjustment_writer, calendar, start_session, end_session, cache, show_progress, output_dir)\u001b[0m\n\u001b[1;32m     69\u001b[0m \u001b[38;5;28;01mdef\u001b[39;00m \u001b[38;5;21mingest\u001b[39m(\n\u001b[1;32m     70\u001b[0m     \u001b[38;5;28mself\u001b[39m,\n\u001b[1;32m     71\u001b[0m     environ,\n\u001b[0;32m   (...)\u001b[0m\n\u001b[1;32m     81\u001b[0m     output_dir,\n\u001b[1;32m     82\u001b[0m ):\n\u001b[0;32m---> 83\u001b[0m     \u001b[43mcsvdir_bundle\u001b[49m\u001b[43m(\u001b[49m\n\u001b[1;32m     84\u001b[0m \u001b[43m        \u001b[49m\u001b[43menviron\u001b[49m\u001b[43m,\u001b[49m\n\u001b[1;32m     85\u001b[0m \u001b[43m        \u001b[49m\u001b[43masset_db_writer\u001b[49m\u001b[43m,\u001b[49m\n\u001b[1;32m     86\u001b[0m \u001b[43m        \u001b[49m\u001b[43mminute_bar_writer\u001b[49m\u001b[43m,\u001b[49m\n\u001b[1;32m     87\u001b[0m \u001b[43m        \u001b[49m\u001b[43mdaily_bar_writer\u001b[49m\u001b[43m,\u001b[49m\n\u001b[1;32m     88\u001b[0m \u001b[43m        \u001b[49m\u001b[43madjustment_writer\u001b[49m\u001b[43m,\u001b[49m\n\u001b[1;32m     89\u001b[0m \u001b[43m        \u001b[49m\u001b[43mcalendar\u001b[49m\u001b[43m,\u001b[49m\n\u001b[1;32m     90\u001b[0m \u001b[43m        \u001b[49m\u001b[43mstart_session\u001b[49m\u001b[43m,\u001b[49m\n\u001b[1;32m     91\u001b[0m \u001b[43m        \u001b[49m\u001b[43mend_session\u001b[49m\u001b[43m,\u001b[49m\n\u001b[1;32m     92\u001b[0m \u001b[43m        \u001b[49m\u001b[43mcache\u001b[49m\u001b[43m,\u001b[49m\n\u001b[1;32m     93\u001b[0m \u001b[43m        \u001b[49m\u001b[43mshow_progress\u001b[49m\u001b[43m,\u001b[49m\n\u001b[1;32m     94\u001b[0m \u001b[43m        \u001b[49m\u001b[43moutput_dir\u001b[49m\u001b[43m,\u001b[49m\n\u001b[1;32m     95\u001b[0m \u001b[43m        \u001b[49m\u001b[38;5;28;43mself\u001b[39;49m\u001b[38;5;241;43m.\u001b[39;49m\u001b[43mtframes\u001b[49m\u001b[43m,\u001b[49m\n\u001b[1;32m     96\u001b[0m \u001b[43m        \u001b[49m\u001b[38;5;28;43mself\u001b[39;49m\u001b[38;5;241;43m.\u001b[39;49m\u001b[43mcsvdir\u001b[49m\u001b[43m,\u001b[49m\n\u001b[1;32m     97\u001b[0m \u001b[43m    \u001b[49m\u001b[43m)\u001b[49m\n",
      "File \u001b[0;32m~/anaconda3/lib/python3.9/site-packages/zipline/data/bundles/csvdir.py:152\u001b[0m, in \u001b[0;36mcsvdir_bundle\u001b[0;34m(environ, asset_db_writer, minute_bar_writer, daily_bar_writer, adjustment_writer, calendar, start_session, end_session, cache, show_progress, output_dir, tframes, csvdir)\u001b[0m\n\u001b[1;32m    148\u001b[0m \u001b[38;5;28;01mfor\u001b[39;00m tframe \u001b[38;5;129;01min\u001b[39;00m tframes:\n\u001b[1;32m    149\u001b[0m     ddir \u001b[38;5;241m=\u001b[39m os\u001b[38;5;241m.\u001b[39mpath\u001b[38;5;241m.\u001b[39mjoin(csvdir, tframe)\n\u001b[1;32m    151\u001b[0m     symbols \u001b[38;5;241m=\u001b[39m \u001b[38;5;28msorted\u001b[39m(\n\u001b[0;32m--> 152\u001b[0m         item\u001b[38;5;241m.\u001b[39msplit(\u001b[38;5;124m\"\u001b[39m\u001b[38;5;124m.csv\u001b[39m\u001b[38;5;124m\"\u001b[39m)[\u001b[38;5;241m0\u001b[39m] \u001b[38;5;28;01mfor\u001b[39;00m item \u001b[38;5;129;01min\u001b[39;00m \u001b[43mos\u001b[49m\u001b[38;5;241;43m.\u001b[39;49m\u001b[43mlistdir\u001b[49m\u001b[43m(\u001b[49m\u001b[43mddir\u001b[49m\u001b[43m)\u001b[49m \u001b[38;5;28;01mif\u001b[39;00m \u001b[38;5;124m\"\u001b[39m\u001b[38;5;124m.csv\u001b[39m\u001b[38;5;124m\"\u001b[39m \u001b[38;5;129;01min\u001b[39;00m item\n\u001b[1;32m    153\u001b[0m     )\n\u001b[1;32m    154\u001b[0m     \u001b[38;5;28;01mif\u001b[39;00m \u001b[38;5;129;01mnot\u001b[39;00m symbols:\n\u001b[1;32m    155\u001b[0m         \u001b[38;5;28;01mraise\u001b[39;00m \u001b[38;5;167;01mValueError\u001b[39;00m(\u001b[38;5;124m\"\u001b[39m\u001b[38;5;124mno <symbol>.csv* files found in \u001b[39m\u001b[38;5;132;01m%s\u001b[39;00m\u001b[38;5;124m\"\u001b[39m \u001b[38;5;241m%\u001b[39m ddir)\n",
      "\u001b[0;31mFileNotFoundError\u001b[0m: [Errno 2] No such file or directory: '/home/yakub/Documents/Python/SnP100/daily'"
     ]
    }
   ],
   "source": [
    "bundles.ingest(bundle_name)"
   ]
  },
  {
   "cell_type": "code",
   "execution_count": null,
   "metadata": {
    "tags": []
   },
   "outputs": [],
   "source": [
    "bundle_data = bundles.load(bundle_name)\n",
    "sids = bundle_data.asset_finder.sids\n",
    "assets = bundle_data.asset_finder.retrieve_all(sids)\n",
    "\n",
    "print(assets)"
   ]
  },
  {
   "cell_type": "code",
   "execution_count": null,
   "metadata": {
    "tags": []
   },
   "outputs": [],
   "source": [
    "!zipline bundles"
   ]
  },
  {
   "cell_type": "code",
   "execution_count": null,
   "metadata": {
    "tags": []
   },
   "outputs": [],
   "source": [
    "!zipline ingest -b snp100"
   ]
  },
  {
   "cell_type": "code",
   "execution_count": null,
   "metadata": {
    "tags": []
   },
   "outputs": [],
   "source": [
    "!zipline bundles"
   ]
  },
  {
   "cell_type": "markdown",
   "metadata": {},
   "source": [
    "## Backtest with Keltner"
   ]
  },
  {
   "cell_type": "code",
   "execution_count": null,
   "metadata": {
    "tags": []
   },
   "outputs": [],
   "source": [
    "from strategy.keltner import keltner\n",
    "from zipline.api import (order, order_target, record, symbol, get_datetime,\n",
    "                         order_target_percent,\n",
    "                         order_target_value,\n",
    "                         set_benchmark,\n",
    "                         get_open_orders)\n",
    "from zipline import run_algorithm"
   ]
  },
  {
   "cell_type": "code",
   "execution_count": null,
   "metadata": {
    "tags": []
   },
   "outputs": [],
   "source": [
    "def asset_df(symbol):\n",
    "    df = pd.read_csv('/home/sharar/Documents/SNP100/daily/' + str(symbol) + '.csv')\n",
    "    return df.set_index(pd.DatetimeIndex(df.timestamp))"
   ]
  },
  {
   "cell_type": "code",
   "execution_count": null,
   "metadata": {
    "tags": []
   },
   "outputs": [],
   "source": [
    "%%capture kltr\n",
    "\n",
    "capital_base = 10000\n",
    "symb = 'TSLA'\n",
    "window = 90\n",
    "\n",
    "def initialize(context):\n",
    "    context.i = 0\n",
    "    # set_benchmark(symbol(symb))\n",
    "\n",
    "    assets = list()\n",
    "    for ticker in snp100:\n",
    "        assets.append(symbol(ticker))\n",
    "\n",
    "    context.assets = assets\n",
    "    \n",
    "    context.signals = {}\n",
    "    for asset in context.assets:\n",
    "        df = asset_df(asset.symbol)\n",
    "        signals, mid, upper, lower = keltner(df, span=window, strategy=1, TimeperiodLong =40, TimeperiodShort =4, AdaWin =4)\n",
    "        context.signals[asset.symbol] = signals \n",
    "    context.i = 0\n",
    "    \n",
    "def handle_data(context, data):\n",
    "    # Skip first 300 days to get full windows\n",
    "    context.i += 1\n",
    "    if context.i < window+1:\n",
    "        return\n",
    "\n",
    "    # Compute averages\n",
    "    # data.history() has to be called with the same params\n",
    "    # from above and returns a pandas dataframe.\n",
    "    # cash = min(context.portfolio.cash, 20000)\n",
    "    current_date = data.history(context.assets[0], 'price', bar_count=2, frequency=\"1d\").index[-1]\n",
    "    for asset in context.assets:\n",
    "        if data.can_trade(asset) and not get_open_orders(asset):\n",
    "            cash = context.portfolio.cash\n",
    "            price = data.current(asset, \"price\")\n",
    "            # Find corresponding signal\n",
    "            open_orders = get_open_orders()\n",
    "            if context.signals[asset.symbol][current_date]==1:\n",
    "                # 1 signal means upward trend\n",
    "                order_target(asset, cash//price)\n",
    "            elif context.signals[asset.symbol][current_date]==-1:\n",
    "                # Assume downward trend and sell off\n",
    "                order_target(asset, 0)\n",
    "            else:\n",
    "                pass\n",
    "    \n",
    "\n",
    "result = run_algorithm(start=pd.to_datetime(start_date),\n",
    "                        end=pd.to_datetime(end_date),\n",
    "                        initialize=initialize,\n",
    "                        handle_data=handle_data,\n",
    "                        capital_base=capital_base,\n",
    "                        bundle='snp100',\n",
    "                        data_frequency='daily',\n",
    "                        )"
   ]
  },
  {
   "cell_type": "code",
   "execution_count": null,
   "metadata": {
    "tags": []
   },
   "outputs": [],
   "source": [
    "%matplotlib inline\n",
    "\n",
    "import modules.stats_main as stat\n",
    "result = stat.show_rolling_stats(result, 180)"
   ]
  },
  {
   "cell_type": "markdown",
   "metadata": {},
   "source": [
    "## Stop Loss"
   ]
  },
  {
   "cell_type": "code",
   "execution_count": null,
   "metadata": {},
   "outputs": [],
   "source": [
    "def analyze(perf):\n",
    "    fig, ax = plt.subplots(3, 1, sharex=True, figsize=[16, 18])\n",
    "\n",
    "    # portfolio value\n",
    "    perf.portfolio_value.plot(ax=ax[0])\n",
    "    ax[0].set_ylabel('portfolio value in $')\n",
    "\n",
    "    # asset\n",
    "    perf.price.plot(ax=ax[1])\n",
    "    ax[1].set_ylabel('price in $')\n",
    "\n",
    "    # mark transactions\n",
    "    perf_trans = perf.loc[[t != [] for t in perf.transactions]]\n",
    "    buys = perf_trans.loc[[t[0]['amount'] > 0 for t in perf_trans.transactions]]\n",
    "    sells = perf_trans.loc[[t[0]['amount'] < 0 for t in perf_trans.transactions]]\n",
    "    ax[1].plot(buys.index, perf.price.loc[buys.index], '^', markersize=4, color='g', label='buy')\n",
    "    ax[1].plot(sells.index, perf.price.loc[sells.index], 'v', markersize=4, color='r', label='sell')\n",
    "    print(f'Buycount:{len(buys.index)}, Sellcount:{len(sells.index)}')\n",
    "    \n",
    "    # value on price\n",
    "    (1+perf.portfolio_value.pct_change()).cumprod().plot(ax=ax[2])\n",
    "    (1+perf.price.pct_change()).cumprod().plot(ax=ax[2])\n",
    "    ax[2].set_ylabel('Performance')\n",
    "\n",
    "    fig.suptitle('Results', fontsize=16)\n",
    "    plt.legend()\n",
    "    plt.savefig(('buy_and_hold'), dpi=300)\n",
    "    plt.show()"
   ]
  },
  {
   "cell_type": "code",
   "execution_count": null,
   "metadata": {
    "tags": []
   },
   "outputs": [],
   "source": [
    "analyze(result)"
   ]
  },
  {
   "cell_type": "markdown",
   "metadata": {},
   "source": [
    "## Optimizing Sharpe"
   ]
  },
  {
   "cell_type": "code",
   "execution_count": null,
   "metadata": {
    "tags": []
   },
   "outputs": [],
   "source": [
    "%%capture kltr\n",
    "\n",
    "capital_base = 10000\n",
    "symb = 'TSLA'\n",
    "window = 60\n",
    "\n",
    "def initialize(context):\n",
    "    context.i = 0\n",
    "    # set_benchmark(symbol(symb))\n",
    "\n",
    "    assets = list()\n",
    "    for ticker in snp100:\n",
    "        assets.append(symbol(ticker))\n",
    "\n",
    "    context.assets = assets\n",
    "    \n",
    "    context.signals = {}\n",
    "    for asset in context.assets:\n",
    "        df = asset_df(asset.symbol)\n",
    "        signals, mid, upper, lower = keltner(df, span=window, strategy=1, TimeperiodLong =window, TimeperiodShort =10, AdaWin =10)\n",
    "        context.signals[asset.symbol] = signals \n",
    "    context.i = 0\n",
    "    \n",
    "def handle_data(context, data):\n",
    "    # Skip first 300 days to get full windows\n",
    "    context.i += 1\n",
    "    if context.i < window+1:\n",
    "        return\n",
    "\n",
    "    # Compute averages\n",
    "    # data.history() has to be called with the same params\n",
    "    # from above and returns a pandas dataframe.\n",
    "    # cash = min(context.portfolio.cash, 20000)\n",
    "    current_date = data.history(context.assets[0], 'price', bar_count=2, frequency=\"1d\").index[-1]\n",
    "    for asset in context.assets:\n",
    "        if data.can_trade(asset) and not get_open_orders(asset):\n",
    "            cash = context.portfolio.cash\n",
    "            price = data.current(asset, \"price\")\n",
    "            # Find corresponding signal\n",
    "            open_orders = get_open_orders()\n",
    "            if context.signals[asset.symbol][current_date]==1:\n",
    "                # 1 signal means upward trend\n",
    "                order_target(asset, cash//price)\n",
    "            elif context.signals[asset.symbol][current_date]==-1:\n",
    "                # Assume downward trend and sell off\n",
    "                order_target(asset, 0)\n",
    "            else:\n",
    "                pass\n",
    "    \n",
    "\n",
    "result = run_algorithm(start=pd.to_datetime(start_date),\n",
    "                        end=pd.to_datetime(end_date),\n",
    "                        initialize=initialize,\n",
    "                        handle_data=handle_data,\n",
    "                        capital_base=capital_base,\n",
    "                        bundle='snp100',\n",
    "                        data_frequency='daily',\n",
    "                        )"
   ]
  },
  {
   "cell_type": "code",
   "execution_count": null,
   "metadata": {
    "tags": []
   },
   "outputs": [],
   "source": [
    "%matplotlib inline\n",
    "\n",
    "import modules.stats_main as stat\n",
    "result = stat.show_rolling_stats(result, 180)"
   ]
  },
  {
   "cell_type": "code",
   "execution_count": 1,
   "metadata": {
    "tags": []
   },
   "outputs": [
    {
     "name": "stderr",
     "output_type": "stream",
     "text": [
      "/home/yakub/.local/lib/python3.10/site-packages/pyfolio/pos.py:25: UserWarning: Module \"zipline.assets\" not found; multipliers will not be applied to position notionals.\n",
      "  warnings.warn(\n"
     ]
    },
    {
     "ename": "NameError",
     "evalue": "name 'result' is not defined",
     "output_type": "error",
     "traceback": [
      "\u001b[0;31m---------------------------------------------------------------------------\u001b[0m",
      "\u001b[0;31mNameError\u001b[0m                                 Traceback (most recent call last)",
      "Cell \u001b[0;32mIn[1], line 7\u001b[0m\n\u001b[1;32m      4\u001b[0m \u001b[38;5;28;01mfrom\u001b[39;00m \u001b[38;5;21;01mpyfolio\u001b[39;00m\u001b[38;5;21;01m.\u001b[39;00m\u001b[38;5;21;01mutils\u001b[39;00m \u001b[38;5;28;01mimport\u001b[39;00m extract_rets_pos_txn_from_zipline\n\u001b[1;32m      5\u001b[0m \u001b[38;5;28;01mfrom\u001b[39;00m \u001b[38;5;21;01mpyfolio\u001b[39;00m\u001b[38;5;21;01m.\u001b[39;00m\u001b[38;5;21;01mtears\u001b[39;00m \u001b[38;5;28;01mimport\u001b[39;00m create_full_tear_sheet\n\u001b[0;32m----> 7\u001b[0m returns, positions, transactions \u001b[38;5;241m=\u001b[39m extract_rets_pos_txn_from_zipline(\u001b[43mresult\u001b[49m)\n\u001b[1;32m      9\u001b[0m create_full_tear_sheet(returns, positions\u001b[38;5;241m=\u001b[39mpositions, transactions\u001b[38;5;241m=\u001b[39mtransactions)\n",
      "\u001b[0;31mNameError\u001b[0m: name 'result' is not defined"
     ]
    }
   ],
   "source": [
    "%load_ext autoreload\n",
    "%autoreload 2\n",
    "\n",
    "from pyfolio.utils import extract_rets_pos_txn_from_zipline\n",
    "from pyfolio.tears import create_full_tear_sheet\n",
    "\n",
    "returns, positions, transactions = extract_rets_pos_txn_from_zipline(result)\n",
    "\n",
    "create_full_tear_sheet(returns, positions=positions, transactions=transactions)"
   ]
  }
 ],
 "metadata": {
  "kernelspec": {
   "display_name": "Python 3 (ipykernel)",
   "language": "python",
   "name": "python3"
  },
  "language_info": {
   "codemirror_mode": {
    "name": "ipython",
    "version": 3
   },
   "file_extension": ".py",
   "mimetype": "text/x-python",
   "name": "python",
   "nbconvert_exporter": "python",
   "pygments_lexer": "ipython3",
   "version": "3.10.13"
  }
 },
 "nbformat": 4,
 "nbformat_minor": 4
}
