{
 "cells": [
  {
   "cell_type": "code",
   "execution_count": 5,
   "id": "bd73f014-d9d4-4db7-8cd6-58f286049c9f",
   "metadata": {
    "canvas": {
     "comments": [],
     "componentType": "CodeCell",
     "copiedOriginId": null,
     "diskcache": false,
     "headerColor": "transparent",
     "id": "52013255-a8fa-4253-9e43-0c4b22eb0dd3",
     "isComponent": false,
     "name": "",
     "parents": []
    },
    "tags": []
   },
   "outputs": [
    {
     "name": "stderr",
     "output_type": "stream",
     "text": [
      "/tmp/ipykernel_13360/3842048497.py:15: FutureWarning: The default fill_method='pad' in Series.pct_change is deprecated and will be removed in a future version. Either fill in any non-leading NA values prior to calling pct_change or specify 'fill_method=None' to not fill NA values.\n",
      "  benchmark_returns = sp500.pct_change()\n",
      "/home/yakub/anaconda3/lib/python3.9/site-packages/zipline/finance/ledger.py:424: FutureWarning: Series.__setitem__ treating keys as positions is deprecated. In a future version, integer keys will always be treated as labels (consistent with DataFrame behavior). To set a value by position, use `ser.iloc[pos] = value`\n",
      "  self.daily_returns_series[session_ix] = self.todays_returns\n",
      "/home/yakub/anaconda3/lib/python3.9/site-packages/empyrical/stats.py:797: RuntimeWarning: invalid value encountered in divide\n",
      "  np.divide(average_annual_return, annualized_downside_risk, out=out)\n",
      "/home/yakub/anaconda3/lib/python3.9/site-packages/empyrical/stats.py:706: RuntimeWarning: invalid value encountered in divide\n",
      "  np.divide(\n"
     ]
    }
   ],
   "source": [
    "from zipline import run_algorithm\n",
    "import pandas as pd\n",
    "import pandas_datareader.data as web\n",
    "\n",
    "def initialize(context):\n",
    "    ...\n",
    "\n",
    "def handle_data(context, data):\n",
    "    ...\n",
    "\n",
    "start = pd.Timestamp('2014')\n",
    "end = pd.Timestamp('2018')\n",
    "\n",
    "sp500 = web.DataReader('SP500', 'fred', start, end).SP500\n",
    "benchmark_returns = sp500.pct_change()\n",
    "\n",
    "result = run_algorithm(start=start,\n",
    "                       end=end,\n",
    "                       initialize=initialize,\n",
    "                       handle_data=handle_data,\n",
    "                       capital_base=100000,\n",
    "                       benchmark_returns=benchmark_returns,\n",
    "                       bundle='quandl',\n",
    "                       data_frequency='daily')"
   ]
  },
  {
   "cell_type": "code",
   "execution_count": null,
   "id": "51090d04-a2f6-47c5-a256-0fd15bc43e40",
   "metadata": {
    "canvas": {
     "comments": [],
     "componentType": "CodeCell",
     "copiedOriginId": null,
     "diskcache": false,
     "headerColor": "transparent",
     "id": "c3415669-657f-4f15-a229-3cd04af82f2f",
     "isComponent": false,
     "name": "",
     "parents": []
    }
   },
   "outputs": [],
   "source": []
  }
 ],
 "metadata": {
  "canvas": {
   "colorPalette": [
    "inherit",
    "inherit",
    "inherit",
    "inherit",
    "inherit",
    "inherit",
    "inherit",
    "inherit",
    "inherit",
    "inherit"
   ],
   "parameters": [],
   "version": "1.0"
  },
  "kernelspec": {
   "display_name": "Python 3 (ipykernel)",
   "language": "python",
   "name": "python3"
  },
  "language_info": {
   "codemirror_mode": {
    "name": "ipython",
    "version": 3
   },
   "file_extension": ".py",
   "mimetype": "text/x-python",
   "name": "python",
   "nbconvert_exporter": "python",
   "pygments_lexer": "ipython3",
   "version": "3.9.7"
  }
 },
 "nbformat": 4,
 "nbformat_minor": 5
}
