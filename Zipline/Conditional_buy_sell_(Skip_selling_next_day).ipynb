{
 "cells": [
  {
   "cell_type": "markdown",
   "metadata": {},
   "source": [
    "### Problem Statement:\n",
    "Assume the market has such a condition that buying today prevent selling the same stock today and tomorrow, but allow selling the day after tomorrow. Conduct only long strategy.<br>\n",
    "\n",
    "For example: If you buy 100 unit at 1 Oct, you are allowed to sell that after 2 Oct. But you are not allowed to sell it at 1 or 2 Oct."
   ]
  },
  {
   "cell_type": "markdown",
   "metadata": {},
   "source": [
    "### Approach\n",
    "- I've bacteseted Apple stock data from 2011 to 2014 and applied dual moving average crossover strategy with 2 days and 10 days moving average.<br>\n",
    "- I've skipped 200 days at first as there are some sequential dates after 200 days otherwise I would skip 10 days as the long moving avg.<br>\n",
    "- I've taken lower moving average to gererate very frequent crossover sothat I get some sequential dates of buy and sell.<br>\n",
    "- There are two bactesting, one is with the sequential strategy and another is without it to compare whether our strategy is working or not.\n",
    "- I didn't add any benchmark as the goal was to apply the sequential buy-sell strategy and check whether it works or not simply."
   ]
  },
  {
   "cell_type": "markdown",
   "metadata": {},
   "source": [
    "### Import necessary libraries and modules"
   ]
  },
  {
   "cell_type": "code",
   "execution_count": 2,
   "metadata": {
    "canvas": {
     "comments": [],
     "componentType": "CodeCell",
     "copiedOriginId": null,
     "diskcache": false,
     "headerColor": "transparent",
     "id": "4868a4a6-403f-4cac-be85-b72f4ccc4248",
     "isComponent": false,
     "name": "",
     "parents": []
    },
    "tags": []
   },
   "outputs": [],
   "source": [
    "import pandas as pd\n",
    "import os\n",
    "%load_ext zipline\n",
    "from zipline.api import symbol, order,record, order_target,order_target_percent,get_open_orders\n",
    "from zipline.utils.calendar_utils import get_calendar\n",
    "from zipline import run_algorithm\n",
    "import matplotlib.pyplot as plt\n",
    "import numpy as np\n",
    "from zipline.data import bundles\n",
    "%matplotlib inline\n",
    "import matplotlib.pyplot as plt\n",
    "import quantstats as qs\n",
    "from pyfolio.utils import extract_rets_pos_txn_from_zipline"
   ]
  },
  {
   "cell_type": "markdown",
   "metadata": {},
   "source": [
    "### 1. Bactest without sequential buy-sell Condition"
   ]
  },
  {
   "cell_type": "code",
   "execution_count": 3,
   "metadata": {},
   "outputs": [],
   "source": [
    "%%capture\n",
    "calendar = get_calendar('XNYS')\n",
    "capital_base = 30000\n",
    "\n",
    "def initialize(context):\n",
    "    context.i = 0\n",
    "    context.asset = symbol('AAPL')\n",
    "\n",
    "def handle_data(context, data):\n",
    "    context.i += 1\n",
    "    if context.i < 200: return\n",
    "\n",
    "    short_mavg = data.history(context.asset, 'price', bar_count=2, frequency=\"1d\").mean()\n",
    "    long_mavg = data.history(context.asset, 'price', bar_count=10, frequency=\"1d\").mean()\n",
    "    \n",
    "    if not get_open_orders(context.asset):\n",
    "        if short_mavg > long_mavg:\n",
    "            order_target(context.asset, 100)\n",
    "\n",
    "        elif short_mavg < long_mavg:\n",
    "            order_target(context.asset, 0)\n",
    "\n",
    "start_date = pd.to_datetime('2011-01-02 00:00:00.0000',format='%Y-%m-%d %H:%M:%S.%f')\n",
    "end_date = pd.to_datetime('2015-01-01 00:00:00.0000',format='%Y-%m-%d %H:%M:%S.%f')\n",
    "\n",
    "res = run_algorithm(\n",
    "    start = start_date,\n",
    "    end = end_date,\n",
    "    trading_calendar=calendar,\n",
    "    initialize=initialize,\n",
    "    handle_data = handle_data,\n",
    "    bundle='snp5',\n",
    "    capital_base=capital_base,\n",
    "    data_frequency='daily')"
   ]
  },
  {
   "cell_type": "markdown",
   "metadata": {},
   "source": [
    "### Find some sequential dates of buy and sell signals"
   ]
  },
  {
   "cell_type": "code",
   "execution_count": 4,
   "metadata": {},
   "outputs": [
    {
     "name": "stdout",
     "output_type": "stream",
     "text": [
      "    amount          dt      price               sid\n",
      "0      100  2011-10-18  15.087540  Equity(0 [AAPL])\n",
      "1     -100  2011-10-21  14.023985  Equity(0 [AAPL])\n",
      "2      100  2011-10-31  14.463228  Equity(0 [AAPL])\n",
      "3     -100  2011-11-03  14.387802  Equity(0 [AAPL])\n",
      "4      100  2011-11-07  14.283138  Equity(0 [AAPL])\n",
      "5     -100  2011-11-08  14.500746  Equity(0 [AAPL])\n",
      "6      100  2011-11-09  14.124059  Equity(0 [AAPL])\n",
      "7     -100  2011-11-10  13.751121  Equity(0 [AAPL])\n",
      "8      100  2011-12-01  13.861928  Equity(0 [AAPL])\n",
      "9     -100  2011-12-15  13.527233  Equity(0 [AAPL])\n",
      "10     100  2011-12-21  14.166080  Equity(0 [AAPL])\n",
      "11    -100  2012-03-08  19.347321  Equity(0 [AAPL])\n",
      "12     100  2012-03-09  19.479735  Equity(0 [AAPL])\n",
      "13    -100  2012-04-02  22.082953  Equity(0 [AAPL])\n",
      "14     100  2012-04-03  22.487238  Equity(0 [AAPL])\n"
     ]
    }
   ],
   "source": [
    "trans_non_conditional_list = []\n",
    "\n",
    "for idx, row in res.iterrows():\n",
    "    for transaction in row.transactions:\n",
    "        trans_non_conditional_list.append(transaction)\n",
    "\n",
    "trans_non_conditional_df = pd.DataFrame(trans_non_conditional_list)\n",
    "trans_non_conditional_df.drop([\"commission\",\"order_id\"], axis=1, inplace=True)\n",
    "trans_non_conditional_df['dt'] = pd.to_datetime(trans_non_conditional_df['dt']).dt.date\n",
    "\n",
    "print(trans_non_conditional_df.head(15).to_string())"
   ]
  },
  {
   "cell_type": "markdown",
   "metadata": {},
   "source": [
    "### Result Analysis\n",
    "**At index 4 to 7, we can see that we have sequential dates of buy and sell which are from 7 Nov 2011 to 10 Nov 2011**.<br>\n",
    "**So, we can buy the stock on 7 Nov 2011 and sell it on 9 Nov 2011 or later but not on 8 Nov 2011.**<br>\n",
    "**We can apply sequential buy-sell condition here.**\n",
    "\n",
    "**Let's generate strategy with sequential buy-sell condition not to sell the stock on the same day or the next day when I already have position of this stock.**"
   ]
  },
  {
   "cell_type": "markdown",
   "metadata": {},
   "source": [
    "### Conditional buy-sell strategy not to sell on the same day or next day"
   ]
  },
  {
   "cell_type": "code",
   "execution_count": 76,
   "metadata": {},
   "outputs": [],
   "source": [
    "%%capture\n",
    "calendar = get_calendar('XNYS')\n",
    "capital_base = 30000\n",
    "\n",
    "def initialize(context):\n",
    "    context.i = 0\n",
    "    context.asset = symbol('AAPL')\n",
    "\n",
    "def handle_data(context, data):\n",
    "    context.i += 1\n",
    "    if context.i < 200: return\n",
    "\n",
    "    short_mavg = data.history(context.asset, 'price', bar_count=2, frequency=\"1d\").mean()\n",
    "    long_mavg = data.history(context.asset, 'price', bar_count=10, frequency=\"1d\").mean()\n",
    "    \n",
    "    current_date = context.get_datetime()\n",
    "    # print(f\"iteration: {context.i}\")\n",
    "    # print(f\"current_date: {current_date}\")\n",
    "    \n",
    "    if not get_open_orders(context.asset):\n",
    "        if context.blotter.orders:\n",
    "            last_amount = list(context.blotter.orders.values())[-1].amount  # last order amount\n",
    "            last_date = list(context.blotter.orders.values())[-1].dt        # last succesful order date\n",
    "            date_diff = current_date - last_date\n",
    "            # print(f\"last_amount: {last_amount}\")\n",
    "            # print(f\"last_dt: {last_date}\")\n",
    "            # print(f\"date_diff: {date_diff}\")\n",
    "            \n",
    "            if date_diff.days < 2 and last_amount > 0: # if last order was a buy and there is a sequence\n",
    "                if short_mavg > long_mavg:\n",
    "                    order_target(context.asset, 100)\n",
    "            \n",
    "            elif short_mavg > long_mavg:\n",
    "                order_target(context.asset, 100)\n",
    "            elif short_mavg < long_mavg:\n",
    "                order_target(context.asset, 0)\n",
    "                \n",
    "        else:\n",
    "            if short_mavg > long_mavg:\n",
    "                order_target(context.asset, 100)\n",
    "\n",
    "start_date = pd.to_datetime('2011-01-02 00:00:00.0000',format='%Y-%m-%d %H:%M:%S.%f')\n",
    "end_date = pd.to_datetime('2015-01-01 00:00:00.0000',format='%Y-%m-%d %H:%M:%S.%f')\n",
    "\n",
    "res_conditional = run_algorithm(\n",
    "    start = start_date,\n",
    "    end = end_date,\n",
    "    trading_calendar=calendar,\n",
    "    initialize=initialize,\n",
    "    handle_data = handle_data,\n",
    "    bundle='snp5',\n",
    "    capital_base=capital_base,\n",
    "    data_frequency='daily')"
   ]
  },
  {
   "cell_type": "markdown",
   "metadata": {},
   "source": [
    "### Find any sequential dates of buy and sell signals"
   ]
  },
  {
   "cell_type": "code",
   "execution_count": 77,
   "metadata": {},
   "outputs": [
    {
     "name": "stdout",
     "output_type": "stream",
     "text": [
      "    amount          dt      price               sid\n",
      "0      100  2011-10-18  15.087540  Equity(0 [AAPL])\n",
      "1     -100  2011-10-21  14.023985  Equity(0 [AAPL])\n",
      "2      100  2011-10-31  14.463228  Equity(0 [AAPL])\n",
      "3     -100  2011-11-03  14.387802  Equity(0 [AAPL])\n",
      "4      100  2011-11-07  14.283138  Equity(0 [AAPL])\n",
      "5     -100  2011-11-10  13.751121  Equity(0 [AAPL])\n",
      "6      100  2011-12-01  13.861928  Equity(0 [AAPL])\n",
      "7     -100  2011-12-15  13.527233  Equity(0 [AAPL])\n",
      "8      100  2011-12-21  14.166080  Equity(0 [AAPL])\n",
      "9     -100  2012-03-08  19.347321  Equity(0 [AAPL])\n",
      "10     100  2012-03-09  19.479735  Equity(0 [AAPL])\n",
      "11    -100  2012-04-02  22.082953  Equity(0 [AAPL])\n",
      "12     100  2012-04-03  22.487238  Equity(0 [AAPL])\n",
      "13    -100  2012-04-16  20.708641  Equity(0 [AAPL])\n",
      "14     100  2012-04-27  21.546768  Equity(0 [AAPL])\n",
      "15    -100  2012-05-02  20.917536  Equity(0 [AAPL])\n",
      "16     100  2012-05-23  20.387189  Equity(0 [AAPL])\n",
      "17    -100  2012-06-05  20.090950  Equity(0 [AAPL])\n",
      "18     100  2012-06-08  20.736363  Equity(0 [AAPL])\n",
      "19    -100  2012-06-26  20.419785  Equity(0 [AAPL])\n"
     ]
    }
   ],
   "source": [
    "trans_conditional_list = []\n",
    "\n",
    "for idx, row in res_conditional.iterrows():\n",
    "    for transaction in row.transactions:\n",
    "        trans_conditional_list.append(transaction)\n",
    "\n",
    "trans_conditional_df = pd.DataFrame(trans_conditional_list)\n",
    "trans_conditional_df.drop([\"commission\",\"order_id\"], axis=1, inplace=True)\n",
    "trans_conditional_df['dt'] = pd.to_datetime(trans_conditional_df['dt']).dt.date\n",
    "\n",
    "print(trans_conditional_df.head(20).to_string())"
   ]
  },
  {
   "cell_type": "markdown",
   "metadata": {},
   "source": [
    "### Result Analysis\n",
    "**There are no sequential dates of buy and sell signals from 7 Nov 2011 to 10 Nov 2011 as before.**<br>\n",
    "- We can observe that the strategy went to long position on 7 Nov 2011 and sold it on 10 Nov 2011.\n",
    "- It din't sell it on 8 Nov 2011 as it was the next day of buying.\n",
    "- It din't sell it on 9 Nov 2011 as it was bulish crossover(short moving avg > long moving avg)\n",
    "- It sold it on 10 Nov 2011 as it was bearish crossover and not a sequential date of buying.\n",
    "\n",
    "**That means our strategy is working perfectly.**"
   ]
  },
  {
   "cell_type": "markdown",
   "metadata": {},
   "source": [
    "### Function for all sequential date counter (Verification of the strategy)\n",
    "We have checked a single sequence but need to check whether we have sequential dates of buy and sell signals or not for the full order list.<br>\n",
    "I've created a function to check it.\n",
    "- It applies a simple algorithm of finding sequential array elements to check whether we have sequential dates of 2 days or not.\n",
    "- There should be no sequential dates of 2 days for the full order list after applying the sequential buy-sell strategy.\n",
    "- But there should be sequential dates of 2 days for the strategy without sequential buy-sell strategy. The reason behind that is ```zipline``` transactions keep the successful transactions only in the ```transcations``` pandas series.\n",
    "- I also checked I'm counting the sequence of lengh 2 only when the first '''amount''' of the sequence is buy and the second '''amount''' is sell. Which is in line 6 of the function. ```df['amount'].iloc[i] < df['amount'].iloc[i-1]```"
   ]
  },
  {
   "cell_type": "code",
   "execution_count": 73,
   "metadata": {},
   "outputs": [],
   "source": [
    "def count_consequtive_dates(df,length):\n",
    "    lst = []\n",
    "    counter = 1\n",
    "    items = 0\n",
    "    for i in range(1,len(df)):\n",
    "        if (df['dt'].iloc[i] - df['dt'].iloc[i-1]).days == 1 and df['amount'].iloc[i] < df['amount'].iloc[i-1]:\n",
    "            counter += 1\n",
    "            if counter == length:\n",
    "                lst.append(df['dt'].iloc[i - 1])\n",
    "                items += 1\n",
    "            counter = 1\n",
    "        else:\n",
    "            counter = 1\n",
    "    if counter == length:\n",
    "        items += 1\n",
    "        lst.append(df['dt'].iloc[i - 1])\n",
    "    return {\"Sequence_counted\":items, \"List\":lst}"
   ]
  },
  {
   "cell_type": "markdown",
   "metadata": {},
   "source": [
    "### First Check for the conditioanl buy-sell strategy"
   ]
  },
  {
   "cell_type": "code",
   "execution_count": 78,
   "metadata": {},
   "outputs": [
    {
     "name": "stdout",
     "output_type": "stream",
     "text": [
      "Number of consequtive length of 2 in conditional_buy_sell: 0\n"
     ]
    }
   ],
   "source": [
    "print(\"Number of consequtive length of 2 in conditional_buy_sell:\", count_consequtive_dates(trans_conditional_df,2)[\"Sequence_counted\"])"
   ]
  },
  {
   "cell_type": "markdown",
   "metadata": {},
   "source": [
    "### Result Analysis\n",
    "**Great ! There is no sequential dates in the transactions as expected for our strategy.**<br>\n",
    "**That means our strategy didn't sell the stock on the same day or the next day when I already have position of this stock.**"
   ]
  },
  {
   "cell_type": "markdown",
   "metadata": {},
   "source": [
    "### Now Check for the non conditioanl buy-sell strategy"
   ]
  },
  {
   "cell_type": "code",
   "execution_count": 79,
   "metadata": {},
   "outputs": [
    {
     "name": "stdout",
     "output_type": "stream",
     "text": [
      "Number of consequtive length of 2 in conditional_buy_sell: 6\n"
     ]
    }
   ],
   "source": [
    "print(\"Number of consequtive length of 2 in conditional_buy_sell:\", count_consequtive_dates(trans_non_conditional_df,2)[\"Sequence_counted\"])"
   ]
  },
  {
   "cell_type": "code",
   "execution_count": 80,
   "metadata": {},
   "outputs": [
    {
     "name": "stdout",
     "output_type": "stream",
     "text": [
      "2011-11-07\n",
      "2011-11-09\n",
      "2012-10-18\n",
      "2013-01-24\n",
      "2013-11-06\n",
      "2014-03-20\n"
     ]
    }
   ],
   "source": [
    "if count_consequtive_dates(trans_non_conditional_df,2)[\"List\"]:\n",
    "    for date in count_consequtive_dates(trans_non_conditional_df,2)[\"List\"]:\n",
    "        print(date)\n",
    "else:\n",
    "    print(\"No sequences found\")"
   ]
  },
  {
   "cell_type": "markdown",
   "metadata": {},
   "source": [
    "### Result Analysis\n",
    "There are 6 sequential dates of 2 days in the transactions as expected before applying the sequential buy-sell strategy. And the sequnces are listed above."
   ]
  },
  {
   "cell_type": "markdown",
   "metadata": {},
   "source": [
    "### Drawback of the strategy\n",
    "- I've developed the strategy only when ```order_target``` is used for going long and close positions of the stock.\n",
    "- If I use ```order``` instead of ```order_target``` then it needs a little modification in the strategy."
   ]
  }
 ],
 "metadata": {
  "canvas": {
   "colorPalette": [
    "inherit",
    "inherit",
    "inherit",
    "inherit",
    "inherit",
    "inherit",
    "inherit",
    "inherit",
    "inherit",
    "inherit"
   ],
   "parameters": [],
   "version": "1.0"
  },
  "kernelspec": {
   "display_name": "Python 3 (ipykernel)",
   "language": "python",
   "name": "python3"
  },
  "language_info": {
   "codemirror_mode": {
    "name": "ipython",
    "version": 3
   },
   "file_extension": ".py",
   "mimetype": "text/x-python",
   "name": "python",
   "nbconvert_exporter": "python",
   "pygments_lexer": "ipython3",
   "version": "3.10.13"
  }
 },
 "nbformat": 4,
 "nbformat_minor": 4
}
