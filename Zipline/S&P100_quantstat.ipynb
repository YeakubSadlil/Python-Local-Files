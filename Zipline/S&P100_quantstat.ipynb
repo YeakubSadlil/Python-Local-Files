{
 "cells": [
  {
   "cell_type": "code",
   "execution_count": 1,
   "metadata": {
    "tags": []
   },
   "outputs": [],
   "source": [
    "import yfinance as yf\n",
    "import pandas as pd\n",
    "import numpy as np\n",
    "import matplotlib.pyplot as plt\n",
    "import requests\n",
    "from bs4 import BeautifulSoup"
   ]
  },
  {
   "cell_type": "code",
   "execution_count": 2,
   "metadata": {
    "tags": []
   },
   "outputs": [
    {
     "data": {
      "text/plain": [
       "['AAPL',\n",
       " 'ABBV',\n",
       " 'ABT',\n",
       " 'ACN',\n",
       " 'ADBE',\n",
       " 'AIG',\n",
       " 'AMD',\n",
       " 'AMGN',\n",
       " 'AMT',\n",
       " 'AMZN',\n",
       " 'AVGO',\n",
       " 'AXP',\n",
       " 'BA',\n",
       " 'BAC',\n",
       " 'BK',\n",
       " 'BKNG',\n",
       " 'BLK',\n",
       " 'BMY',\n",
       " 'BRK.B',\n",
       " 'C',\n",
       " 'CAT',\n",
       " 'CHTR',\n",
       " 'CL',\n",
       " 'CMCSA',\n",
       " 'COF',\n",
       " 'COP',\n",
       " 'COST',\n",
       " 'CRM',\n",
       " 'CSCO',\n",
       " 'CVS',\n",
       " 'CVX',\n",
       " 'DE',\n",
       " 'DHR',\n",
       " 'DIS',\n",
       " 'DOW',\n",
       " 'DUK',\n",
       " 'EMR',\n",
       " 'EXC',\n",
       " 'F',\n",
       " 'FDX',\n",
       " 'GD',\n",
       " 'GE',\n",
       " 'GILD',\n",
       " 'GM',\n",
       " 'GOOG',\n",
       " 'GOOGL',\n",
       " 'GS',\n",
       " 'HD',\n",
       " 'HON',\n",
       " 'IBM',\n",
       " 'INTC',\n",
       " 'JNJ',\n",
       " 'JPM',\n",
       " 'KHC',\n",
       " 'KO',\n",
       " 'LIN',\n",
       " 'LLY',\n",
       " 'LMT',\n",
       " 'LOW',\n",
       " 'MA',\n",
       " 'MCD',\n",
       " 'MDLZ',\n",
       " 'MDT',\n",
       " 'MET',\n",
       " 'META',\n",
       " 'MMM',\n",
       " 'MO',\n",
       " 'MRK',\n",
       " 'MS',\n",
       " 'MSFT',\n",
       " 'NEE',\n",
       " 'NFLX',\n",
       " 'NKE',\n",
       " 'NVDA',\n",
       " 'ORCL',\n",
       " 'PEP',\n",
       " 'PFE',\n",
       " 'PG',\n",
       " 'PM',\n",
       " 'PYPL',\n",
       " 'QCOM',\n",
       " 'RTX',\n",
       " 'SBUX',\n",
       " 'SCHW',\n",
       " 'SO',\n",
       " 'SPG',\n",
       " 'T',\n",
       " 'TGT',\n",
       " 'TMO',\n",
       " 'TMUS',\n",
       " 'TSLA',\n",
       " 'TXN',\n",
       " 'UNH',\n",
       " 'UNP',\n",
       " 'UPS',\n",
       " 'USB',\n",
       " 'V',\n",
       " 'VZ',\n",
       " 'WFC',\n",
       " 'WMT',\n",
       " 'XOM']"
      ]
     },
     "execution_count": 2,
     "metadata": {},
     "output_type": "execute_result"
    }
   ],
   "source": [
    "# Get all the tickers of S&P 100 from Wikipedia\n",
    "\n",
    "url = 'https://en.wikipedia.org/wiki/S%26P_100'\n",
    "response = requests.get(url)\n",
    "\n",
    "if response.status_code == 200:\n",
    "    parsed_data = BeautifulSoup(response.content, 'html.parser')\n",
    "    \n",
    "    table = parsed_data.find('table', {'id': 'constituents'})\n",
    "    \n",
    "    if table:\n",
    "        sn_p100 = [row.find_all('td')[0].get_text(strip=True) for row in table.find_all('tr') if row.find_all('td')]\n",
    "    else:\n",
    "        print(\"Table not found.\")\n",
    "else:\n",
    "    print(f\"Failed to fetch. Status code: {response.status_code}\")\n",
    "\n",
    "sn_p100"
   ]
  },
  {
   "cell_type": "code",
   "execution_count": 3,
   "metadata": {
    "tags": []
   },
   "outputs": [
    {
     "data": {
      "text/plain": [
       "['AAPL',\n",
       " 'ABBV',\n",
       " 'ABT',\n",
       " 'ACN',\n",
       " 'ADBE',\n",
       " 'AIG',\n",
       " 'AMD',\n",
       " 'AMGN',\n",
       " 'AMT',\n",
       " 'AMZN',\n",
       " 'AVGO',\n",
       " 'AXP',\n",
       " 'BA',\n",
       " 'BAC',\n",
       " 'BK',\n",
       " 'BKNG',\n",
       " 'BLK',\n",
       " 'BMY',\n",
       " 'BRK-B',\n",
       " 'C',\n",
       " 'CAT',\n",
       " 'CHTR',\n",
       " 'CL',\n",
       " 'CMCSA',\n",
       " 'COF',\n",
       " 'COP',\n",
       " 'COST',\n",
       " 'CRM',\n",
       " 'CSCO',\n",
       " 'CVS',\n",
       " 'CVX',\n",
       " 'DE',\n",
       " 'DHR',\n",
       " 'DIS',\n",
       " 'DOW',\n",
       " 'DUK',\n",
       " 'EMR',\n",
       " 'EXC',\n",
       " 'F',\n",
       " 'FDX',\n",
       " 'GD',\n",
       " 'GE',\n",
       " 'GILD',\n",
       " 'GM',\n",
       " 'GOOG',\n",
       " 'GOOGL',\n",
       " 'GS',\n",
       " 'HD',\n",
       " 'HON',\n",
       " 'IBM',\n",
       " 'INTC',\n",
       " 'JNJ',\n",
       " 'JPM',\n",
       " 'KHC',\n",
       " 'KO',\n",
       " 'LIN',\n",
       " 'LLY',\n",
       " 'LMT',\n",
       " 'LOW',\n",
       " 'MA',\n",
       " 'MCD',\n",
       " 'MDLZ',\n",
       " 'MDT',\n",
       " 'MET',\n",
       " 'META',\n",
       " 'MMM',\n",
       " 'MO',\n",
       " 'MRK',\n",
       " 'MS',\n",
       " 'MSFT',\n",
       " 'NEE',\n",
       " 'NFLX',\n",
       " 'NKE',\n",
       " 'NVDA',\n",
       " 'ORCL',\n",
       " 'PEP',\n",
       " 'PFE',\n",
       " 'PG',\n",
       " 'PM',\n",
       " 'PYPL',\n",
       " 'QCOM',\n",
       " 'RTX',\n",
       " 'SBUX',\n",
       " 'SCHW',\n",
       " 'SO',\n",
       " 'SPG',\n",
       " 'T',\n",
       " 'TGT',\n",
       " 'TMO',\n",
       " 'TMUS',\n",
       " 'TSLA',\n",
       " 'TXN',\n",
       " 'UNH',\n",
       " 'UNP',\n",
       " 'UPS',\n",
       " 'USB',\n",
       " 'V',\n",
       " 'VZ',\n",
       " 'WFC',\n",
       " 'WMT',\n",
       " 'XOM']"
      ]
     },
     "execution_count": 3,
     "metadata": {},
     "output_type": "execute_result"
    }
   ],
   "source": [
    "# Correct ticker name for Berkshire Hathaway\n",
    "\n",
    "i = sn_p100.index('BRK.B')\n",
    "sn_p100[i] = 'BRK-B'\n",
    "sn_p100"
   ]
  },
  {
   "cell_type": "code",
   "execution_count": 4,
   "metadata": {
    "tags": []
   },
   "outputs": [],
   "source": [
    "# Function for preprocessing data of a single ticker to desired format of Zipline\n",
    "\n",
    "def preprocess(data):\n",
    "    data.reset_index(inplace=True)\n",
    "    data.drop(columns=['Adj Close'], inplace=True)\n",
    "    data.rename(columns={'Date': 'timestamp', 'Open': 'open', 'High': 'high', 'Low': 'low', 'Close': 'close', 'Volume': 'volume', }, inplace=True)\n",
    "    data['timestamp'] = pd.to_datetime(data['timestamp'])\n",
    "    data['volume'] = data['volume'].astype('float64')\n",
    "    data.sort_values(by='timestamp', inplace=True)\n",
    "    data.reset_index(drop=True, inplace=True)\n",
    "\n",
    "    return data"
   ]
  },
  {
   "cell_type": "code",
   "execution_count": 5,
   "metadata": {
    "tags": []
   },
   "outputs": [],
   "source": [
    "# # Fetching historical data for each ticker in S&P100\n",
    "\n",
    "# start_date = '2010-01-01'\n",
    "# end_date = '2021-07-31'\n",
    "\n",
    "# snp100_data_dict = {}\n",
    "\n",
    "# for ticker in sn_p100:\n",
    "#     data = yf.download(ticker, start=start_date, end=end_date, interval='1d')\n",
    "#     preprocess(data).to_csv(f'/home/yakub/Documents/Python/SnP100/Daily/{ticker}.csv', index=False)\n",
    "#     snp100_data_dict[ticker] = data"
   ]
  },
  {
   "cell_type": "markdown",
   "metadata": {},
   "source": [
    "## Register and Ingest S&P100 Bundle"
   ]
  },
  {
   "cell_type": "code",
   "execution_count": 18,
   "metadata": {
    "tags": []
   },
   "outputs": [
    {
     "name": "stderr",
     "output_type": "stream",
     "text": [
      "/tmp/ipykernel_29664/1858744274.py:5: UserWarning: Overwriting bundle with name 'snp100'\n",
      "  bundles.register(\n"
     ]
    },
    {
     "data": {
      "text/plain": [
       "mappingproxy({'quandl': RegisteredBundle(calendar_name='NYSE', start_session=None, end_session=None, minutes_per_day=390, ingest=<function quandl_bundle at 0x7f9c139941f0>, create_writers=True),\n",
       "              'quantopian-quandl': RegisteredBundle(calendar_name='NYSE', start_session=None, end_session=None, minutes_per_day=390, ingest=<function quantopian_quandl_bundle at 0x7f9c139943a0>, create_writers=False),\n",
       "              'csvdir': RegisteredBundle(calendar_name='NYSE', start_session=None, end_session=None, minutes_per_day=390, ingest=<function csvdir_bundle at 0x7f9c139945e0>, create_writers=True),\n",
       "              'snp100': RegisteredBundle(calendar_name='NYSE', start_session=None, end_session=None, minutes_per_day=390, ingest=<bound method CSVDIRBundle.ingest of <zipline.data.bundles.csvdir.CSVDIRBundle object at 0x7f9c11166830>>, create_writers=True)})"
      ]
     },
     "execution_count": 18,
     "metadata": {},
     "output_type": "execute_result"
    }
   ],
   "source": [
    "# from zipline.data import bundles\n",
    "\n",
    "# bundle_name = 'snp100'\n",
    "\n",
    "# bundles.register(\n",
    "#     bundle_name,\n",
    "#     bundles.csvdir.csvdir_equities(\n",
    "#         ['daily'],\n",
    "#         '/home/yakub/Documents/Python/SnP100'\n",
    "#     ),\n",
    "#     calendar_name='NYSE',\n",
    "\n",
    "# )\n",
    "\n",
    "# bundles.bundles"
   ]
  },
  {
   "cell_type": "code",
   "execution_count": 19,
   "metadata": {
    "tags": []
   },
   "outputs": [],
   "source": [
    "# bundles.ingest(bundle_name)"
   ]
  },
  {
   "cell_type": "code",
   "execution_count": 20,
   "metadata": {
    "tags": []
   },
   "outputs": [
    {
     "name": "stdout",
     "output_type": "stream",
     "text": [
      "[Equity(0 [AAPL]), Equity(1 [ABBV]), Equity(2 [ABT]), Equity(3 [ACN]), Equity(4 [ADBE]), Equity(5 [AIG]), Equity(6 [AMD]), Equity(7 [AMGN]), Equity(8 [AMT]), Equity(9 [AMZN]), Equity(10 [AVGO]), Equity(11 [AXP]), Equity(12 [BA]), Equity(13 [BAC]), Equity(14 [BK]), Equity(15 [BKNG]), Equity(16 [BLK]), Equity(17 [BMY]), Equity(18 [BRK-B]), Equity(19 [C]), Equity(20 [CAT]), Equity(21 [CHTR]), Equity(22 [CL]), Equity(23 [CMCSA]), Equity(24 [COF]), Equity(25 [COP]), Equity(26 [COST]), Equity(27 [CRM]), Equity(28 [CSCO]), Equity(29 [CVS]), Equity(30 [CVX]), Equity(31 [DE]), Equity(32 [DHR]), Equity(33 [DIS]), Equity(34 [DOW]), Equity(35 [DUK]), Equity(36 [EMR]), Equity(37 [EXC]), Equity(38 [F]), Equity(39 [FDX]), Equity(40 [GD]), Equity(41 [GE]), Equity(42 [GILD]), Equity(43 [GM]), Equity(44 [GOOG]), Equity(45 [GOOGL]), Equity(46 [GS]), Equity(47 [HD]), Equity(48 [HON]), Equity(49 [IBM]), Equity(50 [INTC]), Equity(51 [JNJ]), Equity(52 [JPM]), Equity(53 [KHC]), Equity(54 [KO]), Equity(55 [LIN]), Equity(56 [LLY]), Equity(57 [LMT]), Equity(58 [LOW]), Equity(59 [MA]), Equity(60 [MCD]), Equity(61 [MDLZ]), Equity(62 [MDT]), Equity(63 [MET]), Equity(64 [META]), Equity(65 [MMM]), Equity(66 [MO]), Equity(67 [MRK]), Equity(68 [MS]), Equity(69 [MSFT]), Equity(70 [NEE]), Equity(71 [NFLX]), Equity(72 [NKE]), Equity(73 [NVDA]), Equity(74 [ORCL]), Equity(75 [PEP]), Equity(76 [PFE]), Equity(77 [PG]), Equity(78 [PM]), Equity(79 [PYPL]), Equity(80 [QCOM]), Equity(81 [RTX]), Equity(82 [SBUX]), Equity(83 [SCHW]), Equity(84 [SO]), Equity(85 [SPG]), Equity(86 [T]), Equity(87 [TGT]), Equity(88 [TMO]), Equity(89 [TMUS]), Equity(90 [TSLA]), Equity(91 [TXN]), Equity(92 [UNH]), Equity(93 [UNP]), Equity(94 [UPS]), Equity(95 [USB]), Equity(96 [V]), Equity(97 [VZ]), Equity(98 [WFC]), Equity(99 [WMT]), Equity(100 [XOM])]\n"
     ]
    }
   ],
   "source": [
    "# bundle_data = bundles.load(bundle_name)\n",
    "# sids = bundle_data.asset_finder.sids\n",
    "# assets = bundle_data.asset_finder.retrieve_all(sids)\n",
    "\n",
    "# print(assets)"
   ]
  },
  {
   "cell_type": "code",
   "execution_count": 47,
   "metadata": {
    "tags": []
   },
   "outputs": [],
   "source": [
    "# !zipline bundles"
   ]
  },
  {
   "cell_type": "code",
   "execution_count": 22,
   "metadata": {
    "tags": []
   },
   "outputs": [
    {
     "name": "stdout",
     "output_type": "stream",
     "text": [
      "Error: No bundle registered with the name 'snp100'\n"
     ]
    }
   ],
   "source": [
    "# !zipline ingest -b snp100"
   ]
  },
  {
   "cell_type": "code",
   "execution_count": 26,
   "metadata": {
    "tags": []
   },
   "outputs": [
    {
     "name": "stdout",
     "output_type": "stream",
     "text": [
      "csvdir <no ingestions>\n",
      "quandl 2023-11-29 14:09:18.799451\n",
      "quandl 2023-11-29 14:07:32.423012\n",
      "quandl 2023-11-29 12:39:15.374615\n",
      "quandl 2023-11-29 12:05:56.774662\n",
      "quandl 2023-11-29 10:27:35.030664\n",
      "quantopian-quandl 2023-11-30 02:02:00.355768\n",
      "quantopian-quandl 2023-11-30 01:12:56.278980\n",
      "quantopian-quandl 2023-11-30 01:11:49.450274\n",
      "quantopian-quandl 2023-11-29 14:06:08.862893\n",
      "quantopian-quandl 2023-11-29 13:55:59.391084\n",
      "quantopian-quandl 2023-11-29 12:17:04.159981\n",
      "quantopian-quandl 2023-11-29 10:27:07.529834\n",
      "quantopian-quandl 2023-11-29 10:14:48.887188\n",
      "snp100 2023-12-23 17:26:36.160004\n",
      "snp100 2023-12-23 17:22:12.808944\n",
      "snp100 2023-12-23 17:19:25.530514\n",
      "snp100 2023-12-23 15:00:22.357639\n",
      "snp100 2023-12-23 14:40:14.203424\n",
      "snp100 2023-12-20 10:15:06.308878\n",
      "snp100 2023-12-20 10:13:03.416763\n",
      "snp100 2023-12-16 17:38:48.604072\n",
      "snp100 2023-12-16 17:38:23.569546\n",
      "snp100 2023-12-16 17:37:59.246961\n"
     ]
    }
   ],
   "source": [
    "# !zipline bundles"
   ]
  },
  {
   "cell_type": "code",
   "execution_count": 6,
   "metadata": {},
   "outputs": [
    {
     "name": "stdout",
     "output_type": "stream",
     "text": [
      "[*********************100%%**********************]  1 of 1 completed"
     ]
    },
    {
     "name": "stderr",
     "output_type": "stream",
     "text": [
      "\n",
      "1 Failed download:\n",
      "['TSLA']: Exception('%ticker%: No price data found, symbol may be delisted (1d 2020-01-01 -> 2020-12-31)')\n"
     ]
    },
    {
     "name": "stdout",
     "output_type": "stream",
     "text": [
      "\n",
      "Empty DataFrame\n",
      "Columns: [Open, High, Low, Close, Adj Close, Volume]\n",
      "Index: []\n"
     ]
    }
   ],
   "source": [
    "import yfinance as yf\n",
    "\n",
    "start = \"2020-01-01\" \n",
    "end = \"2020-12-31\"\n",
    "\n",
    "data = yf.download(\"TSLA\", start=start, end=end)\n",
    "\n",
    "print(data.head())"
   ]
  },
  {
   "cell_type": "code",
   "execution_count": 25,
   "metadata": {},
   "outputs": [
    {
     "name": "stderr",
     "output_type": "stream",
     "text": [
      "TSLA: No price data found, symbol may be delisted (1d 2020-01-01 -> 2020-12-31)\n"
     ]
    },
    {
     "name": "stdout",
     "output_type": "stream",
     "text": [
      "Empty DataFrame\n",
      "Columns: [Open, High, Low, Close, Adj Close, Volume]\n",
      "Index: []\n"
     ]
    }
   ],
   "source": [
    "ticker = yf.Ticker(\"TSLA\")\n",
    "data = ticker.history(start=start, end=end)  # Use ticker.history instead of yf.download\n",
    "print(data.head())"
   ]
  },
  {
   "cell_type": "code",
   "execution_count": 10,
   "metadata": {},
   "outputs": [
    {
     "name": "stderr",
     "output_type": "stream",
     "text": [
      "Failed to get ticker 'META' reason: unsupported operand type(s) for -: 'datetime.datetime' and 'str'\n"
     ]
    },
    {
     "name": "stdout",
     "output_type": "stream",
     "text": [
      "[*********************100%%**********************]  1 of 1 completed"
     ]
    },
    {
     "name": "stderr",
     "output_type": "stream",
     "text": [
      "\n",
      "1 Failed download:\n",
      "['META']: Exception('%ticker%: No timezone found, symbol may be delisted')\n"
     ]
    },
    {
     "name": "stdout",
     "output_type": "stream",
     "text": [
      "\n"
     ]
    },
    {
     "ename": "ValueError",
     "evalue": "attempt to get argmax of an empty sequence",
     "output_type": "error",
     "traceback": [
      "\u001b[0;31m---------------------------------------------------------------------------\u001b[0m",
      "\u001b[0;31mValueError\u001b[0m                                Traceback (most recent call last)",
      "Cell \u001b[0;32mIn[10], line 8\u001b[0m\n\u001b[1;32m      5\u001b[0m qs\u001b[38;5;241m.\u001b[39mextend_pandas()\n\u001b[1;32m      7\u001b[0m \u001b[38;5;66;03m# fetch the daily returns for a stock\u001b[39;00m\n\u001b[0;32m----> 8\u001b[0m stock \u001b[38;5;241m=\u001b[39m \u001b[43mqs\u001b[49m\u001b[38;5;241;43m.\u001b[39;49m\u001b[43mutils\u001b[49m\u001b[38;5;241;43m.\u001b[39;49m\u001b[43mdownload_returns\u001b[49m\u001b[43m(\u001b[49m\u001b[38;5;124;43m'\u001b[39;49m\u001b[38;5;124;43mMETA\u001b[39;49m\u001b[38;5;124;43m'\u001b[39;49m\u001b[43m)\u001b[49m\n\u001b[1;32m     10\u001b[0m \u001b[38;5;66;03m# show sharpe ratio\u001b[39;00m\n\u001b[1;32m     11\u001b[0m qs\u001b[38;5;241m.\u001b[39mstats\u001b[38;5;241m.\u001b[39msharpe(stock)\n",
      "File \u001b[0;32m~/anaconda3/envs/ml/lib/python3.10/site-packages/quantstats/utils.py:242\u001b[0m, in \u001b[0;36mdownload_returns\u001b[0;34m(ticker, period, proxy)\u001b[0m\n\u001b[1;32m    240\u001b[0m \u001b[38;5;28;01melse\u001b[39;00m:\n\u001b[1;32m    241\u001b[0m     params[\u001b[38;5;124m\"\u001b[39m\u001b[38;5;124mperiod\u001b[39m\u001b[38;5;124m\"\u001b[39m] \u001b[38;5;241m=\u001b[39m period\n\u001b[0;32m--> 242\u001b[0m \u001b[38;5;28;01mreturn\u001b[39;00m \u001b[43m_yf\u001b[49m\u001b[38;5;241;43m.\u001b[39;49m\u001b[43mdownload\u001b[49m\u001b[43m(\u001b[49m\u001b[38;5;241;43m*\u001b[39;49m\u001b[38;5;241;43m*\u001b[39;49m\u001b[43mparams\u001b[49m\u001b[43m)\u001b[49m\u001b[43m[\u001b[49m\u001b[38;5;124;43m\"\u001b[39;49m\u001b[38;5;124;43mClose\u001b[39;49m\u001b[38;5;124;43m\"\u001b[39;49m\u001b[43m]\u001b[49m\u001b[38;5;241;43m.\u001b[39;49m\u001b[43mpct_change\u001b[49m\u001b[43m(\u001b[49m\u001b[43m)\u001b[49m\n",
      "File \u001b[0;32m~/.local/lib/python3.10/site-packages/pandas/core/generic.py:11704\u001b[0m, in \u001b[0;36mNDFrame.pct_change\u001b[0;34m(self, periods, fill_method, limit, freq, **kwargs)\u001b[0m\n\u001b[1;32m  11702\u001b[0m \u001b[38;5;28;01mfor\u001b[39;00m _, col \u001b[38;5;129;01min\u001b[39;00m cols:\n\u001b[1;32m  11703\u001b[0m     mask \u001b[38;5;241m=\u001b[39m col\u001b[38;5;241m.\u001b[39misna()\u001b[38;5;241m.\u001b[39mvalues\n\u001b[0;32m> 11704\u001b[0m     mask \u001b[38;5;241m=\u001b[39m mask[\u001b[43mnp\u001b[49m\u001b[38;5;241;43m.\u001b[39;49m\u001b[43margmax\u001b[49m\u001b[43m(\u001b[49m\u001b[38;5;241;43m~\u001b[39;49m\u001b[43mmask\u001b[49m\u001b[43m)\u001b[49m :]\n\u001b[1;32m  11705\u001b[0m     \u001b[38;5;28;01mif\u001b[39;00m mask\u001b[38;5;241m.\u001b[39many():\n\u001b[1;32m  11706\u001b[0m         warnings\u001b[38;5;241m.\u001b[39mwarn(\n\u001b[1;32m  11707\u001b[0m             \u001b[38;5;124m\"\u001b[39m\u001b[38;5;124mThe default fill_method=\u001b[39m\u001b[38;5;124m'\u001b[39m\u001b[38;5;124mpad\u001b[39m\u001b[38;5;124m'\u001b[39m\u001b[38;5;124m in \u001b[39m\u001b[38;5;124m\"\u001b[39m\n\u001b[1;32m  11708\u001b[0m             \u001b[38;5;124mf\u001b[39m\u001b[38;5;124m\"\u001b[39m\u001b[38;5;132;01m{\u001b[39;00m\u001b[38;5;28mtype\u001b[39m(\u001b[38;5;28mself\u001b[39m)\u001b[38;5;241m.\u001b[39m\u001b[38;5;18m__name__\u001b[39m\u001b[38;5;132;01m}\u001b[39;00m\u001b[38;5;124m.pct_change is deprecated and will \u001b[39m\u001b[38;5;124m\"\u001b[39m\n\u001b[0;32m   (...)\u001b[0m\n\u001b[1;32m  11713\u001b[0m             stacklevel\u001b[38;5;241m=\u001b[39mfind_stack_level(),\n\u001b[1;32m  11714\u001b[0m         )\n",
      "File \u001b[0;32m~/.local/lib/python3.10/site-packages/numpy/core/fromnumeric.py:1229\u001b[0m, in \u001b[0;36margmax\u001b[0;34m(a, axis, out, keepdims)\u001b[0m\n\u001b[1;32m   1142\u001b[0m \u001b[38;5;250m\u001b[39m\u001b[38;5;124;03m\"\"\"\u001b[39;00m\n\u001b[1;32m   1143\u001b[0m \u001b[38;5;124;03mReturns the indices of the maximum values along an axis.\u001b[39;00m\n\u001b[1;32m   1144\u001b[0m \n\u001b[0;32m   (...)\u001b[0m\n\u001b[1;32m   1226\u001b[0m \u001b[38;5;124;03m(2, 1, 4)\u001b[39;00m\n\u001b[1;32m   1227\u001b[0m \u001b[38;5;124;03m\"\"\"\u001b[39;00m\n\u001b[1;32m   1228\u001b[0m kwds \u001b[38;5;241m=\u001b[39m {\u001b[38;5;124m'\u001b[39m\u001b[38;5;124mkeepdims\u001b[39m\u001b[38;5;124m'\u001b[39m: keepdims} \u001b[38;5;28;01mif\u001b[39;00m keepdims \u001b[38;5;129;01mis\u001b[39;00m \u001b[38;5;129;01mnot\u001b[39;00m np\u001b[38;5;241m.\u001b[39m_NoValue \u001b[38;5;28;01melse\u001b[39;00m {}\n\u001b[0;32m-> 1229\u001b[0m \u001b[38;5;28;01mreturn\u001b[39;00m \u001b[43m_wrapfunc\u001b[49m\u001b[43m(\u001b[49m\u001b[43ma\u001b[49m\u001b[43m,\u001b[49m\u001b[43m \u001b[49m\u001b[38;5;124;43m'\u001b[39;49m\u001b[38;5;124;43margmax\u001b[39;49m\u001b[38;5;124;43m'\u001b[39;49m\u001b[43m,\u001b[49m\u001b[43m \u001b[49m\u001b[43maxis\u001b[49m\u001b[38;5;241;43m=\u001b[39;49m\u001b[43maxis\u001b[49m\u001b[43m,\u001b[49m\u001b[43m \u001b[49m\u001b[43mout\u001b[49m\u001b[38;5;241;43m=\u001b[39;49m\u001b[43mout\u001b[49m\u001b[43m,\u001b[49m\u001b[43m \u001b[49m\u001b[38;5;241;43m*\u001b[39;49m\u001b[38;5;241;43m*\u001b[39;49m\u001b[43mkwds\u001b[49m\u001b[43m)\u001b[49m\n",
      "File \u001b[0;32m~/.local/lib/python3.10/site-packages/numpy/core/fromnumeric.py:59\u001b[0m, in \u001b[0;36m_wrapfunc\u001b[0;34m(obj, method, *args, **kwds)\u001b[0m\n\u001b[1;32m     56\u001b[0m     \u001b[38;5;28;01mreturn\u001b[39;00m _wrapit(obj, method, \u001b[38;5;241m*\u001b[39margs, \u001b[38;5;241m*\u001b[39m\u001b[38;5;241m*\u001b[39mkwds)\n\u001b[1;32m     58\u001b[0m \u001b[38;5;28;01mtry\u001b[39;00m:\n\u001b[0;32m---> 59\u001b[0m     \u001b[38;5;28;01mreturn\u001b[39;00m \u001b[43mbound\u001b[49m\u001b[43m(\u001b[49m\u001b[38;5;241;43m*\u001b[39;49m\u001b[43margs\u001b[49m\u001b[43m,\u001b[49m\u001b[43m \u001b[49m\u001b[38;5;241;43m*\u001b[39;49m\u001b[38;5;241;43m*\u001b[39;49m\u001b[43mkwds\u001b[49m\u001b[43m)\u001b[49m\n\u001b[1;32m     60\u001b[0m \u001b[38;5;28;01mexcept\u001b[39;00m \u001b[38;5;167;01mTypeError\u001b[39;00m:\n\u001b[1;32m     61\u001b[0m     \u001b[38;5;66;03m# A TypeError occurs if the object does have such a method in its\u001b[39;00m\n\u001b[1;32m     62\u001b[0m     \u001b[38;5;66;03m# class, but its signature is not identical to that of NumPy's. This\u001b[39;00m\n\u001b[0;32m   (...)\u001b[0m\n\u001b[1;32m     66\u001b[0m     \u001b[38;5;66;03m# Call _wrapit from within the except clause to ensure a potential\u001b[39;00m\n\u001b[1;32m     67\u001b[0m     \u001b[38;5;66;03m# exception has a traceback chain.\u001b[39;00m\n\u001b[1;32m     68\u001b[0m     \u001b[38;5;28;01mreturn\u001b[39;00m _wrapit(obj, method, \u001b[38;5;241m*\u001b[39margs, \u001b[38;5;241m*\u001b[39m\u001b[38;5;241m*\u001b[39mkwds)\n",
      "\u001b[0;31mValueError\u001b[0m: attempt to get argmax of an empty sequence"
     ]
    }
   ],
   "source": [
    "%matplotlib inline\n",
    "import quantstats as qs\n",
    "\n",
    "# extend pandas functionality with metrics, etc.\n",
    "qs.extend_pandas()\n",
    "\n",
    "# fetch the daily returns for a stock\n",
    "stock = qs.utils.download_returns('META')\n",
    "\n",
    "# show sharpe ratio\n",
    "qs.stats.sharpe(stock)\n",
    "\n",
    "# or using extend_pandas() :)\n",
    "stock.sharpe()"
   ]
  },
  {
   "cell_type": "code",
   "execution_count": 28,
   "metadata": {},
   "outputs": [
    {
     "data": {
      "text/html": [
       "<div>\n",
       "<style scoped>\n",
       "    .dataframe tbody tr th:only-of-type {\n",
       "        vertical-align: middle;\n",
       "    }\n",
       "\n",
       "    .dataframe tbody tr th {\n",
       "        vertical-align: top;\n",
       "    }\n",
       "\n",
       "    .dataframe thead th {\n",
       "        text-align: right;\n",
       "    }\n",
       "</style>\n",
       "<table border=\"1\" class=\"dataframe\">\n",
       "  <thead>\n",
       "    <tr style=\"text-align: right;\">\n",
       "      <th></th>\n",
       "      <th>timestamp</th>\n",
       "      <th>open</th>\n",
       "      <th>high</th>\n",
       "      <th>low</th>\n",
       "      <th>close</th>\n",
       "      <th>volume</th>\n",
       "    </tr>\n",
       "  </thead>\n",
       "  <tbody>\n",
       "    <tr>\n",
       "      <th>0</th>\n",
       "      <td>2010-06-29</td>\n",
       "      <td>1.266667</td>\n",
       "      <td>1.666667</td>\n",
       "      <td>1.169333</td>\n",
       "      <td>1.592667</td>\n",
       "      <td>281494500.0</td>\n",
       "    </tr>\n",
       "    <tr>\n",
       "      <th>1</th>\n",
       "      <td>2010-06-30</td>\n",
       "      <td>1.719333</td>\n",
       "      <td>2.028000</td>\n",
       "      <td>1.553333</td>\n",
       "      <td>1.588667</td>\n",
       "      <td>257806500.0</td>\n",
       "    </tr>\n",
       "    <tr>\n",
       "      <th>2</th>\n",
       "      <td>2010-07-01</td>\n",
       "      <td>1.666667</td>\n",
       "      <td>1.728000</td>\n",
       "      <td>1.351333</td>\n",
       "      <td>1.464000</td>\n",
       "      <td>123282000.0</td>\n",
       "    </tr>\n",
       "    <tr>\n",
       "      <th>3</th>\n",
       "      <td>2010-07-02</td>\n",
       "      <td>1.533333</td>\n",
       "      <td>1.540000</td>\n",
       "      <td>1.247333</td>\n",
       "      <td>1.280000</td>\n",
       "      <td>77097000.0</td>\n",
       "    </tr>\n",
       "    <tr>\n",
       "      <th>4</th>\n",
       "      <td>2010-07-06</td>\n",
       "      <td>1.333333</td>\n",
       "      <td>1.333333</td>\n",
       "      <td>1.055333</td>\n",
       "      <td>1.074000</td>\n",
       "      <td>103003500.0</td>\n",
       "    </tr>\n",
       "  </tbody>\n",
       "</table>\n",
       "</div>"
      ],
      "text/plain": [
       "    timestamp      open      high       low     close       volume\n",
       "0  2010-06-29  1.266667  1.666667  1.169333  1.592667  281494500.0\n",
       "1  2010-06-30  1.719333  2.028000  1.553333  1.588667  257806500.0\n",
       "2  2010-07-01  1.666667  1.728000  1.351333  1.464000  123282000.0\n",
       "3  2010-07-02  1.533333  1.540000  1.247333  1.280000   77097000.0\n",
       "4  2010-07-06  1.333333  1.333333  1.055333  1.074000  103003500.0"
      ]
     },
     "execution_count": 28,
     "metadata": {},
     "output_type": "execute_result"
    }
   ],
   "source": [
    "data_tesla = pd.read_csv(\"/home/yakub/Documents/Python/SnP100/daily/TSLA.csv\")\n",
    "data_tesla.head()"
   ]
  },
  {
   "cell_type": "code",
   "execution_count": 31,
   "metadata": {},
   "outputs": [
    {
     "data": {
      "text/plain": [
       "pandas.core.series.Series"
      ]
     },
     "execution_count": 31,
     "metadata": {},
     "output_type": "execute_result"
    }
   ],
   "source": [
    "type(data_tesla['timestamp'])"
   ]
  },
  {
   "cell_type": "code",
   "execution_count": 32,
   "metadata": {},
   "outputs": [],
   "source": [
    "data_tesla['timestamp'] = pd.to_datetime(data_tesla['timestamp'])"
   ]
  },
  {
   "cell_type": "code",
   "execution_count": 33,
   "metadata": {},
   "outputs": [
    {
     "data": {
      "text/plain": [
       "pandas.core.series.Series"
      ]
     },
     "execution_count": 33,
     "metadata": {},
     "output_type": "execute_result"
    }
   ],
   "source": [
    "type(data_tesla['timestamp'])"
   ]
  },
  {
   "cell_type": "code",
   "execution_count": 37,
   "metadata": {},
   "outputs": [
    {
     "name": "stdout",
     "output_type": "stream",
     "text": [
      "Sharpe Ratio: 1.0757635663063325\n"
     ]
    }
   ],
   "source": [
    "%matplotlib inline\n",
    "import quantstats as qs\n",
    "\n",
    "# extend pandas functionality with metrics, etc.\n",
    "qs.extend_pandas()\n",
    "\n",
    "data_tesla['returns'] = data_tesla['close'].pct_change()\n",
    "sharpe_ratio = qs.stats.sharpe(data_tesla['returns'])\n",
    "print(\"Sharpe Ratio:\", sharpe_ratio)\n"
   ]
  },
  {
   "cell_type": "code",
   "execution_count": 41,
   "metadata": {},
   "outputs": [],
   "source": [
    "data_tesla = data_tesla[1:]\n"
   ]
  },
  {
   "cell_type": "code",
   "execution_count": 43,
   "metadata": {},
   "outputs": [
    {
     "data": {
      "text/html": [
       "<div>\n",
       "<style scoped>\n",
       "    .dataframe tbody tr th:only-of-type {\n",
       "        vertical-align: middle;\n",
       "    }\n",
       "\n",
       "    .dataframe tbody tr th {\n",
       "        vertical-align: top;\n",
       "    }\n",
       "\n",
       "    .dataframe thead th {\n",
       "        text-align: right;\n",
       "    }\n",
       "</style>\n",
       "<table border=\"1\" class=\"dataframe\">\n",
       "  <thead>\n",
       "    <tr style=\"text-align: right;\">\n",
       "      <th></th>\n",
       "      <th>timestamp</th>\n",
       "      <th>open</th>\n",
       "      <th>high</th>\n",
       "      <th>low</th>\n",
       "      <th>close</th>\n",
       "      <th>volume</th>\n",
       "      <th>returns</th>\n",
       "    </tr>\n",
       "  </thead>\n",
       "  <tbody>\n",
       "    <tr>\n",
       "      <th>1</th>\n",
       "      <td>2010-06-30</td>\n",
       "      <td>1.719333</td>\n",
       "      <td>2.028000</td>\n",
       "      <td>1.553333</td>\n",
       "      <td>1.588667</td>\n",
       "      <td>257806500.0</td>\n",
       "      <td>-0.002511</td>\n",
       "    </tr>\n",
       "    <tr>\n",
       "      <th>2</th>\n",
       "      <td>2010-07-01</td>\n",
       "      <td>1.666667</td>\n",
       "      <td>1.728000</td>\n",
       "      <td>1.351333</td>\n",
       "      <td>1.464000</td>\n",
       "      <td>123282000.0</td>\n",
       "      <td>-0.078473</td>\n",
       "    </tr>\n",
       "    <tr>\n",
       "      <th>3</th>\n",
       "      <td>2010-07-02</td>\n",
       "      <td>1.533333</td>\n",
       "      <td>1.540000</td>\n",
       "      <td>1.247333</td>\n",
       "      <td>1.280000</td>\n",
       "      <td>77097000.0</td>\n",
       "      <td>-0.125683</td>\n",
       "    </tr>\n",
       "    <tr>\n",
       "      <th>4</th>\n",
       "      <td>2010-07-06</td>\n",
       "      <td>1.333333</td>\n",
       "      <td>1.333333</td>\n",
       "      <td>1.055333</td>\n",
       "      <td>1.074000</td>\n",
       "      <td>103003500.0</td>\n",
       "      <td>-0.160937</td>\n",
       "    </tr>\n",
       "    <tr>\n",
       "      <th>5</th>\n",
       "      <td>2010-07-07</td>\n",
       "      <td>1.093333</td>\n",
       "      <td>1.108667</td>\n",
       "      <td>0.998667</td>\n",
       "      <td>1.053333</td>\n",
       "      <td>103825500.0</td>\n",
       "      <td>-0.019243</td>\n",
       "    </tr>\n",
       "  </tbody>\n",
       "</table>\n",
       "</div>"
      ],
      "text/plain": [
       "   timestamp      open      high       low     close       volume   returns\n",
       "1 2010-06-30  1.719333  2.028000  1.553333  1.588667  257806500.0 -0.002511\n",
       "2 2010-07-01  1.666667  1.728000  1.351333  1.464000  123282000.0 -0.078473\n",
       "3 2010-07-02  1.533333  1.540000  1.247333  1.280000   77097000.0 -0.125683\n",
       "4 2010-07-06  1.333333  1.333333  1.055333  1.074000  103003500.0 -0.160937\n",
       "5 2010-07-07  1.093333  1.108667  0.998667  1.053333  103825500.0 -0.019243"
      ]
     },
     "execution_count": 43,
     "metadata": {},
     "output_type": "execute_result"
    }
   ],
   "source": [
    "data_tesla.head()"
   ]
  },
  {
   "cell_type": "code",
   "execution_count": 42,
   "metadata": {},
   "outputs": [
    {
     "name": "stderr",
     "output_type": "stream",
     "text": [
      "/tmp/ipykernel_6039/26922357.py:1: SettingWithCopyWarning: \n",
      "A value is trying to be set on a copy of a slice from a DataFrame.\n",
      "Try using .loc[row_indexer,col_indexer] = value instead\n",
      "\n",
      "See the caveats in the documentation: https://pandas.pydata.org/pandas-docs/stable/user_guide/indexing.html#returning-a-view-versus-a-copy\n",
      "  data_tesla['timestamp'] = pd.to_datetime(data_tesla['timestamp'])\n"
     ]
    }
   ],
   "source": [
    "data_tesla['timestamp'] = pd.to_datetime(data_tesla['timestamp'])"
   ]
  },
  {
   "cell_type": "code",
   "execution_count": 24,
   "metadata": {},
   "outputs": [
    {
     "ename": "TypeError",
     "evalue": "Concatenation operation is not implemented for NumPy arrays, use np.concatenate() instead. Please do not rely on this error; it may not be given on all Python implementations.",
     "output_type": "error",
     "traceback": [
      "\u001b[0;31m---------------------------------------------------------------------------\u001b[0m",
      "\u001b[0;31mTypeError\u001b[0m                                 Traceback (most recent call last)",
      "Cell \u001b[0;32mIn[24], line 1\u001b[0m\n\u001b[0;32m----> 1\u001b[0m \u001b[43mqs\u001b[49m\u001b[38;5;241;43m.\u001b[39;49m\u001b[43mplots\u001b[49m\u001b[38;5;241;43m.\u001b[39;49m\u001b[43msnapshot\u001b[49m\u001b[43m(\u001b[49m\u001b[43mdata_tesla\u001b[49m\u001b[43m[\u001b[49m\u001b[38;5;124;43m'\u001b[39;49m\u001b[38;5;124;43mreturns\u001b[39;49m\u001b[38;5;124;43m'\u001b[39;49m\u001b[43m]\u001b[49m\u001b[43m,\u001b[49m\u001b[43m \u001b[49m\u001b[43mtitle\u001b[49m\u001b[38;5;241;43m=\u001b[39;49m\u001b[38;5;124;43m'\u001b[39;49m\u001b[38;5;124;43mTesla Performance\u001b[39;49m\u001b[38;5;124;43m'\u001b[39;49m\u001b[43m,\u001b[49m\u001b[43m \u001b[49m\u001b[43mshow\u001b[49m\u001b[38;5;241;43m=\u001b[39;49m\u001b[38;5;28;43;01mTrue\u001b[39;49;00m\u001b[43m)\u001b[49m\n",
      "File \u001b[0;32m~/anaconda3/envs/ml/lib/python3.10/site-packages/quantstats/_plotting/wrappers.py:93\u001b[0m, in \u001b[0;36msnapshot\u001b[0;34m(returns, grayscale, figsize, title, fontname, lw, mode, subtitle, savefig, show, log_scale, **kwargs)\u001b[0m\n\u001b[1;32m     90\u001b[0m     returns\u001b[38;5;241m.\u001b[39mcolumns \u001b[38;5;241m=\u001b[39m strategy_colname\n\u001b[1;32m     92\u001b[0m colors \u001b[38;5;241m=\u001b[39m _GRAYSCALE_COLORS \u001b[38;5;28;01mif\u001b[39;00m grayscale \u001b[38;5;28;01melse\u001b[39;00m _FLATUI_COLORS\n\u001b[0;32m---> 93\u001b[0m returns \u001b[38;5;241m=\u001b[39m \u001b[43m_utils\u001b[49m\u001b[38;5;241;43m.\u001b[39;49m\u001b[43mmake_portfolio\u001b[49m\u001b[43m(\u001b[49m\u001b[43mreturns\u001b[49m\u001b[38;5;241;43m.\u001b[39;49m\u001b[43mdropna\u001b[49m\u001b[43m(\u001b[49m\u001b[43m)\u001b[49m\u001b[43m,\u001b[49m\u001b[43m \u001b[49m\u001b[38;5;241;43m1\u001b[39;49m\u001b[43m,\u001b[49m\u001b[43m \u001b[49m\u001b[43mmode\u001b[49m\u001b[43m)\u001b[49m\u001b[38;5;241m.\u001b[39mpct_change()\u001b[38;5;241m.\u001b[39mfillna(\u001b[38;5;241m0\u001b[39m)\n\u001b[1;32m     95\u001b[0m \u001b[38;5;28;01mif\u001b[39;00m figsize \u001b[38;5;129;01mis\u001b[39;00m \u001b[38;5;28;01mNone\u001b[39;00m:\n\u001b[1;32m     96\u001b[0m     size \u001b[38;5;241m=\u001b[39m \u001b[38;5;28mlist\u001b[39m(_plt\u001b[38;5;241m.\u001b[39mgcf()\u001b[38;5;241m.\u001b[39mget_size_inches())\n",
      "File \u001b[0;32m~/anaconda3/envs/ml/lib/python3.10/site-packages/quantstats/utils.py:419\u001b[0m, in \u001b[0;36mmake_portfolio\u001b[0;34m(returns, start_balance, mode, round_to)\u001b[0m\n\u001b[1;32m    416\u001b[0m     p1 \u001b[38;5;241m=\u001b[39m start_balance \u001b[38;5;241m+\u001b[39m comp_rev\u001b[38;5;241m.\u001b[39mcumsum()\n\u001b[1;32m    418\u001b[0m \u001b[38;5;66;03m# add day before with starting balance\u001b[39;00m\n\u001b[0;32m--> 419\u001b[0m p0 \u001b[38;5;241m=\u001b[39m _pd\u001b[38;5;241m.\u001b[39mSeries(data\u001b[38;5;241m=\u001b[39mstart_balance, index\u001b[38;5;241m=\u001b[39m\u001b[43mp1\u001b[49m\u001b[38;5;241;43m.\u001b[39;49m\u001b[43mindex\u001b[49m\u001b[43m \u001b[49m\u001b[38;5;241;43m+\u001b[39;49m\u001b[43m \u001b[49m\u001b[43m_pd\u001b[49m\u001b[38;5;241;43m.\u001b[39;49m\u001b[43mTimedelta\u001b[49m\u001b[43m(\u001b[49m\u001b[43mdays\u001b[49m\u001b[38;5;241;43m=\u001b[39;49m\u001b[38;5;241;43m-\u001b[39;49m\u001b[38;5;241;43m1\u001b[39;49m\u001b[43m)\u001b[49m)[:\u001b[38;5;241m1\u001b[39m]\n\u001b[1;32m    421\u001b[0m portfolio \u001b[38;5;241m=\u001b[39m _pd\u001b[38;5;241m.\u001b[39mconcat([p0, p1])\n\u001b[1;32m    423\u001b[0m \u001b[38;5;28;01mif\u001b[39;00m \u001b[38;5;28misinstance\u001b[39m(returns, _pd\u001b[38;5;241m.\u001b[39mDataFrame):\n",
      "File \u001b[0;32m~/.local/lib/python3.10/site-packages/pandas/core/ops/common.py:76\u001b[0m, in \u001b[0;36m_unpack_zerodim_and_defer.<locals>.new_method\u001b[0;34m(self, other)\u001b[0m\n\u001b[1;32m     72\u001b[0m             \u001b[38;5;28;01mreturn\u001b[39;00m \u001b[38;5;28mNotImplemented\u001b[39m\n\u001b[1;32m     74\u001b[0m other \u001b[38;5;241m=\u001b[39m item_from_zerodim(other)\n\u001b[0;32m---> 76\u001b[0m \u001b[38;5;28;01mreturn\u001b[39;00m \u001b[43mmethod\u001b[49m\u001b[43m(\u001b[49m\u001b[38;5;28;43mself\u001b[39;49m\u001b[43m,\u001b[49m\u001b[43m \u001b[49m\u001b[43mother\u001b[49m\u001b[43m)\u001b[49m\n",
      "File \u001b[0;32m~/.local/lib/python3.10/site-packages/pandas/core/arraylike.py:186\u001b[0m, in \u001b[0;36mOpsMixin.__add__\u001b[0;34m(self, other)\u001b[0m\n\u001b[1;32m     98\u001b[0m \u001b[38;5;129m@unpack_zerodim_and_defer\u001b[39m(\u001b[38;5;124m\"\u001b[39m\u001b[38;5;124m__add__\u001b[39m\u001b[38;5;124m\"\u001b[39m)\n\u001b[1;32m     99\u001b[0m \u001b[38;5;28;01mdef\u001b[39;00m \u001b[38;5;21m__add__\u001b[39m(\u001b[38;5;28mself\u001b[39m, other):\n\u001b[1;32m    100\u001b[0m \u001b[38;5;250m    \u001b[39m\u001b[38;5;124;03m\"\"\"\u001b[39;00m\n\u001b[1;32m    101\u001b[0m \u001b[38;5;124;03m    Get Addition of DataFrame and other, column-wise.\u001b[39;00m\n\u001b[1;32m    102\u001b[0m \n\u001b[0;32m   (...)\u001b[0m\n\u001b[1;32m    184\u001b[0m \u001b[38;5;124;03m    moose     3.0     NaN\u001b[39;00m\n\u001b[1;32m    185\u001b[0m \u001b[38;5;124;03m    \"\"\"\u001b[39;00m\n\u001b[0;32m--> 186\u001b[0m     \u001b[38;5;28;01mreturn\u001b[39;00m \u001b[38;5;28;43mself\u001b[39;49m\u001b[38;5;241;43m.\u001b[39;49m\u001b[43m_arith_method\u001b[49m\u001b[43m(\u001b[49m\u001b[43mother\u001b[49m\u001b[43m,\u001b[49m\u001b[43m \u001b[49m\u001b[43moperator\u001b[49m\u001b[38;5;241;43m.\u001b[39;49m\u001b[43madd\u001b[49m\u001b[43m)\u001b[49m\n",
      "File \u001b[0;32m~/.local/lib/python3.10/site-packages/pandas/core/indexes/base.py:7158\u001b[0m, in \u001b[0;36mIndex._arith_method\u001b[0;34m(self, other, op)\u001b[0m\n\u001b[1;32m   7148\u001b[0m \u001b[38;5;28;01mif\u001b[39;00m (\n\u001b[1;32m   7149\u001b[0m     \u001b[38;5;28misinstance\u001b[39m(other, Index)\n\u001b[1;32m   7150\u001b[0m     \u001b[38;5;129;01mand\u001b[39;00m is_object_dtype(other\u001b[38;5;241m.\u001b[39mdtype)\n\u001b[0;32m   (...)\u001b[0m\n\u001b[1;32m   7154\u001b[0m     \u001b[38;5;66;03m# a chance to implement ops before we unwrap them.\u001b[39;00m\n\u001b[1;32m   7155\u001b[0m     \u001b[38;5;66;03m# See https://github.com/pandas-dev/pandas/issues/31109\u001b[39;00m\n\u001b[1;32m   7156\u001b[0m     \u001b[38;5;28;01mreturn\u001b[39;00m \u001b[38;5;28mNotImplemented\u001b[39m\n\u001b[0;32m-> 7158\u001b[0m \u001b[38;5;28;01mreturn\u001b[39;00m \u001b[38;5;28;43msuper\u001b[39;49m\u001b[43m(\u001b[49m\u001b[43m)\u001b[49m\u001b[38;5;241;43m.\u001b[39;49m\u001b[43m_arith_method\u001b[49m\u001b[43m(\u001b[49m\u001b[43mother\u001b[49m\u001b[43m,\u001b[49m\u001b[43m \u001b[49m\u001b[43mop\u001b[49m\u001b[43m)\u001b[49m\n",
      "File \u001b[0;32m~/.local/lib/python3.10/site-packages/pandas/core/base.py:1381\u001b[0m, in \u001b[0;36mIndexOpsMixin._arith_method\u001b[0;34m(self, other, op)\u001b[0m\n\u001b[1;32m   1378\u001b[0m     rvalues \u001b[38;5;241m=\u001b[39m np\u001b[38;5;241m.\u001b[39marange(rvalues\u001b[38;5;241m.\u001b[39mstart, rvalues\u001b[38;5;241m.\u001b[39mstop, rvalues\u001b[38;5;241m.\u001b[39mstep)\n\u001b[1;32m   1380\u001b[0m \u001b[38;5;28;01mwith\u001b[39;00m np\u001b[38;5;241m.\u001b[39merrstate(\u001b[38;5;28mall\u001b[39m\u001b[38;5;241m=\u001b[39m\u001b[38;5;124m\"\u001b[39m\u001b[38;5;124mignore\u001b[39m\u001b[38;5;124m\"\u001b[39m):\n\u001b[0;32m-> 1381\u001b[0m     result \u001b[38;5;241m=\u001b[39m \u001b[43mops\u001b[49m\u001b[38;5;241;43m.\u001b[39;49m\u001b[43marithmetic_op\u001b[49m\u001b[43m(\u001b[49m\u001b[43mlvalues\u001b[49m\u001b[43m,\u001b[49m\u001b[43m \u001b[49m\u001b[43mrvalues\u001b[49m\u001b[43m,\u001b[49m\u001b[43m \u001b[49m\u001b[43mop\u001b[49m\u001b[43m)\u001b[49m\n\u001b[1;32m   1383\u001b[0m \u001b[38;5;28;01mreturn\u001b[39;00m \u001b[38;5;28mself\u001b[39m\u001b[38;5;241m.\u001b[39m_construct_result(result, name\u001b[38;5;241m=\u001b[39mres_name)\n",
      "File \u001b[0;32m~/.local/lib/python3.10/site-packages/pandas/core/ops/array_ops.py:275\u001b[0m, in \u001b[0;36marithmetic_op\u001b[0;34m(left, right, op)\u001b[0m\n\u001b[1;32m    262\u001b[0m \u001b[38;5;66;03m# NB: We assume that extract_array and ensure_wrapped_if_datetimelike\u001b[39;00m\n\u001b[1;32m    263\u001b[0m \u001b[38;5;66;03m#  have already been called on `left` and `right`,\u001b[39;00m\n\u001b[1;32m    264\u001b[0m \u001b[38;5;66;03m#  and `maybe_prepare_scalar_for_op` has already been called on `right`\u001b[39;00m\n\u001b[1;32m    265\u001b[0m \u001b[38;5;66;03m# We need to special-case datetime64/timedelta64 dtypes (e.g. because numpy\u001b[39;00m\n\u001b[1;32m    266\u001b[0m \u001b[38;5;66;03m# casts integer dtypes to timedelta64 when operating with timedelta64 - GH#22390)\u001b[39;00m\n\u001b[1;32m    268\u001b[0m \u001b[38;5;28;01mif\u001b[39;00m (\n\u001b[1;32m    269\u001b[0m     should_extension_dispatch(left, right)\n\u001b[1;32m    270\u001b[0m     \u001b[38;5;129;01mor\u001b[39;00m \u001b[38;5;28misinstance\u001b[39m(right, (Timedelta, BaseOffset, Timestamp))\n\u001b[0;32m   (...)\u001b[0m\n\u001b[1;32m    273\u001b[0m     \u001b[38;5;66;03m# Timedelta/Timestamp and other custom scalars are included in the check\u001b[39;00m\n\u001b[1;32m    274\u001b[0m     \u001b[38;5;66;03m# because numexpr will fail on it, see GH#31457\u001b[39;00m\n\u001b[0;32m--> 275\u001b[0m     res_values \u001b[38;5;241m=\u001b[39m \u001b[43mop\u001b[49m\u001b[43m(\u001b[49m\u001b[43mleft\u001b[49m\u001b[43m,\u001b[49m\u001b[43m \u001b[49m\u001b[43mright\u001b[49m\u001b[43m)\u001b[49m\n\u001b[1;32m    276\u001b[0m \u001b[38;5;28;01melse\u001b[39;00m:\n\u001b[1;32m    277\u001b[0m     \u001b[38;5;66;03m# TODO we should handle EAs consistently and move this check before the if/else\u001b[39;00m\n\u001b[1;32m    278\u001b[0m     \u001b[38;5;66;03m# (https://github.com/pandas-dev/pandas/issues/41165)\u001b[39;00m\n\u001b[1;32m    279\u001b[0m     \u001b[38;5;66;03m# error: Argument 2 to \"_bool_arith_check\" has incompatible type\u001b[39;00m\n\u001b[1;32m    280\u001b[0m     \u001b[38;5;66;03m# \"Union[ExtensionArray, ndarray[Any, Any]]\"; expected \"ndarray[Any, Any]\"\u001b[39;00m\n\u001b[1;32m    281\u001b[0m     _bool_arith_check(op, left, right)  \u001b[38;5;66;03m# type: ignore[arg-type]\u001b[39;00m\n",
      "\u001b[0;31mTypeError\u001b[0m: Concatenation operation is not implemented for NumPy arrays, use np.concatenate() instead. Please do not rely on this error; it may not be given on all Python implementations."
     ]
    }
   ],
   "source": [
    "qs.plots.snapshot(data_tesla['returns'], title='Tesla Performance', show=True)"
   ]
  },
  {
   "cell_type": "code",
   "execution_count": 44,
   "metadata": {},
   "outputs": [
    {
     "ename": "AttributeError",
     "evalue": "'int' object has no attribute 'days'",
     "output_type": "error",
     "traceback": [
      "\u001b[0;31m---------------------------------------------------------------------------\u001b[0m",
      "\u001b[0;31mAttributeError\u001b[0m                            Traceback (most recent call last)",
      "Cell \u001b[0;32mIn[44], line 1\u001b[0m\n\u001b[0;32m----> 1\u001b[0m \u001b[43mqs\u001b[49m\u001b[38;5;241;43m.\u001b[39;49m\u001b[43mreports\u001b[49m\u001b[38;5;241;43m.\u001b[39;49m\u001b[43mfull\u001b[49m\u001b[43m(\u001b[49m\u001b[43mdata_tesla\u001b[49m\u001b[43m[\u001b[49m\u001b[38;5;124;43m'\u001b[39;49m\u001b[38;5;124;43mreturns\u001b[39;49m\u001b[38;5;124;43m'\u001b[39;49m\u001b[43m]\u001b[49m\u001b[43m)\u001b[49m\n",
      "File \u001b[0;32m~/anaconda3/envs/ml/lib/python3.10/site-packages/quantstats/reports.py:534\u001b[0m, in \u001b[0;36mfull\u001b[0;34m(returns, benchmark, rf, grayscale, figsize, display, compounded, periods_per_year, match_dates, **kwargs)\u001b[0m\n\u001b[1;32m    531\u001b[0m dd \u001b[38;5;241m=\u001b[39m _stats\u001b[38;5;241m.\u001b[39mto_drawdown_series(returns)\n\u001b[1;32m    533\u001b[0m \u001b[38;5;28;01mif\u001b[39;00m \u001b[38;5;28misinstance\u001b[39m(dd, _pd\u001b[38;5;241m.\u001b[39mSeries):\n\u001b[0;32m--> 534\u001b[0m     col \u001b[38;5;241m=\u001b[39m \u001b[43m_stats\u001b[49m\u001b[38;5;241;43m.\u001b[39;49m\u001b[43mdrawdown_details\u001b[49m\u001b[43m(\u001b[49m\u001b[43mdd\u001b[49m\u001b[43m)\u001b[49m\u001b[38;5;241m.\u001b[39mcolumns[\u001b[38;5;241m4\u001b[39m]\n\u001b[1;32m    535\u001b[0m     dd_info \u001b[38;5;241m=\u001b[39m _stats\u001b[38;5;241m.\u001b[39mdrawdown_details(dd)\u001b[38;5;241m.\u001b[39msort_values(by\u001b[38;5;241m=\u001b[39mcol, ascending\u001b[38;5;241m=\u001b[39m\u001b[38;5;28;01mTrue\u001b[39;00m)[:\u001b[38;5;241m5\u001b[39m]\n\u001b[1;32m    536\u001b[0m     \u001b[38;5;28;01mif\u001b[39;00m \u001b[38;5;129;01mnot\u001b[39;00m dd_info\u001b[38;5;241m.\u001b[39mempty:\n",
      "File \u001b[0;32m~/anaconda3/envs/ml/lib/python3.10/site-packages/quantstats/stats.py:867\u001b[0m, in \u001b[0;36mdrawdown_details\u001b[0;34m(drawdown)\u001b[0m\n\u001b[1;32m    864\u001b[0m         _dfs[col] \u001b[38;5;241m=\u001b[39m _drawdown_details(drawdown[col])\n\u001b[1;32m    865\u001b[0m     \u001b[38;5;28;01mreturn\u001b[39;00m _pd\u001b[38;5;241m.\u001b[39mconcat(_dfs, axis\u001b[38;5;241m=\u001b[39m\u001b[38;5;241m1\u001b[39m)\n\u001b[0;32m--> 867\u001b[0m \u001b[38;5;28;01mreturn\u001b[39;00m \u001b[43m_drawdown_details\u001b[49m\u001b[43m(\u001b[49m\u001b[43mdrawdown\u001b[49m\u001b[43m)\u001b[49m\n",
      "File \u001b[0;32m~/anaconda3/envs/ml/lib/python3.10/site-packages/quantstats/stats.py:834\u001b[0m, in \u001b[0;36mdrawdown_details.<locals>._drawdown_details\u001b[0;34m(drawdown)\u001b[0m\n\u001b[1;32m    827\u001b[0m     dd \u001b[38;5;241m=\u001b[39m drawdown[starts[i] : ends[i]]\n\u001b[1;32m    828\u001b[0m     clean_dd \u001b[38;5;241m=\u001b[39m \u001b[38;5;241m-\u001b[39mremove_outliers(\u001b[38;5;241m-\u001b[39mdd, \u001b[38;5;241m0.99\u001b[39m)\n\u001b[1;32m    829\u001b[0m     data\u001b[38;5;241m.\u001b[39mappend(\n\u001b[1;32m    830\u001b[0m         (\n\u001b[1;32m    831\u001b[0m             starts[i],\n\u001b[1;32m    832\u001b[0m             dd\u001b[38;5;241m.\u001b[39midxmin(),\n\u001b[1;32m    833\u001b[0m             ends[i],\n\u001b[0;32m--> 834\u001b[0m             \u001b[43m(\u001b[49m\u001b[43mends\u001b[49m\u001b[43m[\u001b[49m\u001b[43mi\u001b[49m\u001b[43m]\u001b[49m\u001b[43m \u001b[49m\u001b[38;5;241;43m-\u001b[39;49m\u001b[43m \u001b[49m\u001b[43mstarts\u001b[49m\u001b[43m[\u001b[49m\u001b[43mi\u001b[49m\u001b[43m]\u001b[49m\u001b[43m)\u001b[49m\u001b[38;5;241;43m.\u001b[39;49m\u001b[43mdays\u001b[49m \u001b[38;5;241m+\u001b[39m \u001b[38;5;241m1\u001b[39m,\n\u001b[1;32m    835\u001b[0m             dd\u001b[38;5;241m.\u001b[39mmin() \u001b[38;5;241m*\u001b[39m \u001b[38;5;241m100\u001b[39m,\n\u001b[1;32m    836\u001b[0m             clean_dd\u001b[38;5;241m.\u001b[39mmin() \u001b[38;5;241m*\u001b[39m \u001b[38;5;241m100\u001b[39m,\n\u001b[1;32m    837\u001b[0m         )\n\u001b[1;32m    838\u001b[0m     )\n\u001b[1;32m    840\u001b[0m df \u001b[38;5;241m=\u001b[39m _pd\u001b[38;5;241m.\u001b[39mDataFrame(\n\u001b[1;32m    841\u001b[0m     data\u001b[38;5;241m=\u001b[39mdata,\n\u001b[1;32m    842\u001b[0m     columns\u001b[38;5;241m=\u001b[39m(\n\u001b[0;32m   (...)\u001b[0m\n\u001b[1;32m    849\u001b[0m     ),\n\u001b[1;32m    850\u001b[0m )\n\u001b[1;32m    851\u001b[0m df[\u001b[38;5;124m\"\u001b[39m\u001b[38;5;124mdays\u001b[39m\u001b[38;5;124m\"\u001b[39m] \u001b[38;5;241m=\u001b[39m df[\u001b[38;5;124m\"\u001b[39m\u001b[38;5;124mdays\u001b[39m\u001b[38;5;124m\"\u001b[39m]\u001b[38;5;241m.\u001b[39mastype(\u001b[38;5;28mint\u001b[39m)\n",
      "\u001b[0;31mAttributeError\u001b[0m: 'int' object has no attribute 'days'"
     ]
    }
   ],
   "source": [
    "qs.reports.full(data_tesla['returns'])"
   ]
  },
  {
   "cell_type": "code",
   "execution_count": 45,
   "metadata": {},
   "outputs": [
    {
     "data": {
      "text/plain": [
       "pandas.core.series.Series"
      ]
     },
     "execution_count": 45,
     "metadata": {},
     "output_type": "execute_result"
    }
   ],
   "source": [
    "type(data_tesla['returns'])"
   ]
  }
 ],
 "metadata": {
  "kernelspec": {
   "display_name": "Python 3 (ipykernel)",
   "language": "python",
   "name": "python3"
  },
  "language_info": {
   "codemirror_mode": {
    "name": "ipython",
    "version": 3
   },
   "file_extension": ".py",
   "mimetype": "text/x-python",
   "name": "python",
   "nbconvert_exporter": "python",
   "pygments_lexer": "ipython3",
   "version": "3.10.13"
  }
 },
 "nbformat": 4,
 "nbformat_minor": 4
}
