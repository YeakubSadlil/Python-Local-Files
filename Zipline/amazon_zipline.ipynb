{
 "cells": [
  {
   "cell_type": "code",
   "execution_count": 3,
   "metadata": {
    "canvas": {
     "comments": [],
     "componentType": "CodeCell",
     "copiedOriginId": null,
     "diskcache": false,
     "headerColor": "transparent",
     "id": "4868a4a6-403f-4cac-be85-b72f4ccc4248",
     "isComponent": false,
     "name": "",
     "parents": []
    },
    "tags": []
   },
   "outputs": [],
   "source": [
    "import pandas as pd\n",
    "from zipline.api import symbol, set_benchmark, order,record, order_target, get_open_orders\n",
    "from zipline.utils.calendar_utils import get_calendar\n",
    "from zipline import run_algorithm\n",
    "import matplotlib.pyplot as plt\n",
    "import numpy as np"
   ]
  },
  {
   "cell_type": "code",
   "execution_count": 4,
   "metadata": {
    "canvas": {
     "comments": [],
     "componentType": "CodeCell",
     "copiedOriginId": null,
     "diskcache": false,
     "headerColor": "transparent",
     "id": "853d1158-9f5d-4e29-8cc9-4cdec75af204",
     "isComponent": false,
     "name": "",
     "parents": []
    }
   },
   "outputs": [
    {
     "data": {
      "text/html": [
       "<div>\n",
       "<style scoped>\n",
       "    .dataframe tbody tr th:only-of-type {\n",
       "        vertical-align: middle;\n",
       "    }\n",
       "\n",
       "    .dataframe tbody tr th {\n",
       "        vertical-align: top;\n",
       "    }\n",
       "\n",
       "    .dataframe thead th {\n",
       "        text-align: right;\n",
       "    }\n",
       "</style>\n",
       "<table border=\"1\" class=\"dataframe\">\n",
       "  <thead>\n",
       "    <tr style=\"text-align: right;\">\n",
       "      <th></th>\n",
       "      <th>Date</th>\n",
       "      <th>Open</th>\n",
       "      <th>High</th>\n",
       "      <th>Low</th>\n",
       "      <th>Close</th>\n",
       "      <th>Adj Close</th>\n",
       "      <th>Volume</th>\n",
       "    </tr>\n",
       "  </thead>\n",
       "  <tbody>\n",
       "    <tr>\n",
       "      <th>0</th>\n",
       "      <td>2018-12-06</td>\n",
       "      <td>80.743500</td>\n",
       "      <td>85.052498</td>\n",
       "      <td>80.492500</td>\n",
       "      <td>84.959503</td>\n",
       "      <td>84.959503</td>\n",
       "      <td>175788000</td>\n",
       "    </tr>\n",
       "    <tr>\n",
       "      <th>1</th>\n",
       "      <td>2018-12-07</td>\n",
       "      <td>85.253502</td>\n",
       "      <td>85.946503</td>\n",
       "      <td>81.273003</td>\n",
       "      <td>81.456497</td>\n",
       "      <td>81.456497</td>\n",
       "      <td>151522000</td>\n",
       "    </tr>\n",
       "    <tr>\n",
       "      <th>2</th>\n",
       "      <td>2018-12-10</td>\n",
       "      <td>81.192001</td>\n",
       "      <td>82.899498</td>\n",
       "      <td>79.543503</td>\n",
       "      <td>82.051498</td>\n",
       "      <td>82.051498</td>\n",
       "      <td>149896000</td>\n",
       "    </tr>\n",
       "    <tr>\n",
       "      <th>3</th>\n",
       "      <td>2018-12-11</td>\n",
       "      <td>83.900002</td>\n",
       "      <td>83.973503</td>\n",
       "      <td>80.980003</td>\n",
       "      <td>82.162003</td>\n",
       "      <td>82.162003</td>\n",
       "      <td>124894000</td>\n",
       "    </tr>\n",
       "    <tr>\n",
       "      <th>4</th>\n",
       "      <td>2018-12-12</td>\n",
       "      <td>83.449997</td>\n",
       "      <td>85.249496</td>\n",
       "      <td>83.013496</td>\n",
       "      <td>83.177002</td>\n",
       "      <td>83.177002</td>\n",
       "      <td>131960000</td>\n",
       "    </tr>\n",
       "  </tbody>\n",
       "</table>\n",
       "</div>"
      ],
      "text/plain": [
       "         Date       Open       High        Low      Close  Adj Close  \\\n",
       "0  2018-12-06  80.743500  85.052498  80.492500  84.959503  84.959503   \n",
       "1  2018-12-07  85.253502  85.946503  81.273003  81.456497  81.456497   \n",
       "2  2018-12-10  81.192001  82.899498  79.543503  82.051498  82.051498   \n",
       "3  2018-12-11  83.900002  83.973503  80.980003  82.162003  82.162003   \n",
       "4  2018-12-12  83.449997  85.249496  83.013496  83.177002  83.177002   \n",
       "\n",
       "      Volume  \n",
       "0  175788000  \n",
       "1  151522000  \n",
       "2  149896000  \n",
       "3  124894000  \n",
       "4  131960000  "
      ]
     },
     "execution_count": 4,
     "metadata": {},
     "output_type": "execute_result"
    }
   ],
   "source": [
    "data_amz = pd.read_csv('custom_data/AMZN.csv')\n",
    "data_amz.head()"
   ]
  },
  {
   "cell_type": "code",
   "execution_count": 5,
   "metadata": {
    "canvas": {
     "comments": [],
     "componentType": "CodeCell",
     "copiedOriginId": null,
     "diskcache": false,
     "headerColor": "transparent",
     "id": "f0b173c3-53f6-4736-beee-1b2dcba2d177",
     "isComponent": false,
     "name": "",
     "parents": []
    }
   },
   "outputs": [
    {
     "name": "stdout",
     "output_type": "stream",
     "text": [
      "<class 'pandas.core.frame.DataFrame'>\n",
      "RangeIndex: 1259 entries, 0 to 1258\n",
      "Data columns (total 7 columns):\n",
      " #   Column     Non-Null Count  Dtype  \n",
      "---  ------     --------------  -----  \n",
      " 0   Date       1259 non-null   object \n",
      " 1   Open       1259 non-null   float64\n",
      " 2   High       1259 non-null   float64\n",
      " 3   Low        1259 non-null   float64\n",
      " 4   Close      1259 non-null   float64\n",
      " 5   Adj Close  1259 non-null   float64\n",
      " 6   Volume     1259 non-null   int64  \n",
      "dtypes: float64(5), int64(1), object(1)\n",
      "memory usage: 69.0+ KB\n"
     ]
    }
   ],
   "source": [
    "data_amz.info()"
   ]
  },
  {
   "cell_type": "markdown",
   "metadata": {
    "canvas": {
     "comments": [],
     "componentType": "CodeCell",
     "copiedOriginId": null,
     "diskcache": false,
     "headerColor": "transparent",
     "id": "01aee3b5-4436-4c30-86d0-1b0b3dfa1475",
     "isComponent": false,
     "name": "",
     "parents": []
    }
   },
   "source": [
    "Volume column is in int64"
   ]
  },
  {
   "cell_type": "markdown",
   "metadata": {
    "canvas": {
     "comments": [],
     "componentType": "CodeCell",
     "copiedOriginId": null,
     "diskcache": false,
     "headerColor": "transparent",
     "id": "bacfeeb5-e277-4237-9a1e-41346431e20e",
     "isComponent": false,
     "name": "",
     "parents": []
    }
   },
   "source": [
    "**Convert volume column to float64**"
   ]
  },
  {
   "cell_type": "code",
   "execution_count": 6,
   "metadata": {
    "canvas": {
     "comments": [],
     "componentType": "CodeCell",
     "copiedOriginId": null,
     "diskcache": false,
     "headerColor": "transparent",
     "id": "de6e085c-efab-46cb-ab07-342bacfca5df",
     "isComponent": false,
     "name": "",
     "parents": []
    }
   },
   "outputs": [
    {
     "data": {
      "text/plain": [
       "Date          object\n",
       "Open         float64\n",
       "High         float64\n",
       "Low          float64\n",
       "Close        float64\n",
       "Adj Close    float64\n",
       "Volume       float64\n",
       "dtype: object"
      ]
     },
     "execution_count": 6,
     "metadata": {},
     "output_type": "execute_result"
    }
   ],
   "source": [
    "data_amz.Volume= data_amz.Volume.astype('float64')\n",
    "data_amz.dtypes"
   ]
  },
  {
   "cell_type": "markdown",
   "metadata": {
    "canvas": {
     "comments": [],
     "componentType": "CodeCell",
     "copiedOriginId": null,
     "diskcache": false,
     "headerColor": "transparent",
     "id": "474e89ae-509d-45f3-86a1-6022ef1e1207",
     "isComponent": false,
     "name": "",
     "parents": []
    }
   },
   "source": [
    "**Convert all columns to lower case**"
   ]
  },
  {
   "cell_type": "code",
   "execution_count": 7,
   "metadata": {
    "canvas": {
     "comments": [],
     "componentType": "CodeCell",
     "copiedOriginId": null,
     "diskcache": false,
     "headerColor": "transparent",
     "id": "dbe8ae89-4e11-447e-933d-efb99c3f277f",
     "isComponent": false,
     "name": "",
     "parents": []
    }
   },
   "outputs": [],
   "source": [
    "data_amz.columns = data_amz.columns.str.lower()"
   ]
  },
  {
   "cell_type": "code",
   "execution_count": 8,
   "metadata": {
    "canvas": {
     "comments": [],
     "componentType": "CodeCell",
     "copiedOriginId": null,
     "diskcache": false,
     "headerColor": "transparent",
     "id": "a78bf5e3-1f66-454b-b10c-5b70c3832a1d",
     "isComponent": false,
     "name": "",
     "parents": []
    }
   },
   "outputs": [
    {
     "data": {
      "text/html": [
       "<div>\n",
       "<style scoped>\n",
       "    .dataframe tbody tr th:only-of-type {\n",
       "        vertical-align: middle;\n",
       "    }\n",
       "\n",
       "    .dataframe tbody tr th {\n",
       "        vertical-align: top;\n",
       "    }\n",
       "\n",
       "    .dataframe thead th {\n",
       "        text-align: right;\n",
       "    }\n",
       "</style>\n",
       "<table border=\"1\" class=\"dataframe\">\n",
       "  <thead>\n",
       "    <tr style=\"text-align: right;\">\n",
       "      <th></th>\n",
       "      <th>date</th>\n",
       "      <th>open</th>\n",
       "      <th>high</th>\n",
       "      <th>low</th>\n",
       "      <th>close</th>\n",
       "      <th>adj close</th>\n",
       "      <th>volume</th>\n",
       "    </tr>\n",
       "  </thead>\n",
       "  <tbody>\n",
       "    <tr>\n",
       "      <th>0</th>\n",
       "      <td>2018-12-06</td>\n",
       "      <td>80.743500</td>\n",
       "      <td>85.052498</td>\n",
       "      <td>80.492500</td>\n",
       "      <td>84.959503</td>\n",
       "      <td>84.959503</td>\n",
       "      <td>175788000.0</td>\n",
       "    </tr>\n",
       "    <tr>\n",
       "      <th>1</th>\n",
       "      <td>2018-12-07</td>\n",
       "      <td>85.253502</td>\n",
       "      <td>85.946503</td>\n",
       "      <td>81.273003</td>\n",
       "      <td>81.456497</td>\n",
       "      <td>81.456497</td>\n",
       "      <td>151522000.0</td>\n",
       "    </tr>\n",
       "    <tr>\n",
       "      <th>2</th>\n",
       "      <td>2018-12-10</td>\n",
       "      <td>81.192001</td>\n",
       "      <td>82.899498</td>\n",
       "      <td>79.543503</td>\n",
       "      <td>82.051498</td>\n",
       "      <td>82.051498</td>\n",
       "      <td>149896000.0</td>\n",
       "    </tr>\n",
       "    <tr>\n",
       "      <th>3</th>\n",
       "      <td>2018-12-11</td>\n",
       "      <td>83.900002</td>\n",
       "      <td>83.973503</td>\n",
       "      <td>80.980003</td>\n",
       "      <td>82.162003</td>\n",
       "      <td>82.162003</td>\n",
       "      <td>124894000.0</td>\n",
       "    </tr>\n",
       "    <tr>\n",
       "      <th>4</th>\n",
       "      <td>2018-12-12</td>\n",
       "      <td>83.449997</td>\n",
       "      <td>85.249496</td>\n",
       "      <td>83.013496</td>\n",
       "      <td>83.177002</td>\n",
       "      <td>83.177002</td>\n",
       "      <td>131960000.0</td>\n",
       "    </tr>\n",
       "  </tbody>\n",
       "</table>\n",
       "</div>"
      ],
      "text/plain": [
       "         date       open       high        low      close  adj close  \\\n",
       "0  2018-12-06  80.743500  85.052498  80.492500  84.959503  84.959503   \n",
       "1  2018-12-07  85.253502  85.946503  81.273003  81.456497  81.456497   \n",
       "2  2018-12-10  81.192001  82.899498  79.543503  82.051498  82.051498   \n",
       "3  2018-12-11  83.900002  83.973503  80.980003  82.162003  82.162003   \n",
       "4  2018-12-12  83.449997  85.249496  83.013496  83.177002  83.177002   \n",
       "\n",
       "        volume  \n",
       "0  175788000.0  \n",
       "1  151522000.0  \n",
       "2  149896000.0  \n",
       "3  124894000.0  \n",
       "4  131960000.0  "
      ]
     },
     "execution_count": 8,
     "metadata": {},
     "output_type": "execute_result"
    }
   ],
   "source": [
    "data_amz.head()"
   ]
  },
  {
   "cell_type": "markdown",
   "metadata": {
    "canvas": {
     "comments": [],
     "componentType": "CodeCell",
     "copiedOriginId": null,
     "diskcache": false,
     "headerColor": "transparent",
     "id": "b07abada-a09c-4790-997a-439a6c0a5ed6",
     "isComponent": false,
     "name": "",
     "parents": []
    }
   },
   "source": [
    "**Rename the data column as  timestamp to fit it zipline**"
   ]
  },
  {
   "cell_type": "code",
   "execution_count": 9,
   "metadata": {
    "canvas": {
     "comments": [],
     "componentType": "CodeCell",
     "copiedOriginId": null,
     "diskcache": false,
     "headerColor": "transparent",
     "id": "fe8ccb63-9555-4f6e-b6c8-697f755f0069",
     "isComponent": false,
     "name": "",
     "parents": []
    }
   },
   "outputs": [],
   "source": [
    "data_amz = data_amz.rename(columns={\"date\" : \"timestamp\"})"
   ]
  },
  {
   "cell_type": "code",
   "execution_count": 10,
   "metadata": {
    "canvas": {
     "comments": [],
     "componentType": "CodeCell",
     "copiedOriginId": null,
     "diskcache": false,
     "headerColor": "transparent",
     "id": "e5d21208-bbf5-4419-98c4-fe154ecfc122",
     "isComponent": false,
     "name": "",
     "parents": []
    }
   },
   "outputs": [
    {
     "data": {
      "text/html": [
       "<div>\n",
       "<style scoped>\n",
       "    .dataframe tbody tr th:only-of-type {\n",
       "        vertical-align: middle;\n",
       "    }\n",
       "\n",
       "    .dataframe tbody tr th {\n",
       "        vertical-align: top;\n",
       "    }\n",
       "\n",
       "    .dataframe thead th {\n",
       "        text-align: right;\n",
       "    }\n",
       "</style>\n",
       "<table border=\"1\" class=\"dataframe\">\n",
       "  <thead>\n",
       "    <tr style=\"text-align: right;\">\n",
       "      <th></th>\n",
       "      <th>timestamp</th>\n",
       "      <th>open</th>\n",
       "      <th>high</th>\n",
       "      <th>low</th>\n",
       "      <th>close</th>\n",
       "      <th>adj close</th>\n",
       "      <th>volume</th>\n",
       "    </tr>\n",
       "  </thead>\n",
       "  <tbody>\n",
       "    <tr>\n",
       "      <th>0</th>\n",
       "      <td>2018-12-06</td>\n",
       "      <td>80.743500</td>\n",
       "      <td>85.052498</td>\n",
       "      <td>80.492500</td>\n",
       "      <td>84.959503</td>\n",
       "      <td>84.959503</td>\n",
       "      <td>175788000.0</td>\n",
       "    </tr>\n",
       "    <tr>\n",
       "      <th>1</th>\n",
       "      <td>2018-12-07</td>\n",
       "      <td>85.253502</td>\n",
       "      <td>85.946503</td>\n",
       "      <td>81.273003</td>\n",
       "      <td>81.456497</td>\n",
       "      <td>81.456497</td>\n",
       "      <td>151522000.0</td>\n",
       "    </tr>\n",
       "    <tr>\n",
       "      <th>2</th>\n",
       "      <td>2018-12-10</td>\n",
       "      <td>81.192001</td>\n",
       "      <td>82.899498</td>\n",
       "      <td>79.543503</td>\n",
       "      <td>82.051498</td>\n",
       "      <td>82.051498</td>\n",
       "      <td>149896000.0</td>\n",
       "    </tr>\n",
       "    <tr>\n",
       "      <th>3</th>\n",
       "      <td>2018-12-11</td>\n",
       "      <td>83.900002</td>\n",
       "      <td>83.973503</td>\n",
       "      <td>80.980003</td>\n",
       "      <td>82.162003</td>\n",
       "      <td>82.162003</td>\n",
       "      <td>124894000.0</td>\n",
       "    </tr>\n",
       "    <tr>\n",
       "      <th>4</th>\n",
       "      <td>2018-12-12</td>\n",
       "      <td>83.449997</td>\n",
       "      <td>85.249496</td>\n",
       "      <td>83.013496</td>\n",
       "      <td>83.177002</td>\n",
       "      <td>83.177002</td>\n",
       "      <td>131960000.0</td>\n",
       "    </tr>\n",
       "  </tbody>\n",
       "</table>\n",
       "</div>"
      ],
      "text/plain": [
       "    timestamp       open       high        low      close  adj close  \\\n",
       "0  2018-12-06  80.743500  85.052498  80.492500  84.959503  84.959503   \n",
       "1  2018-12-07  85.253502  85.946503  81.273003  81.456497  81.456497   \n",
       "2  2018-12-10  81.192001  82.899498  79.543503  82.051498  82.051498   \n",
       "3  2018-12-11  83.900002  83.973503  80.980003  82.162003  82.162003   \n",
       "4  2018-12-12  83.449997  85.249496  83.013496  83.177002  83.177002   \n",
       "\n",
       "        volume  \n",
       "0  175788000.0  \n",
       "1  151522000.0  \n",
       "2  149896000.0  \n",
       "3  124894000.0  \n",
       "4  131960000.0  "
      ]
     },
     "execution_count": 10,
     "metadata": {},
     "output_type": "execute_result"
    }
   ],
   "source": [
    "data_amz.head()"
   ]
  },
  {
   "cell_type": "code",
   "execution_count": 11,
   "metadata": {
    "canvas": {
     "comments": [],
     "componentType": "CodeCell",
     "copiedOriginId": null,
     "diskcache": false,
     "headerColor": "transparent",
     "id": "ad3ef4ca-1242-4135-bb3c-382f18a609dc",
     "isComponent": false,
     "name": "",
     "parents": []
    }
   },
   "outputs": [
    {
     "data": {
      "text/html": [
       "<div>\n",
       "<style scoped>\n",
       "    .dataframe tbody tr th:only-of-type {\n",
       "        vertical-align: middle;\n",
       "    }\n",
       "\n",
       "    .dataframe tbody tr th {\n",
       "        vertical-align: top;\n",
       "    }\n",
       "\n",
       "    .dataframe thead th {\n",
       "        text-align: right;\n",
       "    }\n",
       "</style>\n",
       "<table border=\"1\" class=\"dataframe\">\n",
       "  <thead>\n",
       "    <tr style=\"text-align: right;\">\n",
       "      <th></th>\n",
       "      <th>open</th>\n",
       "      <th>high</th>\n",
       "      <th>low</th>\n",
       "      <th>close</th>\n",
       "      <th>adj close</th>\n",
       "      <th>volume</th>\n",
       "    </tr>\n",
       "    <tr>\n",
       "      <th>timestamp</th>\n",
       "      <th></th>\n",
       "      <th></th>\n",
       "      <th></th>\n",
       "      <th></th>\n",
       "      <th></th>\n",
       "      <th></th>\n",
       "    </tr>\n",
       "  </thead>\n",
       "  <tbody>\n",
       "    <tr>\n",
       "      <th>2018-12-06</th>\n",
       "      <td>80.743500</td>\n",
       "      <td>85.052498</td>\n",
       "      <td>80.492500</td>\n",
       "      <td>84.959503</td>\n",
       "      <td>84.959503</td>\n",
       "      <td>175788000.0</td>\n",
       "    </tr>\n",
       "    <tr>\n",
       "      <th>2018-12-07</th>\n",
       "      <td>85.253502</td>\n",
       "      <td>85.946503</td>\n",
       "      <td>81.273003</td>\n",
       "      <td>81.456497</td>\n",
       "      <td>81.456497</td>\n",
       "      <td>151522000.0</td>\n",
       "    </tr>\n",
       "    <tr>\n",
       "      <th>2018-12-10</th>\n",
       "      <td>81.192001</td>\n",
       "      <td>82.899498</td>\n",
       "      <td>79.543503</td>\n",
       "      <td>82.051498</td>\n",
       "      <td>82.051498</td>\n",
       "      <td>149896000.0</td>\n",
       "    </tr>\n",
       "    <tr>\n",
       "      <th>2018-12-11</th>\n",
       "      <td>83.900002</td>\n",
       "      <td>83.973503</td>\n",
       "      <td>80.980003</td>\n",
       "      <td>82.162003</td>\n",
       "      <td>82.162003</td>\n",
       "      <td>124894000.0</td>\n",
       "    </tr>\n",
       "    <tr>\n",
       "      <th>2018-12-12</th>\n",
       "      <td>83.449997</td>\n",
       "      <td>85.249496</td>\n",
       "      <td>83.013496</td>\n",
       "      <td>83.177002</td>\n",
       "      <td>83.177002</td>\n",
       "      <td>131960000.0</td>\n",
       "    </tr>\n",
       "  </tbody>\n",
       "</table>\n",
       "</div>"
      ],
      "text/plain": [
       "                 open       high        low      close  adj close       volume\n",
       "timestamp                                                                     \n",
       "2018-12-06  80.743500  85.052498  80.492500  84.959503  84.959503  175788000.0\n",
       "2018-12-07  85.253502  85.946503  81.273003  81.456497  81.456497  151522000.0\n",
       "2018-12-10  81.192001  82.899498  79.543503  82.051498  82.051498  149896000.0\n",
       "2018-12-11  83.900002  83.973503  80.980003  82.162003  82.162003  124894000.0\n",
       "2018-12-12  83.449997  85.249496  83.013496  83.177002  83.177002  131960000.0"
      ]
     },
     "execution_count": 11,
     "metadata": {},
     "output_type": "execute_result"
    }
   ],
   "source": [
    "data_amz.set_index('timestamp',inplace=True)\n",
    "data_amz.head()"
   ]
  },
  {
   "cell_type": "code",
   "execution_count": 12,
   "metadata": {
    "canvas": {
     "comments": [],
     "componentType": "CodeCell",
     "copiedOriginId": null,
     "diskcache": false,
     "headerColor": "transparent",
     "id": "e117bc98-399f-4247-93d4-1cbf901c8370",
     "isComponent": false,
     "name": "",
     "parents": []
    }
   },
   "outputs": [],
   "source": [
    "data_amz.to_csv('custom_data/daily/amazon.csv')"
   ]
  },
  {
   "cell_type": "code",
   "execution_count": 13,
   "metadata": {
    "canvas": {
     "comments": [],
     "componentType": "CodeCell",
     "copiedOriginId": null,
     "diskcache": false,
     "headerColor": "transparent",
     "id": "05302057-2e92-4da8-bbb1-a0bf9e9b7a18",
     "isComponent": false,
     "name": "",
     "parents": []
    }
   },
   "outputs": [
    {
     "name": "stdout",
     "output_type": "stream",
     "text": [
      "amazon_yfinance 2023-12-08 07:05:35.146127\n",
      "csvdir <no ingestions>\n",
      "quandl 2023-11-29 14:09:18.799451\n",
      "quandl 2023-11-29 14:07:32.423012\n",
      "quandl 2023-11-29 12:39:15.374615\n",
      "quandl 2023-11-29 12:05:56.774662\n",
      "quandl 2023-11-29 10:27:35.030664\n",
      "quantopian-quandl 2023-11-30 02:02:00.355768\n",
      "quantopian-quandl 2023-11-30 01:12:56.278980\n",
      "quantopian-quandl 2023-11-30 01:11:49.450274\n",
      "quantopian-quandl 2023-11-29 14:06:08.862893\n",
      "quantopian-quandl 2023-11-29 13:55:59.391084\n",
      "quantopian-quandl 2023-11-29 12:17:04.159981\n",
      "quantopian-quandl 2023-11-29 10:27:07.529834\n",
      "quantopian-quandl 2023-11-29 10:14:48.887188\n"
     ]
    }
   ],
   "source": [
    "!zipline bundles;"
   ]
  },
  {
   "cell_type": "code",
   "execution_count": 14,
   "metadata": {
    "canvas": {
     "comments": [],
     "componentType": "CodeCell",
     "copiedOriginId": null,
     "diskcache": false,
     "headerColor": "transparent",
     "id": "c8cd0335-28d7-4011-907f-a449af0595eb",
     "isComponent": false,
     "name": "",
     "parents": []
    }
   },
   "outputs": [],
   "source": [
    "# !zipline ingest -b amazon_yfinance"
   ]
  },
  {
   "cell_type": "code",
   "execution_count": 15,
   "metadata": {
    "canvas": {
     "comments": [],
     "componentType": "CodeCell",
     "copiedOriginId": null,
     "diskcache": false,
     "headerColor": "transparent",
     "id": "cc6ed78f-e830-44cd-bf5b-b3187afd7dd2",
     "isComponent": false,
     "name": "",
     "parents": []
    }
   },
   "outputs": [],
   "source": [
    "symb = 'amazon'\n",
    "calendar = get_calendar('XNYS')\n",
    "capital_base = 10000\n",
    "short_window = 100\n",
    "long_window = 300\n",
    "\n",
    "def initialize(context):\n",
    "    context.i = 0\n",
    "    context.asset = symbol(symb)\n",
    "    set_benchmark(symbol(symb))\n",
    "\n",
    "\n",
    "\n",
    "def handle_data(context, data):\n",
    "    # Skip first 300 days to get full windows\n",
    "    context.i += 1\n",
    "    if context.i < max(short_window, long_window):\n",
    "        return\n",
    "\n",
    "    # Compute averages\n",
    "    # data.history() has to be called with the same params\n",
    "    # from above and returns a pandas dataframe.\n",
    "    short_mavg = data.history(context.asset, 'price', bar_count=30, frequency=\"1d\").ewm(span=short_window, adjust=True).mean()[-1]\n",
    "    long_mavg = data.history(context.asset, 'price', bar_count=110, frequency=\"1d\").ewm(span=long_window, adjust=True).mean()[-1]\n",
    "\n",
    "    open_orders = get_open_orders()\n",
    "\n",
    "    if context.asset not in open_orders:\n",
    "        # Trading logic\n",
    "        if short_mavg > long_mavg:\n",
    "            # order_target orders as many shares as needed to\n",
    "            # achieve the desired number of shares.\n",
    "            order_target(context.asset, 100)\n",
    "        elif short_mavg < long_mavg:\n",
    "            order_target(context.asset, 0)"
   ]
  },
  {
   "cell_type": "code",
   "execution_count": 16,
   "metadata": {
    "canvas": {
     "comments": [],
     "componentType": "CodeCell",
     "copiedOriginId": null,
     "diskcache": false,
     "headerColor": "transparent",
     "id": "d1e0fb07-da6a-4acf-a4e6-d831d85378d0",
     "isComponent": false,
     "name": "",
     "parents": []
    }
   },
   "outputs": [],
   "source": [
    "def rolling_sharpe(ret):\n",
    "    return np.multiply(np.divide(ret.mean(), ret.std()), np.sqrt(252))\n",
    "\n",
    "def get_rolling_stats(result, r_window):\n",
    "    result[\"rolling_sharpe\"] = result[\"portfolio_value\"].pct_change().rolling(r_window).apply(rolling_sharpe)\n",
    "    result[\"rolling_vol\"] = result[\"portfolio_value\"].pct_change().rolling(r_window).std()\n",
    "    stats = [result.rolling_sharpe.mean(), result.portfolio_value.mean(), result.rolling_vol.mean()]\n",
    "    return result, stats\n",
    "\n",
    "def show_rolling_stats(result, r_window):\n",
    "    result, stats = get_rolling_stats(result, r_window)\n",
    "    fig, ax = plt.subplots(1, 3, figsize=(18,4))\n",
    "    result['rolling_sharpe'].plot(ax = ax[0], title='Rolling sharpe')\n",
    "    result['rolling_vol'].plot(ax = ax[1], title='Rolling vol')\n",
    "    result['portfolio_value'].plot(ax = ax[2], title='Portfolio value')\n",
    "    plt.show()\n",
    "    return result"
   ]
  },
  {
   "cell_type": "code",
   "execution_count": 17,
   "metadata": {
    "canvas": {
     "comments": [],
     "componentType": "CodeCell",
     "copiedOriginId": null,
     "diskcache": false,
     "headerColor": "transparent",
     "id": "4234a71a-560c-4b87-9fc3-bda1d071532a",
     "isComponent": false,
     "name": "",
     "parents": []
    }
   },
   "outputs": [],
   "source": [
    "%%capture\n",
    "\n",
    "start_date = pd.to_datetime('2019-06-01', format='%Y-%m-%d')\n",
    "end_date = pd.to_datetime('2022-06-01', format='%Y-%m-%d')\n",
    "\n",
    "result_2010_onward = run_algorithm(\n",
    "    start= start_date,\n",
    "    end = end_date,\n",
    "    initialize=initialize,\n",
    "    handle_data=handle_data,\n",
    "    capital_base=capital_base,\n",
    "    trading_calendar=calendar,\n",
    "    bundle='amazon_yfinance',\n",
    "    data_frequency='daily'\n",
    ")"
   ]
  },
  {
   "cell_type": "code",
   "execution_count": 18,
   "metadata": {
    "canvas": {
     "comments": [],
     "componentType": "CodeCell",
     "copiedOriginId": null,
     "diskcache": false,
     "headerColor": "transparent",
     "id": "f3b64371-ed40-418f-b4b6-6aaacc80cc92",
     "isComponent": false,
     "name": "",
     "parents": []
    }
   },
   "outputs": [
    {
     "data": {
      "image/png": "[encoded data removed]",
      "text/plain": [
       "<Figure size 640x480 with 1 Axes>"
      ]
     },
     "metadata": {},
     "output_type": "display_data"
    },
    {
     "data": {
      "image/png": "[encoded data removed]",
      "text/plain": [
       "<Figure size 640x480 with 1 Axes>"
      ]
     },
     "metadata": {},
     "output_type": "display_data"
    },
    {
     "data": {
      "image/png": "[encoded data removed]",
      "text/plain": [
       "<Figure size 1800x400 with 3 Axes>"
      ]
     },
     "metadata": {},
     "output_type": "display_data"
    }
   ],
   "source": [
    "result_2010_onward.portfolio_value.plot(label='Portfolio Value')\n",
    "plt.title('Portfolio Value Over Time')\n",
    "plt.show()\n",
    "result_2010_onward.sharpe.plot()\n",
    "result_2010_plot = show_rolling_stats(result_2010_onward, 180)"
   ]
  }
 ],
 "metadata": {
  "canvas": {
   "colorPalette": [
    "inherit",
    "inherit",
    "inherit",
    "inherit",
    "inherit",
    "inherit",
    "inherit",
    "inherit",
    "inherit",
    "inherit"
   ],
   "parameters": [],
   "version": "1.0"
  },
  "kernelspec": {
   "display_name": "Python 3 (ipykernel)",
   "language": "python",
   "name": "python3"
  },
  "language_info": {
   "codemirror_mode": {
    "name": "ipython",
    "version": 3
   },
   "file_extension": ".py",
   "mimetype": "text/x-python",
   "name": "python",
   "nbconvert_exporter": "python",
   "pygments_lexer": "ipython3",
   "version": "3.11.5"
  }
 },
 "nbformat": 4,
 "nbformat_minor": 4
}
