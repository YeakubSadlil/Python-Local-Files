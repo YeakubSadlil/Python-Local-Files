{
 "cells": [
  {
   "cell_type": "markdown",
   "metadata": {},
   "source": [
    "**We are learning how to define functions in python**"
   ]
  },
  {
   "cell_type": "code",
   "execution_count": 2,
   "metadata": {},
   "outputs": [
    {
     "name": "stdout",
     "output_type": "stream",
     "text": [
      "a in dollar = 500\n",
      "b in dollar = 300\n",
      "c in dollar = 600\n",
      "\n",
      "d in dollar = 800\n",
      "e in dollar = 600\n",
      "f in dollar = 800\n"
     ]
    }
   ],
   "source": [
    "a = 5 \n",
    "b = 3\n",
    "c = 6\n",
    "\n",
    "print(\"a in dollar =\",a*100)\n",
    "print(\"b in dollar =\",b*100)\n",
    "print(\"c in dollar =\",c*100)\n",
    "print()\n",
    "d,e,f = 8,6,8\n",
    "print(\"d in dollar =\",d*100)\n",
    "print(\"e in dollar =\",e*100)\n",
    "print(\"f in dollar =\",f*100)"
   ]
  },
  {
   "cell_type": "markdown",
   "metadata": {},
   "source": [
    "# Function that doesn't return anything"
   ]
  },
  {
   "cell_type": "code",
   "execution_count": 3,
   "metadata": {},
   "outputs": [
    {
     "name": "stdout",
     "output_type": "stream",
     "text": [
      "1 in dollar = 100\n",
      "2 in dollar = 200\n",
      "3 in dollar = 300\n",
      "\n",
      "multi 20\n"
     ]
    }
   ],
   "source": [
    "def dollerConverter(a,b,c=3):\n",
    "    print(a,\"in dollar =\",a*100)\n",
    "    print(b,\"in dollar =\",b*100)\n",
    "    print(c,\"in dollar =\",c*100)\n",
    "\n",
    "def multiplier(a,b):\n",
    "    print('multi',a*b)\n",
    "    \n",
    "# d,e,f = map(int,input().split())\n",
    "# dollerConverter(d,e,f)\n",
    "# print()\n",
    "x,y,z = 1,2,5\n",
    "dollerConverter(x,y)\n",
    "print()\n",
    "multiplier(4,5)"
   ]
  },
  {
   "cell_type": "markdown",
   "metadata": {},
   "source": [
    "# Function that return something"
   ]
  },
  {
   "cell_type": "code",
   "execution_count": 2,
   "metadata": {},
   "outputs": [],
   "source": [
    "def dollerConverter(a,b,c=3):\n",
    "    a = a*100\n",
    "    b = b*100\n",
    "    c = c*100\n",
    "    return a,b,c\n",
    "\n",
    "def multiplier(a,b):\n",
    "    print('multi',a*b)"
   ]
  },
  {
   "cell_type": "code",
   "execution_count": 3,
   "metadata": {},
   "outputs": [
    {
     "name": "stdout",
     "output_type": "stream",
     "text": [
      "200\n",
      "\n",
      "multi 800\n"
     ]
    }
   ],
   "source": [
    "\n",
    "x,y,z = 1,2,5\n",
    "d,e,f = dollerConverter(x,y,z)\n",
    "print(e)\n",
    "print()\n",
    "\n",
    "multiplier(4,e)"
   ]
  }
 ],
 "metadata": {
  "kernelspec": {
   "display_name": "Python 3 (ipykernel)",
   "language": "python",
   "name": "python3"
  },
  "language_info": {
   "codemirror_mode": {
    "name": "ipython",
    "version": 3
   },
   "file_extension": ".py",
   "mimetype": "text/x-python",
   "name": "python",
   "nbconvert_exporter": "python",
   "pygments_lexer": "ipython3",
   "version": "3.9.18"
  }
 },
 "nbformat": 4,
 "nbformat_minor": 2
}
